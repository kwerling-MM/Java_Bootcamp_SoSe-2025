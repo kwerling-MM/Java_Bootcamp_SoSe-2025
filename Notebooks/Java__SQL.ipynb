{
 "cells": [
  {
   "cell_type": "markdown",
   "id": "6541fb15-01e0-4b43-b952-53a261e88e92",
   "metadata": {},
   "source": [
    "# Using Java to access SQL databases\n",
    "\n",
    "This Notebook explains how to work with relational databases from Java. The database used here is called H2, to be found here: [H2 Home Page](https://www.h2database.com/html/main.html). H2 is only one of very many different Open Source databases available for Java. \n",
    "\n",
    "The Notebook uses H2 as a library inside the Java application. But it can be used as a standalone DBMS. \n",
    "    "
   ]
  },
  {
   "cell_type": "markdown",
   "id": "e963dadf-1cc2-466d-bca3-a2e7748d8bee",
   "metadata": {},
   "source": [
    "# Getting started in Java\n",
    "\n",
    "The first thing one has to do in a Java application when working with relational databases is to import the appropriate class files:"
   ]
  },
  {
   "cell_type": "code",
   "execution_count": 18,
   "id": "653d872f-be55-43c4-be70-61ee2325e5a7",
   "metadata": {
    "vscode": {
     "languageId": "java"
    }
   },
   "outputs": [],
   "source": [
    "import java.sql.Connection;\n",
    "import java.sql.DriverManager;\n",
    "import java.sql.Statement;\n",
    "import java.sql.ResultSet;\n",
    "import java.sql.ResultSetMetaData;\n",
    "import java.sql.SQLException;\n",
    "\n",
    "import java.util.*;\n",
    "\n"
   ]
  },
  {
   "cell_type": "markdown",
   "id": "98573263-65dd-4af3-93ab-93018aeb8cb1",
   "metadata": {},
   "source": [
    "Java uses an abstraction layer, called JDBC, to work with databases. This way, the Java program can access the same methods without worrying which database it works with. JDBC loads the correct driver for the database and translates back and forth between the Java program and the database driver.\n",
    "\n",
    "In order to allow JDBC to find the driver, one needs to include the driver jar(s) into the classpath.\n"
   ]
  },
  {
   "cell_type": "code",
   "execution_count": 2,
   "id": "d8de5009-08a7-4192-97c8-5cd2db1276f5",
   "metadata": {
    "vscode": {
     "languageId": "java"
    }
   },
   "outputs": [],
   "source": [
    "%classpath libs/h2-2.3.232.jar"
   ]
  },
  {
   "cell_type": "markdown",
   "id": "ca3068eb-1537-4892-ad1b-5a4d1745b028",
   "metadata": {},
   "source": [
    "In the next cell, three variables are set up for the handling of the access to the database:\n",
    "\n",
    "| Variable name | Value | Example |\n",
    "| ------------- | ----- | ------- |\n",
    "| DB_URL        | Connection string / URL to access the Database. It is constructions like this: <br> \\<PROTOCOL\\>:\\<DATABASE DRIVER\\>:\\<Where to find the db\\>. | jdbc:h2:./dbs/orderdb\n",
    "| USER          | User accessing the db. | sa  ( = System Administrator) |\n",
    "| PASS          | Password for user, | 1234  (H2 standard password) |"
   ]
  },
  {
   "cell_type": "code",
   "execution_count": 15,
   "id": "0d809c57-e1c3-44c2-968e-69d4c55a2fab",
   "metadata": {
    "vscode": {
     "languageId": "java"
    }
   },
   "outputs": [],
   "source": [
    "String DB_URL = \"jdbc:h2:./dbs/orderdb\";\n",
    "String USER   = \"sa\";\n",
    "String PASS   = \"1234\";"
   ]
  },
  {
   "cell_type": "markdown",
   "id": "1123990d",
   "metadata": {},
   "source": [
    "The next cell shows the code on how to connect to the database (H2 in our case). One would use this setup only once in a program, and always use the connection established here. This is not possible in a Notebook. Therefore, all the Java code cells require this boilerplate code.\n",
    "\n",
    "The try statement is handling our resource, in this case the database connection, for us. It makes sure that the connection gets close, no matter if the commands were run successfully or if there happens an exception."
   ]
  },
  {
   "cell_type": "code",
   "execution_count": 4,
   "id": "ac86519d",
   "metadata": {
    "vscode": {
     "languageId": "java"
    }
   },
   "outputs": [
    {
     "name": "stdout",
     "output_type": "stream",
     "text": [
      "Successfully run the SQL statements.\n"
     ]
    }
   ],
   "source": [
    "try (Connection conn = DriverManager.getConnection(DB_URL, USER, PASS)) {\n",
    "    \n",
    "    //   <<SQL Statements to process>>\n",
    "                \n",
    "    System.out.println(\"Successfully run the SQL statements.\");\n",
    "\n",
    "} catch ( Exception ex ) {\n",
    "    System.err.println(\"ERROR: \" + ex.getMessage());\n",
    "}"
   ]
  },
  {
   "cell_type": "markdown",
   "id": "d2a19971",
   "metadata": {},
   "source": [
    "The following code cell contains the helper function printFormatted. Please run it to allow its usage."
   ]
  },
  {
   "cell_type": "code",
   "execution_count": 20,
   "id": "9594e6ab",
   "metadata": {
    "vscode": {
     "languageId": "java"
    }
   },
   "outputs": [],
   "source": [
    "private String padRight(String text, int width) {\n",
    "    return String.format(\"%-\" + width + \"s\", text);\n",
    "}\n",
    "\n",
    "public void printFormatted(ResultSet rs) throws SQLException {\n",
    "    ResultSetMetaData meta = rs.getMetaData();\n",
    "    int columnCount = meta.getColumnCount();\n",
    "\n",
    "    // Schritt 1: Spaltennamen und Daten zwischenspeichern\n",
    "    List<String[]> rows = new ArrayList<>();\n",
    "    int[] maxWidths = new int[columnCount];\n",
    "\n",
    "    // Spaltennamen in erste Zeile speichern und Breiten ermitteln\n",
    "    String[] header = new String[columnCount];\n",
    "    for (int i = 1; i <= columnCount; i++) {\n",
    "        header[i - 1] = meta.getColumnLabel(i);\n",
    "        maxWidths[i - 1] = header[i - 1].length();\n",
    "    }\n",
    "\n",
    "    // Daten durchlaufen und Breiten ermitteln\n",
    "    while (rs.next()) {\n",
    "        String[] row = new String[columnCount];\n",
    "        for (int i = 1; i <= columnCount; i++) {\n",
    "            String value = rs.getString(i);\n",
    "            if (value == null) value = \"NULL\";\n",
    "            row[i - 1] = value;\n",
    "            maxWidths[i - 1] = Math.max(maxWidths[i - 1], value.length());\n",
    "        }\n",
    "        rows.add(row);\n",
    "    }\n",
    "\n",
    "    // Schritt 2: Ausgabe\n",
    "    // Header ausgeben\n",
    "    for (int i = 0; i < columnCount; i++) {\n",
    "        System.out.print(padRight(header[i], maxWidths[i]) + \" | \");\n",
    "    }\n",
    "    System.out.println();\n",
    "\n",
    "    // Trennlinie\n",
    "    for (int i = 0; i < columnCount; i++) {\n",
    "        System.out.print(\"-\".repeat(maxWidths[i]) + \"-+-\");\n",
    "    }\n",
    "    System.out.println();\n",
    "\n",
    "    // Datenzeilen ausgeben\n",
    "    for (String[] row : rows) {\n",
    "        for (int i = 0; i < columnCount; i++) {\n",
    "            System.out.print(padRight(row[i], maxWidths[i]) + \" | \");\n",
    "        }\n",
    "        System.out.println();\n",
    "    }\n",
    "}\n",
    "\n"
   ]
  },
  {
   "cell_type": "markdown",
   "id": "fe9891c0",
   "metadata": {},
   "source": [
    "In order to execute a SQL Statement one needs to use the Statement class. Whatever is given back from the database running the statement is then received as a Resultset. The next() call runs through all the records in the resultset. One accesses each attribute of a record by name. There is the need to know the data type of the attribute accessed.\n",
    "\n",
    "(In case of the printFormatted method, the only data type used is String, enforced by the rs.getString call.)"
   ]
  },
  {
   "cell_type": "code",
   "execution_count": 21,
   "id": "47bf152d",
   "metadata": {
    "vscode": {
     "languageId": "java"
    }
   },
   "outputs": [
    {
     "name": "stdout",
     "output_type": "stream",
     "text": [
      "ID | PRODUCTNAME                  | SUPPLIERID | UNITPRICE | PACKAGE            | ISDISCONTINUED | \n",
      "---+------------------------------+------------+-----------+--------------------+----------------+-\n",
      "1  | Chai                         | 1          | 18.00     | 10 boxes x 20 bags | FALSE          | \n",
      "2  | Chang                        | 1          | 19.00     | 24 - 12 oz bottles | FALSE          | \n",
      "4  | Chef Anton's Cajun Seasoning | 2          | 22.00     | 48 - 6 oz jars     | FALSE          | \n",
      "5  | Chef Anton's Gumbo Mix       | 2          | 21.35     | 36 boxes           | TRUE           | \n",
      "18 | Carnarvon Tigers             | 7          | 62.50     | 16 kg pkg.         | FALSE          | \n",
      "38 | Côte de Blaye                | 18         | 263.50    | 12 - 75 cl bottles | FALSE          | \n",
      "39 | Chartreuse verte             | 18         | 18.00     | 750 cc per bottle  | FALSE          | \n",
      "48 | Chocolade                    | 22         | 12.75     | 10 pkgs.           | FALSE          | \n",
      "60 | Camembert Pierrot            | 28         | 34.00     | 15 - 300 g rounds  | FALSE          | \n",
      "Successfully run the SQL statements.\n"
     ]
    }
   ],
   "source": [
    "void get_10_C_Products(Connection conn) throws java.sql.SQLException {\n",
    "    final String QUERY = \"SELECT * FROM Products where ProductName like 'C%' Limit 10;\";\n",
    "    try(Statement stmt = conn.createStatement()) {\n",
    "        ResultSet rs = stmt.executeQuery(QUERY);\n",
    "        printFormatted(rs);\n",
    "    }\n",
    "    return;\n",
    "}\n",
    "\n",
    "try (Connection conn = DriverManager.getConnection(DB_URL, USER, PASS)) {\n",
    "    \n",
    "    get_10_C_Products(conn);\n",
    "                \n",
    "    System.out.println(\"Successfully run the SQL statements.\");\n",
    "\n",
    "} catch ( Exception ex ) {\n",
    "    System.err.println(\"ERROR: \" + ex.getMessage());\n",
    "}"
   ]
  },
  {
   "cell_type": "markdown",
   "id": "56a9e68a",
   "metadata": {},
   "source": [
    "# Avoiding SQL-Injections\n",
    "\n",
    "## Insecure construction of SQL Statement\n",
    "\n",
    "Let's say one wants to select a Customer with a specific last name from the customers table.\n",
    "\n",
    "> String customerName = \"' OR '1'='1\"; // <-- this is the attack input <br>\n",
    "String sql = \"SELECT * FROM Customers WHERE lastname = '\" + customerName + \"'\";\n",
    "\n",
    "Here, the final Strings looks like this:\n",
    "\n",
    "> SELECT * FROM Customers WHERE lastname = '' OR '1'='1';\n",
    "\n",
    "This matches all records! \n",
    "\n",
    "Imagine this:\n",
    "\n",
    "> String customerName = \"'; Drop Table Customers; Commit;\"; // <-- this is the attack input <br>\n",
    "\n",
    "**Good bye Customers table!**\n",
    "\n",
    "## The safe way\n",
    "\n",
    "In order to prevent this, one uses PreparedStatements:\n",
    "\n",
    "> String customerName = \"' OR '1'='1\"; // same input <br>\n",
    "String sql = \"SELECT * FROM Customers WHERE customerName = ?\"; <br> <br>\n",
    "PreparedStatement stmt = connection.prepareStatement(sql);<br>\n",
    "stmt.setString(1, customerName);<br> <br>\n",
    "ResultSet rs = stmt.executeQuery();\n",
    "\n",
    "The SQL statement in this case looks similar to this:  \n",
    "\n",
    "> SELECT * FROM Customers WHERE lastname = '\\' OR \\'1\\'=\\'1';\n",
    "\n",
    "The Preparedstatement masks all the apostrophes and double quotes, so that the parameter passed into the Preparedstatement is taken as a single string. No chances to inject other statements.\n"
   ]
  },
  {
   "cell_type": "markdown",
   "id": "f2989568",
   "metadata": {},
   "source": [
    "# ORM\n",
    "\n",
    "ORM stands for Object-Relational Mapping.\n",
    "\n",
    "It is a programming technique that allows developers to interact with a relational database using objects instead of writing raw SQL.\n",
    "\n",
    "An ORM maps:\n",
    "\n",
    "* Database tables → Classes\n",
    "\n",
    "* Table rows → Objects\n",
    "\n",
    "* Table columns → Object fields"
   ]
  },
  {
   "cell_type": "markdown",
   "id": "f5e99cdc",
   "metadata": {},
   "source": [
    "<img src=\"pics/ORM_1.png\">\n",
    "<img src=\"pics/ORM_2.png\">\n",
    "<img src=\"pics/ORM_3.png\">\n",
    "<img src=\"pics/ORM_4.png\">\n",
    "<img src=\"pics/ORM_5.png\">"
   ]
  }
 ],
 "metadata": {
  "kernelspec": {
   "display_name": "Java",
   "language": "java",
   "name": "java"
  },
  "language_info": {
   "codemirror_mode": "java",
   "file_extension": ".jshell",
   "mimetype": "text/x-java-source",
   "name": "Java",
   "pygments_lexer": "java",
   "version": "23.0.2+7-58"
  }
 },
 "nbformat": 4,
 "nbformat_minor": 5
}
