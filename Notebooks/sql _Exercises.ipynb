{
 "cells": [
  {
   "cell_type": "markdown",
   "id": "4d6aeb45-0908-4445-baf1-59d977dbbae1",
   "metadata": {},
   "source": [
    "# SQL training Notebook for programmer\n",
    "\n",
    "* This Notebook provides a solid SQL training. It works based on a SQLite database. SQLite is a widely used database. As Android uses it and the web browsers also rely on it, the number of actively used instances goes into the billions.\n",
    "\n",
    "* After running the initialization cell, one can work on the exercises in any order. All the solutions are independent of each other.\n",
    "\n",
    "* You will get a description of the exercise you have to solve in an SQL statement. The solution cell - where you enter your answer - has the starting SQL statement, which you will modify / enrich to provide the solution.\n",
    "\n",
    "* Each exercise contains the resulting table expected to be produced by your solution.\n",
    "\n",
    "* This Notebook focuses on the SELECT SQL statement (DQL), as this is the most used one in a program:\n"
   ]
  },
  {
   "cell_type": "markdown",
   "id": "06ac4f41-0040-4b75-9214-da023981a68a",
   "metadata": {},
   "source": [
    "## Initialization\n",
    "\n",
    "Please run the cell below this one to initialize the notebook. After that, you are free to pick and choose the tasks you want to work on in any order."
   ]
  },
  {
   "cell_type": "code",
   "execution_count": 44,
   "id": "704b2f17-9174-41b3-9e6c-b37979f09dae",
   "metadata": {},
   "outputs": [
    {
     "name": "stdout",
     "output_type": "stream",
     "text": [
      "The sql extension is already loaded. To reload it, use:\n",
      "  %reload_ext sql\n",
      "Initialized\n"
     ]
    }
   ],
   "source": [
    "%load_ext sql\n",
    "\n",
    "%config SqlMagic.style = '_DEPRECATED_DEFAULT'\n",
    "\n",
    "%sql sqlite:///dbs/orderdb.sqlite\n",
    "\n",
    "print('Initialized')"
   ]
  },
  {
   "cell_type": "markdown",
   "id": "f753f09a-c72f-4e69-b20b-9cf8242e087a",
   "metadata": {},
   "source": [
    "When you run the next cell, you should see this output:\n",
    "\n",
    "<img src=\"pics/sql-db-table-list.png\">\n",
    "\n",
    "The PRAGMA command used is SQLite specific. This does not work with any other database.\n",
    "\n",
    "**If this is not the case, then the database did not load correctly. The consequence of this is that you cannot run the following exercises.**"
   ]
  },
  {
   "cell_type": "code",
   "execution_count": 45,
   "id": "7214ff62-9043-4caf-b0b7-277110565e91",
   "metadata": {},
   "outputs": [
    {
     "name": "stdout",
     "output_type": "stream",
     "text": [
      " * sqlite:///dbs/orderdb.sqlite\n",
      "Done.\n"
     ]
    },
    {
     "data": {
      "text/html": [
       "<table>\n",
       "    <thead>\n",
       "        <tr>\n",
       "            <th>schema</th>\n",
       "            <th>name</th>\n",
       "            <th>type</th>\n",
       "            <th>ncol</th>\n",
       "            <th>wr</th>\n",
       "            <th>strict</th>\n",
       "        </tr>\n",
       "    </thead>\n",
       "    <tbody>\n",
       "        <tr>\n",
       "            <td>main</td>\n",
       "            <td>Student</td>\n",
       "            <td>table</td>\n",
       "            <td>3</td>\n",
       "            <td>0</td>\n",
       "            <td>0</td>\n",
       "        </tr>\n",
       "        <tr>\n",
       "            <td>main</td>\n",
       "            <td>Suppliers</td>\n",
       "            <td>table</td>\n",
       "            <td>8</td>\n",
       "            <td>0</td>\n",
       "            <td>0</td>\n",
       "        </tr>\n",
       "        <tr>\n",
       "            <td>main</td>\n",
       "            <td>Products</td>\n",
       "            <td>table</td>\n",
       "            <td>6</td>\n",
       "            <td>0</td>\n",
       "            <td>0</td>\n",
       "        </tr>\n",
       "        <tr>\n",
       "            <td>main</td>\n",
       "            <td>OrderItems</td>\n",
       "            <td>table</td>\n",
       "            <td>5</td>\n",
       "            <td>0</td>\n",
       "            <td>0</td>\n",
       "        </tr>\n",
       "        <tr>\n",
       "            <td>main</td>\n",
       "            <td>Orders</td>\n",
       "            <td>table</td>\n",
       "            <td>5</td>\n",
       "            <td>0</td>\n",
       "            <td>0</td>\n",
       "        </tr>\n",
       "        <tr>\n",
       "            <td>main</td>\n",
       "            <td>Customers</td>\n",
       "            <td>table</td>\n",
       "            <td>6</td>\n",
       "            <td>0</td>\n",
       "            <td>0</td>\n",
       "        </tr>\n",
       "        <tr>\n",
       "            <td>main</td>\n",
       "            <td>sqlite_schema</td>\n",
       "            <td>table</td>\n",
       "            <td>5</td>\n",
       "            <td>0</td>\n",
       "            <td>0</td>\n",
       "        </tr>\n",
       "        <tr>\n",
       "            <td>temp</td>\n",
       "            <td>sqlite_temp_schema</td>\n",
       "            <td>table</td>\n",
       "            <td>5</td>\n",
       "            <td>0</td>\n",
       "            <td>0</td>\n",
       "        </tr>\n",
       "    </tbody>\n",
       "</table>"
      ],
      "text/plain": [
       "[('main', 'Student', 'table', 3, 0, 0),\n",
       " ('main', 'Suppliers', 'table', 8, 0, 0),\n",
       " ('main', 'Products', 'table', 6, 0, 0),\n",
       " ('main', 'OrderItems', 'table', 5, 0, 0),\n",
       " ('main', 'Orders', 'table', 5, 0, 0),\n",
       " ('main', 'Customers', 'table', 6, 0, 0),\n",
       " ('main', 'sqlite_schema', 'table', 5, 0, 0),\n",
       " ('temp', 'sqlite_temp_schema', 'table', 5, 0, 0)]"
      ]
     },
     "execution_count": 45,
     "metadata": {},
     "output_type": "execute_result"
    }
   ],
   "source": [
    "%sql PRAGMA table_list"
   ]
  },
  {
   "cell_type": "markdown",
   "id": "66474621-af43-4a10-9773-6f61351a5bb9",
   "metadata": {},
   "source": [
    "And another verification:  The list of the tables in the db and the number of records contained in them. The result should look like this in order to assure working with the correct db:\n",
    "\n",
    "<img src=\"pics/sql-db-num-records.png\">\n",
    "\n",
    "There is no need right now to understand the SELECT statement just now. It will become more clear along the exercises in this notebook. At the moment, just verify the results."
   ]
  },
  {
   "cell_type": "code",
   "execution_count": 46,
   "id": "fa2c9d7d-337d-46d3-a480-ce76d7e93d7a",
   "metadata": {},
   "outputs": [
    {
     "name": "stdout",
     "output_type": "stream",
     "text": [
      " * sqlite:///dbs/orderdb.sqlite\n",
      "Done.\n"
     ]
    },
    {
     "data": {
      "text/html": [
       "<table>\n",
       "    <thead>\n",
       "        <tr>\n",
       "            <th>Tablename</th>\n",
       "            <th>Number_of_Records</th>\n",
       "        </tr>\n",
       "    </thead>\n",
       "    <tbody>\n",
       "        <tr>\n",
       "            <td>Customers</td>\n",
       "            <td>91</td>\n",
       "        </tr>\n",
       "        <tr>\n",
       "            <td>OrderItems</td>\n",
       "            <td>2155</td>\n",
       "        </tr>\n",
       "        <tr>\n",
       "            <td>Orders</td>\n",
       "            <td>830</td>\n",
       "        </tr>\n",
       "        <tr>\n",
       "            <td>Products</td>\n",
       "            <td>78</td>\n",
       "        </tr>\n",
       "        <tr>\n",
       "            <td>Suppliers</td>\n",
       "            <td>31</td>\n",
       "        </tr>\n",
       "    </tbody>\n",
       "</table>"
      ],
      "text/plain": [
       "[('Customers', 91),\n",
       " ('OrderItems', 2155),\n",
       " ('Orders', 830),\n",
       " ('Products', 78),\n",
       " ('Suppliers', 31)]"
      ]
     },
     "execution_count": 46,
     "metadata": {},
     "output_type": "execute_result"
    }
   ],
   "source": [
    "%%sql\n",
    "SELECT 'Customers'  Tablename, COUNT(*) Number_of_Records FROM Customers \n",
    "UNION\n",
    "SELECT 'Products'  , COUNT(*) FROM Products\n",
    "UNION\n",
    "SELECT 'Suppliers'  , COUNT(*) FROM Suppliers\n",
    "UNION\n",
    "SELECT 'Orders'  , COUNT(*) FROM Orders\n",
    "UNION\n",
    "SELECT 'OrderItems'  , COUNT(*) FROM OrderItems"
   ]
  },
  {
   "cell_type": "markdown",
   "id": "c7bf6218-89e7-4f2a-b215-1b8dc481a81a",
   "metadata": {},
   "source": [
    "## Database design\n",
    "\n",
    "Here is the design of the SQLite database:\n",
    "\n",
    "<img src=\"pics/db.png\">\n",
    "\n",
    "The yellow arrows show the Foreign-Key relationship between the tables."
   ]
  },
  {
   "cell_type": "markdown",
   "id": "cf85f993-83f4-46df-9913-3a00e2fa42a6",
   "metadata": {},
   "source": [
    "## How to work with the Notebook\n",
    "\n",
    "Each exercise in this Notebook describes a problem for you to solve with a SQL SELECT statement. Below the problem description, there is the result of the correct SQL statement. This answer is either provided in the form of a string, a number or a complete table (similar to the ones above). \n",
    "\n",
    "Below the exercise, there will be a cell for the answer. Often, there is a rudimentary SELECT statement in the cell already for you to expand on."
   ]
  },
  {
   "cell_type": "markdown",
   "id": "d148bc2b-ffa3-47bb-a1ec-f54180ea0c0d",
   "metadata": {},
   "source": [
    "## SELECT statement\n",
    "The SELECT statement allows retrieving data from a db based on the criteria provided with the SELECT. It is a very powerful command, which can process very complex criteria.\n",
    "\n",
    "As you will see in the following exercises, the SELECT command allows to not only work based on one table, but it can provide results, which are a combination of the data of multiple tables. \n",
    "\n",
    "The structure of a SELECT statement looks like this:\n",
    "\n",
    "SELECT <br>\n",
    "FROM <br>\n",
    "WHERE <br>\n",
    "GROUP BY <br>\n",
    "HAVING <br>\n",
    "ORDER BY <br>\n",
    "LIMIT <br>\n",
    "\n",
    "The following exercises will introduce the different parts of the select statement to you. Each section is built like this: First, there is a short summary of the  part of the SELECT statement looked at, and then there will be exercises. Their difficulty / complexity will increase, starting with EASY, then MEDIUM, then HARD. There is no need to answer all the exercises in order to have a basic to good understanding of SQL. The idea simply is to challenge those students, who already have some SQL knowledge.\n",
    "\n",
    "This Notebook provides the resulting tables based on the provided SQLite db. We will discuss the SQL statements to solve the exercises during the lecture.\n",
    "\n",
    "As there are tables in the db with hundreds, if not thousands of entries, the exercises often ask you for the number of records found in the result set. That means, that you will have to provide the correct SQL statement and then have it count the number of found records in the dab. (How this counting is done will be covered further down.\n",
    "\n",
    "The advantage of the approach is that the required SQL statement can be constructed, but the Notebook is not containing tables with hundreds of records.\n",
    "\n",
    "Have fun!"
   ]
  },
  {
   "cell_type": "markdown",
   "id": "a4365b53-e15a-4878-a717-a77ade37fc74",
   "metadata": {},
   "source": [
    "### Select one-liners\n",
    "\n",
    "The following exercises focus on only using the SELECT keyword and none of the other parts of the SELECT statement. This is rarely used in real life, but it demonstrates an aspect seldom shown.\n",
    "\n",
    "The exercises show the following:\n",
    "\n",
    "* Use literals\n",
    "* Perform arithmetic\n",
    "* Alias columns\n",
    "* Use functions\n",
    "* Nest expressions\n",
    "\n",
    "DO NOT FORGET THE SEMICOLON AT THE END OF EACH SELECT STATEMENT!"
   ]
  },
  {
   "cell_type": "markdown",
   "id": "02fb0eb9-d49a-47cf-bad2-842b2d69d1a2",
   "metadata": {},
   "source": [
    "#### Easy"
   ]
  },
  {
   "cell_type": "markdown",
   "id": "ec236ba5-5436-44ca-82bb-df052dd94b80",
   "metadata": {},
   "source": [
    "##### Ex: A_001:\n",
    "\n",
    "Simpler than this it will will not get. Select the number 5."
   ]
  },
  {
   "cell_type": "markdown",
   "id": "605425bd",
   "metadata": {},
   "source": [
    "<img src=\"pics/A_001.png\">"
   ]
  },
  {
   "cell_type": "markdown",
   "id": "513398fc-16c7-4f23-ab95-3605b6df5e0e",
   "metadata": {},
   "source": [
    "Your answer:"
   ]
  },
  {
   "cell_type": "code",
   "execution_count": 47,
   "id": "8aed3e5f-bf14-48cc-99c3-1b98b970933f",
   "metadata": {},
   "outputs": [
    {
     "name": "stdout",
     "output_type": "stream",
     "text": [
      " * sqlite:///dbs/orderdb.sqlite\n",
      "Done.\n"
     ]
    },
    {
     "data": {
      "text/html": [
       "<table>\n",
       "    <thead>\n",
       "        <tr>\n",
       "            <th>1</th>\n",
       "        </tr>\n",
       "    </thead>\n",
       "    <tbody>\n",
       "        <tr>\n",
       "            <td>1</td>\n",
       "        </tr>\n",
       "    </tbody>\n",
       "</table>"
      ],
      "text/plain": [
       "[(1,)]"
      ]
     },
     "execution_count": 47,
     "metadata": {},
     "output_type": "execute_result"
    }
   ],
   "source": [
    "%%sql\n",
    "\n",
    "SELECT 1;"
   ]
  },
  {
   "cell_type": "markdown",
   "id": "60da1866-14b5-44af-b9e1-d55b8cd8a1a3",
   "metadata": {},
   "source": [
    "##### Ex: A_002\n",
    "\n",
    "Add 2 and 3"
   ]
  },
  {
   "cell_type": "markdown",
   "id": "fda09314",
   "metadata": {},
   "source": [
    "<img src=\"pics/A_002.png\">"
   ]
  },
  {
   "cell_type": "markdown",
   "id": "ce61a97c-4125-45a7-9e0a-1940d7f26571",
   "metadata": {},
   "source": [
    "Your answer:"
   ]
  },
  {
   "cell_type": "code",
   "execution_count": 48,
   "id": "488f32b9-fed2-4e65-ae6c-7005a40e2a3e",
   "metadata": {},
   "outputs": [
    {
     "name": "stdout",
     "output_type": "stream",
     "text": [
      " * sqlite:///dbs/orderdb.sqlite\n",
      "Done.\n"
     ]
    },
    {
     "data": {
      "text/html": [
       "<table>\n",
       "    <thead>\n",
       "        <tr>\n",
       "            <th>1</th>\n",
       "        </tr>\n",
       "    </thead>\n",
       "    <tbody>\n",
       "        <tr>\n",
       "            <td>1</td>\n",
       "        </tr>\n",
       "    </tbody>\n",
       "</table>"
      ],
      "text/plain": [
       "[(1,)]"
      ]
     },
     "execution_count": 48,
     "metadata": {},
     "output_type": "execute_result"
    }
   ],
   "source": [
    "%%sql\n",
    "SELECT 1;"
   ]
  },
  {
   "cell_type": "markdown",
   "id": "3ec300d3-0502-4f8f-9426-70e4917234f1",
   "metadata": {},
   "source": [
    "##### Ex: A_003\n",
    "\n",
    "Select the string 'Hello'"
   ]
  },
  {
   "cell_type": "markdown",
   "id": "5865b608",
   "metadata": {},
   "source": [
    "<img src=\"pics/A_003.png\">"
   ]
  },
  {
   "cell_type": "markdown",
   "id": "eadaf2f3-ec86-4b50-98bc-59eb4129676d",
   "metadata": {},
   "source": [
    "Your answer:"
   ]
  },
  {
   "cell_type": "code",
   "execution_count": 49,
   "id": "9e63ecb4-a019-4426-8687-258cdf84f0be",
   "metadata": {},
   "outputs": [
    {
     "name": "stdout",
     "output_type": "stream",
     "text": [
      " * sqlite:///dbs/orderdb.sqlite\n",
      "Done.\n"
     ]
    },
    {
     "data": {
      "text/html": [
       "<table>\n",
       "    <thead>\n",
       "        <tr>\n",
       "            <th>1</th>\n",
       "        </tr>\n",
       "    </thead>\n",
       "    <tbody>\n",
       "        <tr>\n",
       "            <td>1</td>\n",
       "        </tr>\n",
       "    </tbody>\n",
       "</table>"
      ],
      "text/plain": [
       "[(1,)]"
      ]
     },
     "execution_count": 49,
     "metadata": {},
     "output_type": "execute_result"
    }
   ],
   "source": [
    "%%sql\n",
    "\n",
    "Select 1;"
   ]
  },
  {
   "cell_type": "markdown",
   "id": "6064dab3",
   "metadata": {},
   "source": [
    "##### Ex: A_004\n",
    "\n",
    "Add 2 and 3 as Sum:  The intension is to name the column Sum."
   ]
  },
  {
   "cell_type": "markdown",
   "id": "7d02ce0d",
   "metadata": {},
   "source": [
    "<img src=\"pics/A_004.png\">"
   ]
  },
  {
   "cell_type": "markdown",
   "id": "797ae8fe",
   "metadata": {},
   "source": [
    "Your answer:"
   ]
  },
  {
   "cell_type": "code",
   "execution_count": 50,
   "id": "2ed0da67",
   "metadata": {},
   "outputs": [
    {
     "name": "stdout",
     "output_type": "stream",
     "text": [
      " * sqlite:///dbs/orderdb.sqlite\n",
      "Done.\n"
     ]
    },
    {
     "data": {
      "text/html": [
       "<table>\n",
       "    <thead>\n",
       "        <tr>\n",
       "            <th>1</th>\n",
       "        </tr>\n",
       "    </thead>\n",
       "    <tbody>\n",
       "        <tr>\n",
       "            <td>1</td>\n",
       "        </tr>\n",
       "    </tbody>\n",
       "</table>"
      ],
      "text/plain": [
       "[(1,)]"
      ]
     },
     "execution_count": 50,
     "metadata": {},
     "output_type": "execute_result"
    }
   ],
   "source": [
    "%%sql\n",
    "\n",
    "Select 1;"
   ]
  },
  {
   "cell_type": "markdown",
   "id": "b1de15f3-1702-4e1c-a36a-8f8f47509dbc",
   "metadata": {},
   "source": [
    "#### Medium"
   ]
  },
  {
   "cell_type": "markdown",
   "id": "acb5374b",
   "metadata": {},
   "source": [
    "##### Ex: A_020\n",
    "\n",
    "Have two columns, A and B. The value in column A is 10, in column B is 20."
   ]
  },
  {
   "cell_type": "markdown",
   "id": "be3e0624",
   "metadata": {},
   "source": [
    "<img src=\"pics/A_020.png\">"
   ]
  },
  {
   "cell_type": "markdown",
   "id": "8c4dad2c",
   "metadata": {},
   "source": [
    "Your answer:"
   ]
  },
  {
   "cell_type": "code",
   "execution_count": 51,
   "id": "6053e1f2",
   "metadata": {},
   "outputs": [
    {
     "name": "stdout",
     "output_type": "stream",
     "text": [
      " * sqlite:///dbs/orderdb.sqlite\n",
      "Done.\n"
     ]
    },
    {
     "data": {
      "text/html": [
       "<table>\n",
       "    <thead>\n",
       "        <tr>\n",
       "            <th>1</th>\n",
       "        </tr>\n",
       "    </thead>\n",
       "    <tbody>\n",
       "        <tr>\n",
       "            <td>1</td>\n",
       "        </tr>\n",
       "    </tbody>\n",
       "</table>"
      ],
      "text/plain": [
       "[(1,)]"
      ]
     },
     "execution_count": 51,
     "metadata": {},
     "output_type": "execute_result"
    }
   ],
   "source": [
    "%%sql\n",
    "\n",
    "Select 1;"
   ]
  },
  {
   "cell_type": "markdown",
   "id": "cf7f5569",
   "metadata": {},
   "source": [
    "##### Ex: A_021\n",
    "\n",
    "Show the result of 10 / 3  --  with decimal points"
   ]
  },
  {
   "cell_type": "markdown",
   "id": "d09eb176",
   "metadata": {},
   "source": [
    "<img src=\"pics/A_021.png\">"
   ]
  },
  {
   "cell_type": "markdown",
   "id": "17376b39",
   "metadata": {},
   "source": [
    "Your answer:"
   ]
  },
  {
   "cell_type": "code",
   "execution_count": 52,
   "id": "e3d62e5b",
   "metadata": {},
   "outputs": [
    {
     "name": "stdout",
     "output_type": "stream",
     "text": [
      " * sqlite:///dbs/orderdb.sqlite\n",
      "Done.\n"
     ]
    },
    {
     "data": {
      "text/html": [
       "<table>\n",
       "    <thead>\n",
       "        <tr>\n",
       "            <th>1</th>\n",
       "        </tr>\n",
       "    </thead>\n",
       "    <tbody>\n",
       "        <tr>\n",
       "            <td>1</td>\n",
       "        </tr>\n",
       "    </tbody>\n",
       "</table>"
      ],
      "text/plain": [
       "[(1,)]"
      ]
     },
     "execution_count": 52,
     "metadata": {},
     "output_type": "execute_result"
    }
   ],
   "source": [
    "%%sql\n",
    "\n",
    "Select 1;"
   ]
  },
  {
   "cell_type": "markdown",
   "id": "dc2123d7",
   "metadata": {},
   "source": [
    "##### Ex: A_022\n",
    "\n",
    "Show the square root of 49"
   ]
  },
  {
   "cell_type": "markdown",
   "id": "25da5eed",
   "metadata": {},
   "source": [
    "<img src=\"pics/A_022.png\">"
   ]
  },
  {
   "cell_type": "markdown",
   "id": "ae96e7c8",
   "metadata": {},
   "source": [
    "Your answer:"
   ]
  },
  {
   "cell_type": "code",
   "execution_count": 53,
   "id": "37e2455f",
   "metadata": {},
   "outputs": [
    {
     "name": "stdout",
     "output_type": "stream",
     "text": [
      " * sqlite:///dbs/orderdb.sqlite\n",
      "Done.\n"
     ]
    },
    {
     "data": {
      "text/html": [
       "<table>\n",
       "    <thead>\n",
       "        <tr>\n",
       "            <th>1</th>\n",
       "        </tr>\n",
       "    </thead>\n",
       "    <tbody>\n",
       "        <tr>\n",
       "            <td>1</td>\n",
       "        </tr>\n",
       "    </tbody>\n",
       "</table>"
      ],
      "text/plain": [
       "[(1,)]"
      ]
     },
     "execution_count": 53,
     "metadata": {},
     "output_type": "execute_result"
    }
   ],
   "source": [
    "%%sql\n",
    "\n",
    "Select 1;"
   ]
  },
  {
   "cell_type": "markdown",
   "id": "6989ce3a",
   "metadata": {},
   "source": [
    "##### Ex: A_023\n",
    "\n",
    "Show the current date"
   ]
  },
  {
   "cell_type": "markdown",
   "id": "82518b27",
   "metadata": {},
   "source": [
    "<img src=\"pics/A_023.png\">"
   ]
  },
  {
   "cell_type": "markdown",
   "id": "028f6ad5",
   "metadata": {},
   "source": [
    "Your answer:"
   ]
  },
  {
   "cell_type": "code",
   "execution_count": 54,
   "id": "afab166a",
   "metadata": {},
   "outputs": [
    {
     "name": "stdout",
     "output_type": "stream",
     "text": [
      " * sqlite:///dbs/orderdb.sqlite\n",
      "Done.\n"
     ]
    },
    {
     "data": {
      "text/html": [
       "<table>\n",
       "    <thead>\n",
       "        <tr>\n",
       "            <th>1</th>\n",
       "        </tr>\n",
       "    </thead>\n",
       "    <tbody>\n",
       "        <tr>\n",
       "            <td>1</td>\n",
       "        </tr>\n",
       "    </tbody>\n",
       "</table>"
      ],
      "text/plain": [
       "[(1,)]"
      ]
     },
     "execution_count": 54,
     "metadata": {},
     "output_type": "execute_result"
    }
   ],
   "source": [
    "%%sql\n",
    "\n",
    "Select 1;"
   ]
  },
  {
   "cell_type": "markdown",
   "id": "4297fc82",
   "metadata": {},
   "source": [
    "##### Ex: A_024\n",
    "\n",
    "Concatenate the strings \"Hello \"  and  \"World!\""
   ]
  },
  {
   "cell_type": "markdown",
   "id": "a936e27b",
   "metadata": {},
   "source": [
    "<img src=\"pics/A_024.png\">"
   ]
  },
  {
   "cell_type": "markdown",
   "id": "4fa63aca",
   "metadata": {},
   "source": [
    "Your answer:"
   ]
  },
  {
   "cell_type": "code",
   "execution_count": 55,
   "id": "487dcb19",
   "metadata": {},
   "outputs": [
    {
     "name": "stdout",
     "output_type": "stream",
     "text": [
      " * sqlite:///dbs/orderdb.sqlite\n",
      "Done.\n"
     ]
    },
    {
     "data": {
      "text/html": [
       "<table>\n",
       "    <thead>\n",
       "        <tr>\n",
       "            <th>1</th>\n",
       "        </tr>\n",
       "    </thead>\n",
       "    <tbody>\n",
       "        <tr>\n",
       "            <td>1</td>\n",
       "        </tr>\n",
       "    </tbody>\n",
       "</table>"
      ],
      "text/plain": [
       "[(1,)]"
      ]
     },
     "execution_count": 55,
     "metadata": {},
     "output_type": "execute_result"
    }
   ],
   "source": [
    "%%sql\n",
    "\n",
    "Select 1;"
   ]
  },
  {
   "cell_type": "markdown",
   "id": "967d3020-7696-4618-863c-681c220c3bfc",
   "metadata": {},
   "source": [
    "#### Hard"
   ]
  },
  {
   "cell_type": "markdown",
   "id": "91e59194",
   "metadata": {},
   "source": [
    "##### Ex: A_040\n",
    "\n",
    "Round 10 divided by 3 to 2 decimals"
   ]
  },
  {
   "cell_type": "markdown",
   "id": "5fe9cb26",
   "metadata": {},
   "source": [
    "<img src=\"pics/A_040.png\">"
   ]
  },
  {
   "cell_type": "markdown",
   "id": "d95083bf",
   "metadata": {},
   "source": [
    "Your answer:"
   ]
  },
  {
   "cell_type": "code",
   "execution_count": 56,
   "id": "eac81a16",
   "metadata": {},
   "outputs": [
    {
     "name": "stdout",
     "output_type": "stream",
     "text": [
      " * sqlite:///dbs/orderdb.sqlite\n",
      "Done.\n"
     ]
    },
    {
     "data": {
      "text/html": [
       "<table>\n",
       "    <thead>\n",
       "        <tr>\n",
       "            <th>1</th>\n",
       "        </tr>\n",
       "    </thead>\n",
       "    <tbody>\n",
       "        <tr>\n",
       "            <td>1</td>\n",
       "        </tr>\n",
       "    </tbody>\n",
       "</table>"
      ],
      "text/plain": [
       "[(1,)]"
      ]
     },
     "execution_count": 56,
     "metadata": {},
     "output_type": "execute_result"
    }
   ],
   "source": [
    "%%sql\n",
    "\n",
    "Select 1;"
   ]
  },
  {
   "cell_type": "markdown",
   "id": "91fa4068",
   "metadata": {},
   "source": [
    "##### Ex: A_041\n",
    "\n",
    "Uppercase the word 'hello'  --  This is important, as it often is used in comparisons when one is not sure of the upper / lower case spelling of the words compared."
   ]
  },
  {
   "cell_type": "markdown",
   "id": "7350efb5",
   "metadata": {},
   "source": [
    "<img src=\"pics/A_041.png\">"
   ]
  },
  {
   "cell_type": "markdown",
   "id": "cdbbe10b",
   "metadata": {},
   "source": [
    "Your answer:"
   ]
  },
  {
   "cell_type": "code",
   "execution_count": 57,
   "id": "71685d1d",
   "metadata": {},
   "outputs": [
    {
     "name": "stdout",
     "output_type": "stream",
     "text": [
      " * sqlite:///dbs/orderdb.sqlite\n",
      "Done.\n"
     ]
    },
    {
     "data": {
      "text/html": [
       "<table>\n",
       "    <thead>\n",
       "        <tr>\n",
       "            <th>1</th>\n",
       "        </tr>\n",
       "    </thead>\n",
       "    <tbody>\n",
       "        <tr>\n",
       "            <td>1</td>\n",
       "        </tr>\n",
       "    </tbody>\n",
       "</table>"
      ],
      "text/plain": [
       "[(1,)]"
      ]
     },
     "execution_count": 57,
     "metadata": {},
     "output_type": "execute_result"
    }
   ],
   "source": [
    "%%sql\n",
    "\n",
    "Select 1;"
   ]
  },
  {
   "cell_type": "markdown",
   "id": "384d0b00",
   "metadata": {},
   "source": [
    "##### Ex: A_042\n",
    "\n",
    "Get the length of 'This is a very interesting bootcamp!'"
   ]
  },
  {
   "cell_type": "markdown",
   "id": "a6de1b05",
   "metadata": {},
   "source": [
    "<img src=\"pics/A_042.png\">"
   ]
  },
  {
   "cell_type": "markdown",
   "id": "94ab73d9",
   "metadata": {},
   "source": [
    "Your answer:"
   ]
  },
  {
   "cell_type": "code",
   "execution_count": 58,
   "id": "81ba46e5",
   "metadata": {},
   "outputs": [
    {
     "name": "stdout",
     "output_type": "stream",
     "text": [
      " * sqlite:///dbs/orderdb.sqlite\n",
      "Done.\n"
     ]
    },
    {
     "data": {
      "text/html": [
       "<table>\n",
       "    <thead>\n",
       "        <tr>\n",
       "            <th>1</th>\n",
       "        </tr>\n",
       "    </thead>\n",
       "    <tbody>\n",
       "        <tr>\n",
       "            <td>1</td>\n",
       "        </tr>\n",
       "    </tbody>\n",
       "</table>"
      ],
      "text/plain": [
       "[(1,)]"
      ]
     },
     "execution_count": 58,
     "metadata": {},
     "output_type": "execute_result"
    }
   ],
   "source": [
    "%%sql\n",
    "\n",
    "Select 1;"
   ]
  },
  {
   "cell_type": "markdown",
   "id": "8cd2cbd3",
   "metadata": {},
   "source": [
    "##### Ex: A_043\n",
    "\n",
    "Get today's weekday  -  I run it on a Wednesday (Monday == 1)."
   ]
  },
  {
   "cell_type": "markdown",
   "id": "861984bc",
   "metadata": {},
   "source": [
    "<img src=\"pics/A_043.png\">"
   ]
  },
  {
   "cell_type": "markdown",
   "id": "df32cb7e",
   "metadata": {},
   "source": [
    "Your answer:"
   ]
  },
  {
   "cell_type": "code",
   "execution_count": 59,
   "id": "dcb32865",
   "metadata": {},
   "outputs": [
    {
     "name": "stdout",
     "output_type": "stream",
     "text": [
      " * sqlite:///dbs/orderdb.sqlite\n",
      "Done.\n"
     ]
    },
    {
     "data": {
      "text/html": [
       "<table>\n",
       "    <thead>\n",
       "        <tr>\n",
       "            <th>1</th>\n",
       "        </tr>\n",
       "    </thead>\n",
       "    <tbody>\n",
       "        <tr>\n",
       "            <td>1</td>\n",
       "        </tr>\n",
       "    </tbody>\n",
       "</table>"
      ],
      "text/plain": [
       "[(1,)]"
      ]
     },
     "execution_count": 59,
     "metadata": {},
     "output_type": "execute_result"
    }
   ],
   "source": [
    "%%sql\n",
    "\n",
    "Select 1;"
   ]
  },
  {
   "cell_type": "markdown",
   "id": "2fe84140",
   "metadata": {},
   "source": [
    "##### Ex: A_044\n",
    "\n",
    "Create an expression: 2 * (5 + 3)"
   ]
  },
  {
   "cell_type": "markdown",
   "id": "683ccc30",
   "metadata": {},
   "source": [
    "<img src=\"pics/A_044.png\">"
   ]
  },
  {
   "cell_type": "markdown",
   "id": "31fe19c5",
   "metadata": {},
   "source": [
    "Your answer:"
   ]
  },
  {
   "cell_type": "code",
   "execution_count": 60,
   "id": "40d2e6db",
   "metadata": {},
   "outputs": [
    {
     "name": "stdout",
     "output_type": "stream",
     "text": [
      " * sqlite:///dbs/orderdb.sqlite\n",
      "Done.\n"
     ]
    },
    {
     "data": {
      "text/html": [
       "<table>\n",
       "    <thead>\n",
       "        <tr>\n",
       "            <th>1</th>\n",
       "        </tr>\n",
       "    </thead>\n",
       "    <tbody>\n",
       "        <tr>\n",
       "            <td>1</td>\n",
       "        </tr>\n",
       "    </tbody>\n",
       "</table>"
      ],
      "text/plain": [
       "[(1,)]"
      ]
     },
     "execution_count": 60,
     "metadata": {},
     "output_type": "execute_result"
    }
   ],
   "source": [
    "%%sql\n",
    "\n",
    "Select 1;"
   ]
  },
  {
   "cell_type": "markdown",
   "id": "84ce7a69-be88-4b7a-807b-abe010a403d1",
   "metadata": {},
   "source": [
    "### From part (with use of LIMIT)"
   ]
  },
  {
   "cell_type": "markdown",
   "id": "6863a52b-ec78-4d6b-bee7-f23bdd261aaa",
   "metadata": {},
   "source": [
    "Starting here, the exercises are based on the database described above. \n",
    "\n",
    "FROM allows specifying the tables (and data sources) used in a Query. Based on this, the SELECT part defines the columns and calculations thereof, which are contained in the resultset. For the moment, the exercises deal with one table in the FROM part only. Here is a simple statement:\n",
    "\n",
    "> Select City \n",
    "From   Suppliers;\n",
    "\n",
    "Here we get all the values from the Suppliers table for the attribute City. \n",
    "\n",
    "Multiple columns (attributes) are separated by comma:\n",
    "\n",
    "> Select CompanyName, City \n",
    "From   Suppliers;\n",
    "\n",
    "If one wants all the columns (attributes) then the asterisk is used:\n",
    "\n",
    ">  Select * \n",
    "From   Suppliers;\n",
    "\n",
    "Depending on the content of the table, the resultset can get very large very soon. In order to keep it large enough to see a result, but short enough to not overload this Notebook, all the SELECT statements here need to make use of the LIMIT clause, too.\n",
    "\n",
    "The LIMIT clause - as the name implies - shows only a maller set of records of the full resultset. Here is the same SELECT from above, only showing the first 10 entries:\n",
    "\n",
    "> Select City \n",
    "From   Suppliers\n",
    "Limit 10;\n",
    "\n",
    "Paginaion of the records in the resultset can be reached by specifying an offset:\n",
    "\n",
    "> Select City \n",
    "From   Suppliers\n",
    "Limit 10  Offset 20;\n",
    "\n",
    "The SELECT shows the records 21 to 30 out of the resultset (if that many records exist).\n"
   ]
  },
  {
   "cell_type": "markdown",
   "id": "ddcd339e-511e-4050-ac33-b06424a56fbf",
   "metadata": {},
   "source": [
    "#### Easy"
   ]
  },
  {
   "cell_type": "markdown",
   "id": "8c57aa75",
   "metadata": {},
   "source": [
    "##### Ex: B_001\n",
    "\n",
    "Show the first 10 records of table Customers with all the attributes of the table."
   ]
  },
  {
   "cell_type": "markdown",
   "id": "2c4834c5",
   "metadata": {},
   "source": [
    "<img src=\"pics/B_001.png\">"
   ]
  },
  {
   "cell_type": "markdown",
   "id": "cfa6feca",
   "metadata": {},
   "source": [
    "Your answer:"
   ]
  },
  {
   "cell_type": "code",
   "execution_count": 61,
   "id": "77f2c185",
   "metadata": {},
   "outputs": [
    {
     "name": "stdout",
     "output_type": "stream",
     "text": [
      " * sqlite:///dbs/orderdb.sqlite\n",
      "Done.\n"
     ]
    },
    {
     "data": {
      "text/html": [
       "<table>\n",
       "    <thead>\n",
       "        <tr>\n",
       "            <th>1</th>\n",
       "        </tr>\n",
       "    </thead>\n",
       "    <tbody>\n",
       "        <tr>\n",
       "            <td>1</td>\n",
       "        </tr>\n",
       "    </tbody>\n",
       "</table>"
      ],
      "text/plain": [
       "[(1,)]"
      ]
     },
     "execution_count": 61,
     "metadata": {},
     "output_type": "execute_result"
    }
   ],
   "source": [
    "%%sql\n",
    "\n",
    "Select 1;"
   ]
  },
  {
   "cell_type": "markdown",
   "id": "e03ff460",
   "metadata": {},
   "source": [
    "##### Ex: B_002\n",
    "\n",
    "Show the 42nd to 53rd records of table Customers with all the attributes of the table."
   ]
  },
  {
   "cell_type": "markdown",
   "id": "76adbb3a",
   "metadata": {},
   "source": [
    "<img src=\"pics/B_002.png\">"
   ]
  },
  {
   "cell_type": "markdown",
   "id": "9bf8e90c",
   "metadata": {},
   "source": [
    "Your answer:"
   ]
  },
  {
   "cell_type": "code",
   "execution_count": 62,
   "id": "9140f9f6",
   "metadata": {},
   "outputs": [
    {
     "name": "stdout",
     "output_type": "stream",
     "text": [
      " * sqlite:///dbs/orderdb.sqlite\n",
      "Done.\n"
     ]
    },
    {
     "data": {
      "text/html": [
       "<table>\n",
       "    <thead>\n",
       "        <tr>\n",
       "            <th>1</th>\n",
       "        </tr>\n",
       "    </thead>\n",
       "    <tbody>\n",
       "        <tr>\n",
       "            <td>1</td>\n",
       "        </tr>\n",
       "    </tbody>\n",
       "</table>"
      ],
      "text/plain": [
       "[(1,)]"
      ]
     },
     "execution_count": 62,
     "metadata": {},
     "output_type": "execute_result"
    }
   ],
   "source": [
    "%%sql\n",
    "\n",
    "Select 1;"
   ]
  },
  {
   "cell_type": "markdown",
   "id": "7723074f",
   "metadata": {},
   "source": [
    "##### Ex: B_003\n",
    "\n",
    "Show the city and country from Suppliers for the first 10 records."
   ]
  },
  {
   "cell_type": "markdown",
   "id": "fed8f5cf",
   "metadata": {},
   "source": [
    "<img src=\"pics/B_003.png\">"
   ]
  },
  {
   "cell_type": "markdown",
   "id": "3e3c8538",
   "metadata": {},
   "source": [
    "Your answer:"
   ]
  },
  {
   "cell_type": "code",
   "execution_count": 63,
   "id": "547cd33e",
   "metadata": {},
   "outputs": [
    {
     "name": "stdout",
     "output_type": "stream",
     "text": [
      " * sqlite:///dbs/orderdb.sqlite\n",
      "Done.\n"
     ]
    },
    {
     "data": {
      "text/html": [
       "<table>\n",
       "    <thead>\n",
       "        <tr>\n",
       "            <th>1</th>\n",
       "        </tr>\n",
       "    </thead>\n",
       "    <tbody>\n",
       "        <tr>\n",
       "            <td>1</td>\n",
       "        </tr>\n",
       "    </tbody>\n",
       "</table>"
      ],
      "text/plain": [
       "[(1,)]"
      ]
     },
     "execution_count": 63,
     "metadata": {},
     "output_type": "execute_result"
    }
   ],
   "source": [
    "%%sql\n",
    "\n",
    "Select 1;"
   ]
  },
  {
   "cell_type": "markdown",
   "id": "65cef7fa-7412-4ee1-9a3f-fa001f1fc6b5",
   "metadata": {},
   "source": [
    "#### Medium"
   ]
  },
  {
   "cell_type": "markdown",
   "id": "51cfcc88",
   "metadata": {},
   "source": [
    "##### Ex: B_020\n",
    "\n",
    "Select first and last name as a full name from Customers for the first 10 records."
   ]
  },
  {
   "cell_type": "markdown",
   "id": "2c6a4361",
   "metadata": {},
   "source": [
    "<img src=\"pics/B_020.png\">"
   ]
  },
  {
   "cell_type": "markdown",
   "id": "44b5b20c",
   "metadata": {},
   "source": [
    "Your answer:"
   ]
  },
  {
   "cell_type": "code",
   "execution_count": 64,
   "id": "cf0f30aa",
   "metadata": {},
   "outputs": [
    {
     "name": "stdout",
     "output_type": "stream",
     "text": [
      " * sqlite:///dbs/orderdb.sqlite\n",
      "Done.\n"
     ]
    },
    {
     "data": {
      "text/html": [
       "<table>\n",
       "    <thead>\n",
       "        <tr>\n",
       "            <th>1</th>\n",
       "        </tr>\n",
       "    </thead>\n",
       "    <tbody>\n",
       "        <tr>\n",
       "            <td>1</td>\n",
       "        </tr>\n",
       "    </tbody>\n",
       "</table>"
      ],
      "text/plain": [
       "[(1,)]"
      ]
     },
     "execution_count": 64,
     "metadata": {},
     "output_type": "execute_result"
    }
   ],
   "source": [
    "%%sql\n",
    "\n",
    "Select 1;"
   ]
  },
  {
   "cell_type": "markdown",
   "id": "1749d655-30b5-4f75-b1a9-d4b960f6e05f",
   "metadata": {},
   "source": [
    "#### Hard"
   ]
  },
  {
   "cell_type": "markdown",
   "id": "ca12b516",
   "metadata": {},
   "source": [
    "##### Ex: B_040\n",
    "\n",
    "Show name and unit price plus 19% (MWSt) from Products for the first 10 products."
   ]
  },
  {
   "cell_type": "markdown",
   "id": "6ab5999f",
   "metadata": {},
   "source": [
    "<img src=\"pics/B_040.png\">"
   ]
  },
  {
   "cell_type": "markdown",
   "id": "431cf1d0",
   "metadata": {},
   "source": [
    "Your answer:"
   ]
  },
  {
   "cell_type": "code",
   "execution_count": 65,
   "id": "31617b77",
   "metadata": {},
   "outputs": [
    {
     "name": "stdout",
     "output_type": "stream",
     "text": [
      " * sqlite:///dbs/orderdb.sqlite\n",
      "Done.\n"
     ]
    },
    {
     "data": {
      "text/html": [
       "<table>\n",
       "    <thead>\n",
       "        <tr>\n",
       "            <th>1</th>\n",
       "        </tr>\n",
       "    </thead>\n",
       "    <tbody>\n",
       "        <tr>\n",
       "            <td>1</td>\n",
       "        </tr>\n",
       "    </tbody>\n",
       "</table>"
      ],
      "text/plain": [
       "[(1,)]"
      ]
     },
     "execution_count": 65,
     "metadata": {},
     "output_type": "execute_result"
    }
   ],
   "source": [
    "%%sql\n",
    "\n",
    "Select 1;"
   ]
  },
  {
   "cell_type": "markdown",
   "id": "0e09c0b3",
   "metadata": {},
   "source": [
    "### WHERE clause\n",
    "\n",
    "The WHERE clause provides the mechanism to pass the parameters into the SQL statement, which are applied to filter the data in the tables. Multiple criteria can be combined with the AND / OR operator. Parentheses \"()\" allow for grouping of criteria.\n",
    "\n",
    "Here is a very simple example:\n",
    "\n",
    "> Select Lastname \n",
    "From Customers \n",
    "Where City = \"San Francisco\";\n",
    "\n",
    "and here with two criteria:\n",
    "\n",
    "> Select Lastname \n",
    "From Customers \n",
    "Where City = \"London\"\n",
    "And Firstname = \"Ann\";\n",
    "\n",
    "Numerical comparison is similar to the comparisons found in programming languages. For string comparison, there is next to the equal sign the LIKE operator. LIKE allows the use of wildcards. The \"_\" (underscore) represent one and exactly one character, while \"%\" (percent sigh) for zero or more characters. \n",
    "\n",
    "> Select Lastname \n",
    "From Customers \n",
    "Where City Like \"L_nd_n\"\n",
    "And Firstname Like \"%nn\";\n",
    "\n",
    "\n"
   ]
  },
  {
   "cell_type": "markdown",
   "id": "6bc33755-d166-4668-bfc2-3caea9393718",
   "metadata": {},
   "source": [
    "#### Easy\n",
    "\n",
    "#### Ex.: C_001\n",
    "\n",
    "Show all customers from Germany"
   ]
  },
  {
   "cell_type": "markdown",
   "id": "794b4298",
   "metadata": {},
   "source": [
    "<img src=\"pics/C_001.png\">"
   ]
  },
  {
   "cell_type": "markdown",
   "id": "9d1220d4",
   "metadata": {},
   "source": [
    "Your answer:"
   ]
  },
  {
   "cell_type": "code",
   "execution_count": 66,
   "id": "b4343cf3",
   "metadata": {},
   "outputs": [
    {
     "name": "stdout",
     "output_type": "stream",
     "text": [
      " * sqlite:///dbs/orderdb.sqlite\n",
      "Done.\n"
     ]
    },
    {
     "data": {
      "text/html": [
       "<table>\n",
       "    <thead>\n",
       "        <tr>\n",
       "            <th>1</th>\n",
       "        </tr>\n",
       "    </thead>\n",
       "    <tbody>\n",
       "        <tr>\n",
       "            <td>1</td>\n",
       "        </tr>\n",
       "    </tbody>\n",
       "</table>"
      ],
      "text/plain": [
       "[(1,)]"
      ]
     },
     "execution_count": 66,
     "metadata": {},
     "output_type": "execute_result"
    }
   ],
   "source": [
    "%%sql\n",
    "\n",
    "Select 1;"
   ]
  },
  {
   "cell_type": "markdown",
   "id": "c7769ec8-3d2e-4070-a919-29c20cf9db6c",
   "metadata": {},
   "source": [
    "#### Ex.: C_002\n",
    "\n",
    "Show all products with a price less than 20 Dollars"
   ]
  },
  {
   "cell_type": "markdown",
   "id": "56ecf7c3",
   "metadata": {},
   "source": [
    "<img src=\"pics/C_002.png\">"
   ]
  },
  {
   "cell_type": "markdown",
   "id": "d5293226",
   "metadata": {},
   "source": [
    "Your answer:"
   ]
  },
  {
   "cell_type": "code",
   "execution_count": 67,
   "id": "0db3a883",
   "metadata": {},
   "outputs": [
    {
     "name": "stdout",
     "output_type": "stream",
     "text": [
      " * sqlite:///dbs/orderdb.sqlite\n",
      "Done.\n"
     ]
    },
    {
     "data": {
      "text/html": [
       "<table>\n",
       "    <thead>\n",
       "        <tr>\n",
       "            <th>1</th>\n",
       "        </tr>\n",
       "    </thead>\n",
       "    <tbody>\n",
       "        <tr>\n",
       "            <td>1</td>\n",
       "        </tr>\n",
       "    </tbody>\n",
       "</table>"
      ],
      "text/plain": [
       "[(1,)]"
      ]
     },
     "execution_count": 67,
     "metadata": {},
     "output_type": "execute_result"
    }
   ],
   "source": [
    "%%sql\n",
    "\n",
    "Select 1;"
   ]
  },
  {
   "cell_type": "markdown",
   "id": "5436cd84",
   "metadata": {},
   "source": [
    "#### Medium\n",
    "\n",
    "#### Ex.: C_020\n",
    "\n",
    "Show all customers from Austria and Spain"
   ]
  },
  {
   "cell_type": "markdown",
   "id": "fd066f66",
   "metadata": {},
   "source": [
    "<img src=\"pics/C_020.png\">"
   ]
  },
  {
   "cell_type": "markdown",
   "id": "9fb2c382",
   "metadata": {},
   "source": [
    "Your answer:"
   ]
  },
  {
   "cell_type": "code",
   "execution_count": 68,
   "id": "5f7f5636",
   "metadata": {},
   "outputs": [
    {
     "name": "stdout",
     "output_type": "stream",
     "text": [
      " * sqlite:///dbs/orderdb.sqlite\n",
      "Done.\n"
     ]
    },
    {
     "data": {
      "text/html": [
       "<table>\n",
       "    <thead>\n",
       "        <tr>\n",
       "            <th>1</th>\n",
       "        </tr>\n",
       "    </thead>\n",
       "    <tbody>\n",
       "        <tr>\n",
       "            <td>1</td>\n",
       "        </tr>\n",
       "    </tbody>\n",
       "</table>"
      ],
      "text/plain": [
       "[(1,)]"
      ]
     },
     "execution_count": 68,
     "metadata": {},
     "output_type": "execute_result"
    }
   ],
   "source": [
    "%%sql\n",
    "\n",
    "Select 1;"
   ]
  },
  {
   "cell_type": "markdown",
   "id": "7b10281f",
   "metadata": {},
   "source": [
    "#### Ex.: C_021\n",
    "\n",
    "Show all Suppliers out of a city starting with the letter P"
   ]
  },
  {
   "cell_type": "markdown",
   "id": "e3acbf1f",
   "metadata": {},
   "source": [
    "<img src=\"pics/C_021.png\">"
   ]
  },
  {
   "cell_type": "markdown",
   "id": "f9dd43aa",
   "metadata": {},
   "source": [
    "Your answer:"
   ]
  },
  {
   "cell_type": "code",
   "execution_count": 69,
   "id": "2707639b",
   "metadata": {},
   "outputs": [
    {
     "name": "stdout",
     "output_type": "stream",
     "text": [
      " * sqlite:///dbs/orderdb.sqlite\n",
      "Done.\n"
     ]
    },
    {
     "data": {
      "text/html": [
       "<table>\n",
       "    <thead>\n",
       "        <tr>\n",
       "            <th>1</th>\n",
       "        </tr>\n",
       "    </thead>\n",
       "    <tbody>\n",
       "        <tr>\n",
       "            <td>1</td>\n",
       "        </tr>\n",
       "    </tbody>\n",
       "</table>"
      ],
      "text/plain": [
       "[(1,)]"
      ]
     },
     "execution_count": 69,
     "metadata": {},
     "output_type": "execute_result"
    }
   ],
   "source": [
    "%%sql\n",
    "\n",
    "Select 1;"
   ]
  },
  {
   "cell_type": "markdown",
   "id": "6c5db822-0adb-45fc-9449-ca37fea7d28d",
   "metadata": {},
   "source": [
    "#### Ex.: C_022\n",
    "\n",
    "Show all products having a price between 31 and 40 Dollars"
   ]
  },
  {
   "cell_type": "markdown",
   "id": "ed2266c0",
   "metadata": {},
   "source": [
    "<img src=\"pics/C_022.png\">"
   ]
  },
  {
   "cell_type": "markdown",
   "id": "e11d5532",
   "metadata": {},
   "source": [
    "Your answer:"
   ]
  },
  {
   "cell_type": "code",
   "execution_count": 70,
   "id": "d0b7f4f5",
   "metadata": {},
   "outputs": [
    {
     "name": "stdout",
     "output_type": "stream",
     "text": [
      " * sqlite:///dbs/orderdb.sqlite\n",
      "Done.\n"
     ]
    },
    {
     "data": {
      "text/html": [
       "<table>\n",
       "    <thead>\n",
       "        <tr>\n",
       "            <th>1</th>\n",
       "        </tr>\n",
       "    </thead>\n",
       "    <tbody>\n",
       "        <tr>\n",
       "            <td>1</td>\n",
       "        </tr>\n",
       "    </tbody>\n",
       "</table>"
      ],
      "text/plain": [
       "[(1,)]"
      ]
     },
     "execution_count": 70,
     "metadata": {},
     "output_type": "execute_result"
    }
   ],
   "source": [
    "%%sql\n",
    "\n",
    "Select 1;"
   ]
  },
  {
   "cell_type": "markdown",
   "id": "ea1f8f1f",
   "metadata": {},
   "source": [
    "#### Hard\n",
    "\n",
    "#### Ex.: C_040\n",
    "\n",
    "Show all Customers with a lastname ending in 'n'  and which are not located in Germany"
   ]
  },
  {
   "cell_type": "markdown",
   "id": "e3f7a53d",
   "metadata": {},
   "source": [
    "<img src=\"pics/C_040.png\">"
   ]
  },
  {
   "cell_type": "markdown",
   "id": "0ae0d74b",
   "metadata": {},
   "source": [
    "Your answer:"
   ]
  },
  {
   "cell_type": "code",
   "execution_count": 71,
   "id": "2697951d",
   "metadata": {},
   "outputs": [
    {
     "name": "stdout",
     "output_type": "stream",
     "text": [
      " * sqlite:///dbs/orderdb.sqlite\n",
      "Done.\n"
     ]
    },
    {
     "data": {
      "text/html": [
       "<table>\n",
       "    <thead>\n",
       "        <tr>\n",
       "            <th>1</th>\n",
       "        </tr>\n",
       "    </thead>\n",
       "    <tbody>\n",
       "        <tr>\n",
       "            <td>1</td>\n",
       "        </tr>\n",
       "    </tbody>\n",
       "</table>"
      ],
      "text/plain": [
       "[(1,)]"
      ]
     },
     "execution_count": 71,
     "metadata": {},
     "output_type": "execute_result"
    }
   ],
   "source": [
    "%%sql\n",
    "\n",
    "Select 1;"
   ]
  },
  {
   "cell_type": "markdown",
   "id": "ca64a735",
   "metadata": {},
   "source": [
    "### Group by clause (including Having)\n",
    "\n",
    "The Group by clause groups the records in a result set according to one or more attributes. These groups can be processed by aggregate functions: Min, Max, Avg, Sum.\n",
    "\n",
    "The following Select statement shows the number of customers per country:\n",
    "\n",
    "> SELECT Country, COUNT(*) FROM Customers GROUP BY Country;\n",
    "\n",
    "The Having clause is used in combination with a Group by clause and provides filter criteria for an aggregate function.\n",
    "\n",
    "\n",
    "#### Easy\n",
    "\n",
    "#### Ex.: D_001\n",
    "\n",
    "Show the number of products, which are discontinued as well as the number of products, which are not discontinued. (0 -> False,  1 -> True)"
   ]
  },
  {
   "cell_type": "markdown",
   "id": "850dc598",
   "metadata": {},
   "source": [
    "<img src=\"pics/D_001.png\">"
   ]
  },
  {
   "cell_type": "markdown",
   "id": "c64169b2",
   "metadata": {},
   "source": [
    "Your answer:"
   ]
  },
  {
   "cell_type": "code",
   "execution_count": 72,
   "id": "a0af16f9",
   "metadata": {},
   "outputs": [
    {
     "name": "stdout",
     "output_type": "stream",
     "text": [
      " * sqlite:///dbs/orderdb.sqlite\n",
      "Done.\n"
     ]
    },
    {
     "data": {
      "text/html": [
       "<table>\n",
       "    <thead>\n",
       "        <tr>\n",
       "            <th>1</th>\n",
       "        </tr>\n",
       "    </thead>\n",
       "    <tbody>\n",
       "        <tr>\n",
       "            <td>1</td>\n",
       "        </tr>\n",
       "    </tbody>\n",
       "</table>"
      ],
      "text/plain": [
       "[(1,)]"
      ]
     },
     "execution_count": 72,
     "metadata": {},
     "output_type": "execute_result"
    }
   ],
   "source": [
    "%%sql\n",
    "\n",
    "Select 1;"
   ]
  },
  {
   "cell_type": "markdown",
   "id": "eca27f38",
   "metadata": {},
   "source": [
    "#### Ex.: D_002\n",
    "\n",
    "Show the number of suppliers per city for the first 10 cities."
   ]
  },
  {
   "cell_type": "markdown",
   "id": "7829b2b3",
   "metadata": {},
   "source": [
    "<img src=\"pics/D_002.png\">"
   ]
  },
  {
   "cell_type": "markdown",
   "id": "a2da57bd",
   "metadata": {},
   "source": [
    "Your answer:"
   ]
  },
  {
   "cell_type": "code",
   "execution_count": 73,
   "id": "e7e0d9ed",
   "metadata": {},
   "outputs": [
    {
     "name": "stdout",
     "output_type": "stream",
     "text": [
      " * sqlite:///dbs/orderdb.sqlite\n",
      "Done.\n"
     ]
    },
    {
     "data": {
      "text/html": [
       "<table>\n",
       "    <thead>\n",
       "        <tr>\n",
       "            <th>1</th>\n",
       "        </tr>\n",
       "    </thead>\n",
       "    <tbody>\n",
       "        <tr>\n",
       "            <td>1</td>\n",
       "        </tr>\n",
       "    </tbody>\n",
       "</table>"
      ],
      "text/plain": [
       "[(1,)]"
      ]
     },
     "execution_count": 73,
     "metadata": {},
     "output_type": "execute_result"
    }
   ],
   "source": [
    "%%sql\n",
    "\n",
    "Select 1;"
   ]
  },
  {
   "cell_type": "markdown",
   "id": "4f9d40de",
   "metadata": {},
   "source": [
    "#### Medium\n",
    "\n",
    "#### Ex.: D_020\n",
    "\n",
    "Provide the average price per supplier (over all their products) for the first 10 records"
   ]
  },
  {
   "cell_type": "markdown",
   "id": "3b5e2491",
   "metadata": {},
   "source": [
    "<img src=\"pics/D_020.png\">"
   ]
  },
  {
   "cell_type": "markdown",
   "id": "cd4ea208",
   "metadata": {},
   "source": [
    "Your answer:"
   ]
  },
  {
   "cell_type": "code",
   "execution_count": 74,
   "id": "ad17a782",
   "metadata": {},
   "outputs": [
    {
     "name": "stdout",
     "output_type": "stream",
     "text": [
      " * sqlite:///dbs/orderdb.sqlite\n",
      "Done.\n"
     ]
    },
    {
     "data": {
      "text/html": [
       "<table>\n",
       "    <thead>\n",
       "        <tr>\n",
       "            <th>1</th>\n",
       "        </tr>\n",
       "    </thead>\n",
       "    <tbody>\n",
       "        <tr>\n",
       "            <td>1</td>\n",
       "        </tr>\n",
       "    </tbody>\n",
       "</table>"
      ],
      "text/plain": [
       "[(1,)]"
      ]
     },
     "execution_count": 74,
     "metadata": {},
     "output_type": "execute_result"
    }
   ],
   "source": [
    "%%sql\n",
    "\n",
    "Select 1;"
   ]
  },
  {
   "cell_type": "markdown",
   "id": "e171220e",
   "metadata": {},
   "source": [
    "#### Ex.: D_021\n",
    "\n",
    "Provide the total number of items per Orderid for the first 10 entries"
   ]
  },
  {
   "cell_type": "markdown",
   "id": "0f5805c7",
   "metadata": {},
   "source": [
    "<img src=\"pics/D_021.png\">"
   ]
  },
  {
   "cell_type": "markdown",
   "id": "0b3bf792",
   "metadata": {},
   "source": [
    "Your answer:"
   ]
  },
  {
   "cell_type": "code",
   "execution_count": 75,
   "id": "7c6d8554",
   "metadata": {},
   "outputs": [
    {
     "name": "stdout",
     "output_type": "stream",
     "text": [
      " * sqlite:///dbs/orderdb.sqlite\n",
      "Done.\n"
     ]
    },
    {
     "data": {
      "text/html": [
       "<table>\n",
       "    <thead>\n",
       "        <tr>\n",
       "            <th>1</th>\n",
       "        </tr>\n",
       "    </thead>\n",
       "    <tbody>\n",
       "        <tr>\n",
       "            <td>1</td>\n",
       "        </tr>\n",
       "    </tbody>\n",
       "</table>"
      ],
      "text/plain": [
       "[(1,)]"
      ]
     },
     "execution_count": 75,
     "metadata": {},
     "output_type": "execute_result"
    }
   ],
   "source": [
    "%%sql\n",
    "\n",
    "Select 1;"
   ]
  },
  {
   "cell_type": "markdown",
   "id": "dc90fe21",
   "metadata": {},
   "source": [
    "#### Hard\n",
    "\n",
    "#### Ex.: D_040\n",
    "\n",
    "List all customers with the number of their orders as long as they have more than 2 orders (again, the first 10 records)"
   ]
  },
  {
   "cell_type": "markdown",
   "id": "f78775aa",
   "metadata": {},
   "source": [
    "<img src=\"pics/D_040.png\">"
   ]
  },
  {
   "cell_type": "markdown",
   "id": "a46a3fc2",
   "metadata": {},
   "source": [
    "Your answer:"
   ]
  },
  {
   "cell_type": "code",
   "execution_count": 76,
   "id": "77ed87fd",
   "metadata": {},
   "outputs": [
    {
     "name": "stdout",
     "output_type": "stream",
     "text": [
      " * sqlite:///dbs/orderdb.sqlite\n",
      "Done.\n"
     ]
    },
    {
     "data": {
      "text/html": [
       "<table>\n",
       "    <thead>\n",
       "        <tr>\n",
       "            <th>1</th>\n",
       "        </tr>\n",
       "    </thead>\n",
       "    <tbody>\n",
       "        <tr>\n",
       "            <td>1</td>\n",
       "        </tr>\n",
       "    </tbody>\n",
       "</table>"
      ],
      "text/plain": [
       "[(1,)]"
      ]
     },
     "execution_count": 76,
     "metadata": {},
     "output_type": "execute_result"
    }
   ],
   "source": [
    "%%sql\n",
    "\n",
    "Select 1;"
   ]
  },
  {
   "cell_type": "markdown",
   "id": "ff8725ce",
   "metadata": {},
   "source": [
    "#### Ex.: D_041\n",
    "\n",
    "Show all Suppliers (ID), the kind of package they use and the number of different products they use the package for as long as the same package is used for multiple products of that supplier."
   ]
  },
  {
   "cell_type": "markdown",
   "id": "c41aaff8",
   "metadata": {},
   "source": [
    "<img src=\"pics/D_041.png\">"
   ]
  },
  {
   "cell_type": "markdown",
   "id": "cdf69723",
   "metadata": {},
   "source": [
    "Your answer:"
   ]
  },
  {
   "cell_type": "code",
   "execution_count": 77,
   "id": "8dac08e3",
   "metadata": {},
   "outputs": [
    {
     "name": "stdout",
     "output_type": "stream",
     "text": [
      " * sqlite:///dbs/orderdb.sqlite\n",
      "Done.\n"
     ]
    },
    {
     "data": {
      "text/html": [
       "<table>\n",
       "    <thead>\n",
       "        <tr>\n",
       "            <th>1</th>\n",
       "        </tr>\n",
       "    </thead>\n",
       "    <tbody>\n",
       "        <tr>\n",
       "            <td>1</td>\n",
       "        </tr>\n",
       "    </tbody>\n",
       "</table>"
      ],
      "text/plain": [
       "[(1,)]"
      ]
     },
     "execution_count": 77,
     "metadata": {},
     "output_type": "execute_result"
    }
   ],
   "source": [
    "%%sql\n",
    "\n",
    "Select 1;"
   ]
  },
  {
   "cell_type": "markdown",
   "id": "523b91a7",
   "metadata": {},
   "source": [
    "### Order by clause\n",
    "\n",
    "The order by clause allows for sorting of the resultset. Its usage is straight forward: Order by <attribute1> <Asc / Desc> [<attribute> <Asc / Desc>] ...\n",
    "\n",
    "The  attribute is the column used for sorting and Asc / Desc determines if the result set is ordered for that attribute in ASCending or DESCending order.\n",
    "\n",
    "> Select ID, TotalAmount from Orders \n",
    "where ID < 10\n",
    "Order by TotalAmount DESC;"
   ]
  },
  {
   "cell_type": "markdown",
   "id": "42014ba7",
   "metadata": {},
   "source": [
    "#### Ex.: E_010\n",
    "\n",
    "Show all products ordered, descending by price as long as the price is between 80 and 300 Dollars."
   ]
  },
  {
   "cell_type": "markdown",
   "id": "61e1122f",
   "metadata": {},
   "source": [
    "<img src=\"pics/E_010.png\">"
   ]
  },
  {
   "cell_type": "markdown",
   "id": "d737dd47",
   "metadata": {},
   "source": [
    "Your answer:"
   ]
  },
  {
   "cell_type": "code",
   "execution_count": 78,
   "id": "a3e37a8e",
   "metadata": {},
   "outputs": [
    {
     "name": "stdout",
     "output_type": "stream",
     "text": [
      " * sqlite:///dbs/orderdb.sqlite\n",
      "Done.\n"
     ]
    },
    {
     "data": {
      "text/html": [
       "<table>\n",
       "    <thead>\n",
       "        <tr>\n",
       "            <th>1</th>\n",
       "        </tr>\n",
       "    </thead>\n",
       "    <tbody>\n",
       "        <tr>\n",
       "            <td>1</td>\n",
       "        </tr>\n",
       "    </tbody>\n",
       "</table>"
      ],
      "text/plain": [
       "[(1,)]"
      ]
     },
     "execution_count": 78,
     "metadata": {},
     "output_type": "execute_result"
    }
   ],
   "source": [
    "%%sql\n",
    "\n",
    "Select 1;"
   ]
  },
  {
   "cell_type": "markdown",
   "id": "a663ef97",
   "metadata": {},
   "source": [
    "#### Ex.: E_011\n",
    "\n",
    "Show all products ordered ascending by price as long as the price is between 80 and 300 Dollars."
   ]
  },
  {
   "cell_type": "markdown",
   "id": "588bc649",
   "metadata": {},
   "source": [
    "<img src=\"pics/E_011.png\">"
   ]
  },
  {
   "cell_type": "markdown",
   "id": "46ce6978",
   "metadata": {},
   "source": [
    "Your answer:"
   ]
  },
  {
   "cell_type": "code",
   "execution_count": 79,
   "id": "d74f2c83",
   "metadata": {},
   "outputs": [
    {
     "name": "stdout",
     "output_type": "stream",
     "text": [
      " * sqlite:///dbs/orderdb.sqlite\n",
      "Done.\n"
     ]
    },
    {
     "data": {
      "text/html": [
       "<table>\n",
       "    <thead>\n",
       "        <tr>\n",
       "            <th>1</th>\n",
       "        </tr>\n",
       "    </thead>\n",
       "    <tbody>\n",
       "        <tr>\n",
       "            <td>1</td>\n",
       "        </tr>\n",
       "    </tbody>\n",
       "</table>"
      ],
      "text/plain": [
       "[(1,)]"
      ]
     },
     "execution_count": 79,
     "metadata": {},
     "output_type": "execute_result"
    }
   ],
   "source": [
    "%%sql\n",
    "\n",
    "Select 1;"
   ]
  },
  {
   "cell_type": "markdown",
   "id": "967660a1",
   "metadata": {},
   "source": [
    "### Joins\n",
    "\n",
    "Joining is needed when there are 2 or more tables used in a Select statement. There are 4 types of Joins:\n",
    "\n",
    "1. (Inner) Join\n",
    "2. Left (Outer) Join\n",
    "3. Right (Outer) Join\n",
    "4. Full (Outer) Join\n",
    "\n",
    "Here are these Joins visualized:\n",
    "\n",
    "<img src=\"pics/joins.png\">\n",
    "\n",
    "So far, all exercises only worked with a single table. That lead to the situation, that we only were able to provide IDs instead of say a Supplier anme, as Customer name and so on. \n",
    "\n",
    "Joins allow combining the information contained in multiple tables and with that provide all the information needed.\n",
    "\n",
    "This example not only get the product name from the Products table, but also the Supplier name for that product from the Supplier table:\n",
    "\n",
    ">  SELECT Suppliers.CompanyName AS SupplierName, ProductName, Suppliers.id, Products.supplierid\n",
    "FROM Products JOIN Suppliers ON Products.SupplierId = Suppliers.Id \n",
    "Limit 10;\n",
    "\n",
    "How does this inner join conceptually work?\n",
    "\n",
    "1. Create the Cartesian Product of the two tables (Each record of table Products is combined with every record of table Suppliers).  Say we have 12 Products records and 7 Suppliers records then the Cartesian Product contains a set of 7 * 12 combined records ( = 84).\n",
    "\n",
    "2. Eliminate all the records, that do not satisfy the criteria : Products.SupplierId = Suppliers.Id \n",
    "\n",
    "3. If the Select contained a Where clause or Group by and Having then these would be processed, too.\n",
    "\n",
    "4. If there is a Order by clause, then the records are ordered accordingly.\n",
    "\n",
    "5. Lastly, if existent, the Limit clause is processed.\n",
    "\n",
    "\n",
    "More generally expressed, this is the order in which the different parts of a Select Statement are processed :\n",
    "\n",
    "1. From part (including the JOINs)\n",
    "\n",
    "2. Where clause\n",
    "\n",
    "3. Group by\n",
    "\n",
    "4. Having\n",
    "\n",
    "5. Order by\n",
    "\n",
    "6. Limit\n",
    "\n",
    "7. Select\n",
    "\n",
    "Please consider these questions:\n",
    "\n",
    "- Is this order the only one? Could certain steps be swapped?\n",
    "\n",
    "-  What is the advice you would give to someone working with Select statement? What should they consider / take care of? When?\n",
    "\n",
    "\n"
   ]
  },
  {
   "cell_type": "markdown",
   "id": "0938d8c6",
   "metadata": {},
   "source": [
    "#### Easy\n",
    "\n",
    "#### Ex.: F_001\n",
    "\n",
    "Show the Customers (by name) and their order numbers. Sort by last name and limit the list to the first 7 records."
   ]
  },
  {
   "cell_type": "markdown",
   "id": "54ce2b60",
   "metadata": {},
   "source": [
    "<img src=\"pics/F_001.png\">"
   ]
  },
  {
   "cell_type": "markdown",
   "id": "06be68fe",
   "metadata": {},
   "source": [
    "Your answer:"
   ]
  },
  {
   "cell_type": "code",
   "execution_count": 80,
   "id": "1bd1cab1",
   "metadata": {},
   "outputs": [
    {
     "name": "stdout",
     "output_type": "stream",
     "text": [
      " * sqlite:///dbs/orderdb.sqlite\n",
      "Done.\n"
     ]
    },
    {
     "data": {
      "text/html": [
       "<table>\n",
       "    <thead>\n",
       "        <tr>\n",
       "            <th>1</th>\n",
       "        </tr>\n",
       "    </thead>\n",
       "    <tbody>\n",
       "        <tr>\n",
       "            <td>1</td>\n",
       "        </tr>\n",
       "    </tbody>\n",
       "</table>"
      ],
      "text/plain": [
       "[(1,)]"
      ]
     },
     "execution_count": 80,
     "metadata": {},
     "output_type": "execute_result"
    }
   ],
   "source": [
    "%%sql\n",
    "\n",
    "Select 1;"
   ]
  },
  {
   "cell_type": "markdown",
   "id": "7654402f",
   "metadata": {},
   "source": [
    "#### Ex.: F_002\n",
    "\n",
    "List the Products (by name) and their suppliers (by name). Order the list by product name and limit it to the first 10 entries."
   ]
  },
  {
   "cell_type": "markdown",
   "id": "a084fc2d",
   "metadata": {},
   "source": [
    "<img src=\"pics/F_002.png\">"
   ]
  },
  {
   "cell_type": "markdown",
   "id": "fdd2cc70",
   "metadata": {},
   "source": [
    "Your answer:"
   ]
  },
  {
   "cell_type": "code",
   "execution_count": 81,
   "id": "390abe1e",
   "metadata": {},
   "outputs": [
    {
     "name": "stdout",
     "output_type": "stream",
     "text": [
      " * sqlite:///dbs/orderdb.sqlite\n",
      "Done.\n"
     ]
    },
    {
     "data": {
      "text/html": [
       "<table>\n",
       "    <thead>\n",
       "        <tr>\n",
       "            <th>1</th>\n",
       "        </tr>\n",
       "    </thead>\n",
       "    <tbody>\n",
       "        <tr>\n",
       "            <td>1</td>\n",
       "        </tr>\n",
       "    </tbody>\n",
       "</table>"
      ],
      "text/plain": [
       "[(1,)]"
      ]
     },
     "execution_count": 81,
     "metadata": {},
     "output_type": "execute_result"
    }
   ],
   "source": [
    "%%sql\n",
    "\n",
    "Select 1;"
   ]
  },
  {
   "cell_type": "markdown",
   "id": "6189613b",
   "metadata": {},
   "source": [
    "#### Ex.: F_003\n",
    "\n",
    "Show the Customers (by name) and the number of orders they have placed, as long as they have more than 15 orders with us. Order the list by the last name of the customer."
   ]
  },
  {
   "cell_type": "markdown",
   "id": "b1ce500d",
   "metadata": {},
   "source": [
    "<img src=\"pics/F_003.png\">"
   ]
  },
  {
   "cell_type": "markdown",
   "id": "4031427b",
   "metadata": {},
   "source": [
    "Your answer:"
   ]
  },
  {
   "cell_type": "code",
   "execution_count": 82,
   "id": "f13fe0c1",
   "metadata": {},
   "outputs": [
    {
     "name": "stdout",
     "output_type": "stream",
     "text": [
      " * sqlite:///dbs/orderdb.sqlite\n",
      "Done.\n"
     ]
    },
    {
     "data": {
      "text/html": [
       "<table>\n",
       "    <thead>\n",
       "        <tr>\n",
       "            <th>1</th>\n",
       "        </tr>\n",
       "    </thead>\n",
       "    <tbody>\n",
       "        <tr>\n",
       "            <td>1</td>\n",
       "        </tr>\n",
       "    </tbody>\n",
       "</table>"
      ],
      "text/plain": [
       "[(1,)]"
      ]
     },
     "execution_count": 82,
     "metadata": {},
     "output_type": "execute_result"
    }
   ],
   "source": [
    "%%sql\n",
    "\n",
    "Select 1;"
   ]
  },
  {
   "cell_type": "markdown",
   "id": "7a2e9076",
   "metadata": {},
   "source": [
    "#### Medium\n",
    "\n",
    "#### Ex.: F_020\n",
    "\n",
    "List the product names and the number of orders they appear in. Limit the list to the first 10 entries. Order the list by product name."
   ]
  },
  {
   "cell_type": "markdown",
   "id": "9c94b0e9",
   "metadata": {},
   "source": [
    "<img src=\"pics/F_020.png\">"
   ]
  },
  {
   "cell_type": "markdown",
   "id": "e6f585f6",
   "metadata": {},
   "source": [
    "Your answer:"
   ]
  },
  {
   "cell_type": "code",
   "execution_count": 83,
   "id": "b1269ad7",
   "metadata": {},
   "outputs": [
    {
     "name": "stdout",
     "output_type": "stream",
     "text": [
      " * sqlite:///dbs/orderdb.sqlite\n",
      "Done.\n"
     ]
    },
    {
     "data": {
      "text/html": [
       "<table>\n",
       "    <thead>\n",
       "        <tr>\n",
       "            <th>1</th>\n",
       "        </tr>\n",
       "    </thead>\n",
       "    <tbody>\n",
       "        <tr>\n",
       "            <td>1</td>\n",
       "        </tr>\n",
       "    </tbody>\n",
       "</table>"
      ],
      "text/plain": [
       "[(1,)]"
      ]
     },
     "execution_count": 83,
     "metadata": {},
     "output_type": "execute_result"
    }
   ],
   "source": [
    "%%sql\n",
    "\n",
    "Select 1;"
   ]
  },
  {
   "cell_type": "markdown",
   "id": "d9d52c33",
   "metadata": {},
   "source": [
    "#### Ex.: F_021\n",
    "\n",
    "List the Order number, their total amount and the last name of the customer. Order the list by total amount (From high to low) and limit to the first 8 entries;"
   ]
  },
  {
   "cell_type": "markdown",
   "id": "9ae34bdb",
   "metadata": {},
   "source": [
    "<img src=\"pics/F_021.png\">"
   ]
  },
  {
   "cell_type": "markdown",
   "id": "ecec666d",
   "metadata": {},
   "source": [
    "Your answer:"
   ]
  },
  {
   "cell_type": "code",
   "execution_count": 84,
   "id": "3eeff1fb",
   "metadata": {},
   "outputs": [
    {
     "name": "stdout",
     "output_type": "stream",
     "text": [
      " * sqlite:///dbs/orderdb.sqlite\n",
      "Done.\n"
     ]
    },
    {
     "data": {
      "text/html": [
       "<table>\n",
       "    <thead>\n",
       "        <tr>\n",
       "            <th>1</th>\n",
       "        </tr>\n",
       "    </thead>\n",
       "    <tbody>\n",
       "        <tr>\n",
       "            <td>1</td>\n",
       "        </tr>\n",
       "    </tbody>\n",
       "</table>"
      ],
      "text/plain": [
       "[(1,)]"
      ]
     },
     "execution_count": 84,
     "metadata": {},
     "output_type": "execute_result"
    }
   ],
   "source": [
    "%%sql\n",
    "\n",
    "Select 1;"
   ]
  },
  {
   "cell_type": "markdown",
   "id": "e714457b",
   "metadata": {},
   "source": [
    "#### Ex.: F_022\n",
    "\n",
    "Show the customer's first name and the products they have ordered (one line per product). Order the list by product name."
   ]
  },
  {
   "cell_type": "markdown",
   "id": "65c6f186",
   "metadata": {},
   "source": [
    "<img src=\"pics/F_022.png\">"
   ]
  },
  {
   "cell_type": "markdown",
   "id": "518d9e0b",
   "metadata": {},
   "source": [
    "Your answer:"
   ]
  },
  {
   "cell_type": "code",
   "execution_count": 85,
   "id": "e6f50a36",
   "metadata": {},
   "outputs": [
    {
     "name": "stdout",
     "output_type": "stream",
     "text": [
      " * sqlite:///dbs/orderdb.sqlite\n",
      "Done.\n"
     ]
    },
    {
     "data": {
      "text/html": [
       "<table>\n",
       "    <thead>\n",
       "        <tr>\n",
       "            <th>1</th>\n",
       "        </tr>\n",
       "    </thead>\n",
       "    <tbody>\n",
       "        <tr>\n",
       "            <td>1</td>\n",
       "        </tr>\n",
       "    </tbody>\n",
       "</table>"
      ],
      "text/plain": [
       "[(1,)]"
      ]
     },
     "execution_count": 85,
     "metadata": {},
     "output_type": "execute_result"
    }
   ],
   "source": [
    "%%sql\n",
    "\n",
    "Select 1;"
   ]
  },
  {
   "cell_type": "markdown",
   "id": "bcec1aa1",
   "metadata": {},
   "source": [
    "#### Hard\n",
    "\n",
    "#### Ex.: F_040\n",
    "\n",
    "Provide a list with all products, their suppliers and the customers, who ordered them. Limit the list to 10 entries."
   ]
  },
  {
   "cell_type": "markdown",
   "id": "7a39d061",
   "metadata": {},
   "source": [
    "<img src=\"pics/F_040.png\">"
   ]
  },
  {
   "cell_type": "markdown",
   "id": "30972ee1",
   "metadata": {},
   "source": [
    "Your answer:"
   ]
  },
  {
   "cell_type": "code",
   "execution_count": 86,
   "id": "1d8e03aa",
   "metadata": {},
   "outputs": [
    {
     "name": "stdout",
     "output_type": "stream",
     "text": [
      " * sqlite:///dbs/orderdb.sqlite\n",
      "Done.\n"
     ]
    },
    {
     "data": {
      "text/html": [
       "<table>\n",
       "    <thead>\n",
       "        <tr>\n",
       "            <th>1</th>\n",
       "        </tr>\n",
       "    </thead>\n",
       "    <tbody>\n",
       "        <tr>\n",
       "            <td>1</td>\n",
       "        </tr>\n",
       "    </tbody>\n",
       "</table>"
      ],
      "text/plain": [
       "[(1,)]"
      ]
     },
     "execution_count": 86,
     "metadata": {},
     "output_type": "execute_result"
    }
   ],
   "source": [
    "%%sql\n",
    "\n",
    "Select 1;"
   ]
  },
  {
   "cell_type": "markdown",
   "id": "50e00193",
   "metadata": {},
   "source": [
    "### Special topic:  Correlated subrequests / subqueries\n",
    "\n",
    "A correlated subrequest is query inside of another query, which references an attribute of the outer query. In consequence, the correlated subselect is executed once for every record (row) of the outer query.\n",
    "\n",
    "The following Select statement with a subselect finds all customers, who have placed at least one order:\n",
    "\n",
    "> SELECT FirstName, LastName \n",
    "FROM Customers C\n",
    "WHERE EXISTS (\n",
    "    SELECT 1 \n",
    "    FROM Orders O \n",
    "    WHERE O.CustomerId = C.Id\n",
    ");\n",
    "\n",
    "Such subselects can be nested over multiple levels. But this Notebook does not go into this.\n",
    "\n",
    "Such subselects can usually be written differently without the subselects. Which version to use depends on a number of criteria, the most dominant being the performance of the query. \n",
    "\n",
    "This table contains 3 different ways to achieve the same result as the correlated subselect above:\n",
    "\n",
    "\n",
    "| Original:<br />Corelated Subselect | Alternative 1<br />Join + Distinct | Alternative 2<br />In operator | Alternative 3<br />Inner Join with Group by |\n",
    "| ----------------------------- | - | - | - |\n",
    "| SELECT FirstName, LastName<br />FROM Customers C<br />WHERE EXISTS (<br />    SELECT 1<br />    FROM Orders O<br />    WHERE O.CustomerId = C.Id<br />); | SELECT DISTINCT Customers.FirstName, Customers.LastName<br />FROM Customers<br />JOIN Orders ON Customers.Id = Orders.CustomerId; | SELECT FirstName, LastName <br />FROM Customers <br />WHERE Id IN (SELECT CustomerId FROM Orders); | SELECT Customers.FirstName, Customers.LastName<br />FROM Customers<br />JOIN Orders ON Customers.Id = Orders.CustomerId<br />GROUP BY Customers.Id |\n",
    "\n",
    "Each DBMS provides tools, which calculate the \"cost\" of a query, trying to express, how performant it is in terms of cpu and memory utilization. \n",
    "\n"
   ]
  },
  {
   "cell_type": "markdown",
   "id": "17a43675",
   "metadata": {},
   "source": [
    "### Special topic: Transactions\n",
    "\n",
    "A transaction is a group of one or more SQL statements that are executed as a single unit. The goal is to ensure that either all operations succeed together, or none of them take effect at all.\n",
    "\n",
    "Think of a transaction like a bank transfer:\n",
    "\n",
    "1. You want to withdraw money from Account A and deposit it into Account B.\n",
    "2. If only one of those steps succeeds, something's gone wrong — the system must roll back both steps.\n",
    "\n",
    "A transaction follows the ACID principles:\n",
    "\n",
    "| Property | Description | \n",
    "| -------- | ----------- | \n",
    "| Atomicity   | All operations succeed or none at all.                                 | \n",
    "| Consistency | The database moves from one valid state to another.                    | \n",
    "| Isolation\t  | Concurrent transactions don’t interfere with each other.               | \n",
    "| Durability  | Once committed, the transaction stays committed—even after power loss. | \n",
    "\n",
    "The table below shows the basic transaction commands:\n",
    "\n",
    "| Command | Explanation | \n",
    "| ------- | ------------ | \n",
    "| <Nothing> | Depending on the setting of Autocommit in the DB any statement after the end of a transaction starts a new transaction. | \n",
    "| Begin; <br /> Begin Transaction; | Start of a transaction | \n",
    "| Commit;                          | Saves changes permanently | \n",
    "| Rollback;                        | Undo all changes since the BEGIN | \n",
    "| --------------------------       | | \n",
    "| Savepoint #name;                 | Defines a point within a transaction to go back to when needed. | \n",
    "| Rollback to #name;               | Go back to Savepoint #name | \n",
    "| Release Savepoint #name          | Free resources while transaction is still running | \n",
    "\n",
    "*Example:*\n",
    "\n",
    "> BEGIN;<br /><br />\n",
    "UPDATE Products SET UnitPrice = UnitPrice * 0.9;<br /><br />\n",
    "SAVEPOINT before_delete;<br />\n",
    "DELETE FROM Products WHERE UnitPrice < 1;<br /><br />\n",
    "-- Oops! Too much<br />\n",
    "ROLLBACK TO before_delete;<br /><br />\n",
    "-- Changes before the Savepoint are kept<br /><br />\n",
    "COMMIT;"
   ]
  },
  {
   "cell_type": "markdown",
   "id": "c89fc5a7",
   "metadata": {},
   "source": [
    "### Special topic:  Null values\n",
    "\n",
    "In SQL, NULL means \"unknown\", \"missing\", or \"not applicable\" — it does not mean zero, empty string, or false. Almost any attributes can contain NUll as a value. \n",
    "\n",
    "There are attributes, which cannot be NULL. One of them is the primary key of a table (which values need to be unique also). All other attributes might have a constraint put on them while creating the database (NOT NULL). A foreign key, on the other hand, can be null, even multiple records can have a null value as foreign key. This simply means, that there is no entry in the table the foreign key points to, which is linked with the record in question.\n",
    "\n",
    "#### Testing for Null\n",
    "\n",
    "Comparing for Null is different from any other comparison. One cannot make use of the equal (=) sign. Instead, one uses the operator IS NULL or testing for not Null with IS NOT NULL.\n",
    "\n",
    "> SELECT * FROM Customers WHERE Phone IS NULL;\n",
    "\n",
    "One should notice, that greater than ( > NULL) or less than ( < NULL) also do not work.\n",
    "\n",
    "#### Using COALESCE() to replace Null\n",
    "\n",
    "Coalesce replaces Null values with a provided value. It returns any other value unaltered.\n",
    "\n",
    "> SELECT FirstName, COALESCE(Phone, 'No phone') AS Contact\n",
    "FROM Customers;\n",
    "\n",
    "#### Aggregation & NULL\n",
    "\n",
    "Aggregate functions ignore NULL values.\n",
    "\n",
    "> Select count(*) from Suppliers;\n",
    "\n",
    "This returns 31 records counted.\n",
    "\n",
    "> Select count(Fax) from Suppliers;\n",
    "\n",
    "This returns only 15 entries, as 16 are Null, as can be seen in this query:\n",
    "\n",
    "\n",
    "> Select count(*) from Suppliers where Fax is NULL;\n"
   ]
  }
 ],
 "metadata": {
  "kernelspec": {
   "display_name": "Python 3 (ipykernel)",
   "language": "python",
   "name": "python3"
  },
  "language_info": {
   "codemirror_mode": {
    "name": "ipython",
    "version": 3
   },
   "file_extension": ".py",
   "mimetype": "text/x-python",
   "name": "python",
   "nbconvert_exporter": "python",
   "pygments_lexer": "ipython3",
   "version": "3.13.2"
  }
 },
 "nbformat": 4,
 "nbformat_minor": 5
}
