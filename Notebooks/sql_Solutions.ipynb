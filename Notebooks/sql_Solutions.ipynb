{
 "cells": [
  {
   "cell_type": "markdown",
   "id": "4d6aeb45-0908-4445-baf1-59d977dbbae1",
   "metadata": {},
   "source": [
    "# SQL training Notebook for programmer\n",
    "\n",
    "* This Notebook provides a solid SQL training. It works based on a SQLite database. SQLite is a widely used database. As Android uses it and the web browsers also rely on it, the number of actively used instances goes into the billions.\n",
    "\n",
    "* After running the initialization cell, one can work on the exercises in any order. All the solutions are independent of each other.\n",
    "\n",
    "* You will get a description of the exercise you have to solve in an SQL statement. The solution cell - where you enter your answer - has the starting SQL statement, which you will modify / enrich to provide the solution.\n",
    "\n",
    "* Each exercise contains the resulting table expected to be produced by your solution.\n",
    "\n",
    "* This Notebook focuses on the SELECT SQL statement (DQL), as this is the most used one in a program:\n"
   ]
  },
  {
   "cell_type": "markdown",
   "id": "06ac4f41-0040-4b75-9214-da023981a68a",
   "metadata": {},
   "source": [
    "## Initialization\n",
    "\n",
    "Please run the cell below this one to initialize the notebook. After that, you are free to pick and choose the tasks you want to work on in any order."
   ]
  },
  {
   "cell_type": "code",
   "execution_count": 2,
   "id": "704b2f17-9174-41b3-9e6c-b37979f09dae",
   "metadata": {},
   "outputs": [
    {
     "name": "stdout",
     "output_type": "stream",
     "text": [
      "Initialized\n"
     ]
    }
   ],
   "source": [
    "%load_ext sql\n",
    "\n",
    "%config SqlMagic.style = '_DEPRECATED_DEFAULT'\n",
    "\n",
    "%sql sqlite:///dbs/orderdb.sqlite\n",
    "\n",
    "print('Initialized')"
   ]
  },
  {
   "cell_type": "markdown",
   "id": "f753f09a-c72f-4e69-b20b-9cf8242e087a",
   "metadata": {},
   "source": [
    "When you run the next cell, you should see this output:\n",
    "\n",
    "<img src=\"pics/sql-db-table-list.png\">\n",
    "\n",
    "The PRAGMA command used is SQLite specific. This does not work with any other database.\n",
    "\n",
    "**If this is not the case, then the database did not load correctly. The consequence of this is that you cannot run the following exercises.**"
   ]
  },
  {
   "cell_type": "code",
   "execution_count": 3,
   "id": "7214ff62-9043-4caf-b0b7-277110565e91",
   "metadata": {},
   "outputs": [
    {
     "name": "stdout",
     "output_type": "stream",
     "text": [
      " * sqlite:///dbs/orderdb.sqlite\n",
      "Done.\n"
     ]
    },
    {
     "data": {
      "text/html": [
       "<table>\n",
       "    <thead>\n",
       "        <tr>\n",
       "            <th>schema</th>\n",
       "            <th>name</th>\n",
       "            <th>type</th>\n",
       "            <th>ncol</th>\n",
       "            <th>wr</th>\n",
       "            <th>strict</th>\n",
       "        </tr>\n",
       "    </thead>\n",
       "    <tbody>\n",
       "        <tr>\n",
       "            <td>main</td>\n",
       "            <td>Student</td>\n",
       "            <td>table</td>\n",
       "            <td>3</td>\n",
       "            <td>0</td>\n",
       "            <td>0</td>\n",
       "        </tr>\n",
       "        <tr>\n",
       "            <td>main</td>\n",
       "            <td>Suppliers</td>\n",
       "            <td>table</td>\n",
       "            <td>8</td>\n",
       "            <td>0</td>\n",
       "            <td>0</td>\n",
       "        </tr>\n",
       "        <tr>\n",
       "            <td>main</td>\n",
       "            <td>Products</td>\n",
       "            <td>table</td>\n",
       "            <td>6</td>\n",
       "            <td>0</td>\n",
       "            <td>0</td>\n",
       "        </tr>\n",
       "        <tr>\n",
       "            <td>main</td>\n",
       "            <td>OrderItems</td>\n",
       "            <td>table</td>\n",
       "            <td>5</td>\n",
       "            <td>0</td>\n",
       "            <td>0</td>\n",
       "        </tr>\n",
       "        <tr>\n",
       "            <td>main</td>\n",
       "            <td>Orders</td>\n",
       "            <td>table</td>\n",
       "            <td>5</td>\n",
       "            <td>0</td>\n",
       "            <td>0</td>\n",
       "        </tr>\n",
       "        <tr>\n",
       "            <td>main</td>\n",
       "            <td>Customers</td>\n",
       "            <td>table</td>\n",
       "            <td>6</td>\n",
       "            <td>0</td>\n",
       "            <td>0</td>\n",
       "        </tr>\n",
       "        <tr>\n",
       "            <td>main</td>\n",
       "            <td>sqlite_schema</td>\n",
       "            <td>table</td>\n",
       "            <td>5</td>\n",
       "            <td>0</td>\n",
       "            <td>0</td>\n",
       "        </tr>\n",
       "        <tr>\n",
       "            <td>temp</td>\n",
       "            <td>sqlite_temp_schema</td>\n",
       "            <td>table</td>\n",
       "            <td>5</td>\n",
       "            <td>0</td>\n",
       "            <td>0</td>\n",
       "        </tr>\n",
       "    </tbody>\n",
       "</table>"
      ],
      "text/plain": [
       "[('main', 'Student', 'table', 3, 0, 0),\n",
       " ('main', 'Suppliers', 'table', 8, 0, 0),\n",
       " ('main', 'Products', 'table', 6, 0, 0),\n",
       " ('main', 'OrderItems', 'table', 5, 0, 0),\n",
       " ('main', 'Orders', 'table', 5, 0, 0),\n",
       " ('main', 'Customers', 'table', 6, 0, 0),\n",
       " ('main', 'sqlite_schema', 'table', 5, 0, 0),\n",
       " ('temp', 'sqlite_temp_schema', 'table', 5, 0, 0)]"
      ]
     },
     "execution_count": 3,
     "metadata": {},
     "output_type": "execute_result"
    }
   ],
   "source": [
    "%sql PRAGMA table_list"
   ]
  },
  {
   "cell_type": "markdown",
   "id": "66474621-af43-4a10-9773-6f61351a5bb9",
   "metadata": {},
   "source": [
    "And another verification:  The list of the tables in the db and the number of records contained in them. The result should look like this in order to assure working with the correct db:\n",
    "\n",
    "<img src=\"pics/sql-db-num-records.png\">\n",
    "\n",
    "There is no need right now to understand the SELECT statement just now. It will become more clear along the exercises in this notebook. At the moment, just verify the results."
   ]
  },
  {
   "cell_type": "code",
   "execution_count": 4,
   "id": "fa2c9d7d-337d-46d3-a480-ce76d7e93d7a",
   "metadata": {},
   "outputs": [
    {
     "name": "stdout",
     "output_type": "stream",
     "text": [
      " * sqlite:///dbs/orderdb.sqlite\n",
      "Done.\n"
     ]
    },
    {
     "data": {
      "text/html": [
       "<table>\n",
       "    <thead>\n",
       "        <tr>\n",
       "            <th>Tablename</th>\n",
       "            <th>Number_of_Records</th>\n",
       "        </tr>\n",
       "    </thead>\n",
       "    <tbody>\n",
       "        <tr>\n",
       "            <td>Customers</td>\n",
       "            <td>91</td>\n",
       "        </tr>\n",
       "        <tr>\n",
       "            <td>OrderItems</td>\n",
       "            <td>2155</td>\n",
       "        </tr>\n",
       "        <tr>\n",
       "            <td>Orders</td>\n",
       "            <td>830</td>\n",
       "        </tr>\n",
       "        <tr>\n",
       "            <td>Products</td>\n",
       "            <td>78</td>\n",
       "        </tr>\n",
       "        <tr>\n",
       "            <td>Suppliers</td>\n",
       "            <td>31</td>\n",
       "        </tr>\n",
       "    </tbody>\n",
       "</table>"
      ],
      "text/plain": [
       "[('Customers', 91),\n",
       " ('OrderItems', 2155),\n",
       " ('Orders', 830),\n",
       " ('Products', 78),\n",
       " ('Suppliers', 31)]"
      ]
     },
     "execution_count": 4,
     "metadata": {},
     "output_type": "execute_result"
    }
   ],
   "source": [
    "%%sql\n",
    "SELECT 'Customers'  Tablename, COUNT(*) Number_of_Records FROM Customers \n",
    "UNION\n",
    "SELECT 'Products'  , COUNT(*) FROM Products\n",
    "UNION\n",
    "SELECT 'Suppliers'  , COUNT(*) FROM Suppliers\n",
    "UNION\n",
    "SELECT 'Orders'  , COUNT(*) FROM Orders\n",
    "UNION\n",
    "SELECT 'OrderItems'  , COUNT(*) FROM OrderItems"
   ]
  },
  {
   "cell_type": "markdown",
   "id": "c7bf6218-89e7-4f2a-b215-1b8dc481a81a",
   "metadata": {},
   "source": [
    "## Database design\n",
    "\n",
    "Here is the design of the SQLite database:\n",
    "\n",
    "<img src=\"pics/db.png\">\n",
    "\n",
    "The yellow arrows show the Foreign-Key relationship between the tables."
   ]
  },
  {
   "cell_type": "markdown",
   "id": "cf85f993-83f4-46df-9913-3a00e2fa42a6",
   "metadata": {},
   "source": [
    "## How to work with the Notebook\n",
    "\n",
    "Each exercise in this Notebook describes a problem for you to solve with a SQL SELECT statement. Below the problem description, there is the result of the correct SQL statement. This answer is either provided in the form of a string, a number or a complete table (similar to the ones above). \n",
    "\n",
    "Below the exercise, there will be a cell for the answer. Often, there is a rudimentary SELECT statement in the cell already for you to expand on."
   ]
  },
  {
   "cell_type": "markdown",
   "id": "d148bc2b-ffa3-47bb-a1ec-f54180ea0c0d",
   "metadata": {},
   "source": [
    "## SELECT statement\n",
    "The SELECT statement allows retrieving data from a db based on the criteria provided with the SELECT. It is a very powerful command, which can process very complex criteria.\n",
    "\n",
    "As you will see in the following exercises, the SELECT command allows to not only work based on one table, but it can provide results, which are a combination of the data of multiple tables. \n",
    "\n",
    "The structure of a SELECT statement looks like this:\n",
    "\n",
    "SELECT <br>\n",
    "FROM <br>\n",
    "WHERE <br>\n",
    "GROUP BY <br>\n",
    "HAVING <br>\n",
    "ORDER BY <br>\n",
    "LIMIT <br>\n",
    "\n",
    "The following exercises will introduce the different parts of the select statement to you. Each section is built like this: First, there is a short summary of the  part of the SELECT statement looked at, and then there will be exercises. Their difficulty / complexity will increase, starting with EASY, then MEDIUM, then HARD. There is no need to answer all the exercises in order to have a basic to good understanding of SQL. The idea simply is to challenge those students, who already have some SQL knowledge.\n",
    "\n",
    "This Notebook provides the resulting tables based on the provided SQLite db. We will discuss the SQL statements to solve the exercises during the lecture.\n",
    "\n",
    "As there are tables in the db with hundreds, if not thousands of entries, the exercises often ask you for the number of records found in the result set. That means, that you will have to provide the correct SQL statement and then have it count the number of found records in the dab. (How this counting is done will be covered further down.\n",
    "\n",
    "The advantage of the approach is that the required SQL statement can be constructed, but the Notebook is not containing tables with hundreds of records.\n",
    "\n",
    "Have fun!"
   ]
  },
  {
   "cell_type": "markdown",
   "id": "a4365b53-e15a-4878-a717-a77ade37fc74",
   "metadata": {},
   "source": [
    "### Select one-liners\n",
    "\n",
    "The following exercises focus on only using the SELECT keyword and none of the other parts of the SELECT statement. This is rarely used in real life, but it demonstrates an aspect seldom shown.\n",
    "\n",
    "The exercises show the following:\n",
    "\n",
    "* Use literals\n",
    "* Perform arithmetic\n",
    "* Alias columns\n",
    "* Use functions\n",
    "* Nest expressions\n",
    "\n",
    "DO NOT FORGET THE SEMICOLON AT THE END OF EACH SELECT STATEMENT!"
   ]
  },
  {
   "cell_type": "markdown",
   "id": "02fb0eb9-d49a-47cf-bad2-842b2d69d1a2",
   "metadata": {},
   "source": [
    "#### Easy"
   ]
  },
  {
   "cell_type": "markdown",
   "id": "ec236ba5-5436-44ca-82bb-df052dd94b80",
   "metadata": {},
   "source": [
    "##### Ex: A_001:\n",
    "\n",
    "Simpler than this it will will not get. Select the number 5."
   ]
  },
  {
   "cell_type": "code",
   "execution_count": 5,
   "id": "173d34a9-59f1-4dfa-8676-f000aee67c59",
   "metadata": {},
   "outputs": [
    {
     "name": "stdout",
     "output_type": "stream",
     "text": [
      " * sqlite:///dbs/orderdb.sqlite\n",
      "Done.\n"
     ]
    },
    {
     "data": {
      "text/html": [
       "<table>\n",
       "    <thead>\n",
       "        <tr>\n",
       "            <th>5</th>\n",
       "        </tr>\n",
       "    </thead>\n",
       "    <tbody>\n",
       "        <tr>\n",
       "            <td>5</td>\n",
       "        </tr>\n",
       "    </tbody>\n",
       "</table>"
      ],
      "text/plain": [
       "[(5,)]"
      ]
     },
     "execution_count": 5,
     "metadata": {},
     "output_type": "execute_result"
    }
   ],
   "source": [
    "%%sql\n",
    "Select 5;"
   ]
  },
  {
   "cell_type": "markdown",
   "id": "513398fc-16c7-4f23-ab95-3605b6df5e0e",
   "metadata": {},
   "source": [
    "Your answer:"
   ]
  },
  {
   "cell_type": "code",
   "execution_count": 6,
   "id": "8aed3e5f-bf14-48cc-99c3-1b98b970933f",
   "metadata": {},
   "outputs": [
    {
     "name": "stdout",
     "output_type": "stream",
     "text": [
      " * sqlite:///dbs/orderdb.sqlite\n",
      "Done.\n"
     ]
    },
    {
     "data": {
      "text/html": [
       "<table>\n",
       "    <thead>\n",
       "        <tr>\n",
       "            <th>1</th>\n",
       "        </tr>\n",
       "    </thead>\n",
       "    <tbody>\n",
       "        <tr>\n",
       "            <td>1</td>\n",
       "        </tr>\n",
       "    </tbody>\n",
       "</table>"
      ],
      "text/plain": [
       "[(1,)]"
      ]
     },
     "execution_count": 6,
     "metadata": {},
     "output_type": "execute_result"
    }
   ],
   "source": [
    "%%sql\n",
    "SELECT 1;"
   ]
  },
  {
   "cell_type": "markdown",
   "id": "60da1866-14b5-44af-b9e1-d55b8cd8a1a3",
   "metadata": {},
   "source": [
    "##### Ex: A_002\n",
    "\n",
    "Add 2 and 3"
   ]
  },
  {
   "cell_type": "code",
   "execution_count": 7,
   "id": "a4eb640f-39aa-4562-a4cf-7c7bced79046",
   "metadata": {},
   "outputs": [
    {
     "name": "stdout",
     "output_type": "stream",
     "text": [
      " * sqlite:///dbs/orderdb.sqlite\n",
      "Done.\n"
     ]
    },
    {
     "data": {
      "text/html": [
       "<table>\n",
       "    <thead>\n",
       "        <tr>\n",
       "            <th>2 + 3</th>\n",
       "        </tr>\n",
       "    </thead>\n",
       "    <tbody>\n",
       "        <tr>\n",
       "            <td>5</td>\n",
       "        </tr>\n",
       "    </tbody>\n",
       "</table>"
      ],
      "text/plain": [
       "[(5,)]"
      ]
     },
     "execution_count": 7,
     "metadata": {},
     "output_type": "execute_result"
    }
   ],
   "source": [
    "%%sql\n",
    "\n",
    "Select 2 + 3;"
   ]
  },
  {
   "cell_type": "markdown",
   "id": "ce61a97c-4125-45a7-9e0a-1940d7f26571",
   "metadata": {},
   "source": [
    "Your answer:"
   ]
  },
  {
   "cell_type": "code",
   "execution_count": 8,
   "id": "488f32b9-fed2-4e65-ae6c-7005a40e2a3e",
   "metadata": {},
   "outputs": [
    {
     "name": "stdout",
     "output_type": "stream",
     "text": [
      " * sqlite:///dbs/orderdb.sqlite\n",
      "Done.\n"
     ]
    },
    {
     "data": {
      "text/html": [
       "<table>\n",
       "    <thead>\n",
       "        <tr>\n",
       "            <th>1</th>\n",
       "        </tr>\n",
       "    </thead>\n",
       "    <tbody>\n",
       "        <tr>\n",
       "            <td>1</td>\n",
       "        </tr>\n",
       "    </tbody>\n",
       "</table>"
      ],
      "text/plain": [
       "[(1,)]"
      ]
     },
     "execution_count": 8,
     "metadata": {},
     "output_type": "execute_result"
    }
   ],
   "source": [
    "%%sql\n",
    "SELECT 1;"
   ]
  },
  {
   "cell_type": "markdown",
   "id": "3ec300d3-0502-4f8f-9426-70e4917234f1",
   "metadata": {},
   "source": [
    "##### Ex: A_003\n",
    "\n",
    "Select the string 'Hello'"
   ]
  },
  {
   "cell_type": "code",
   "execution_count": 9,
   "id": "372ba569-c367-41ac-8c80-b81b387e81ea",
   "metadata": {},
   "outputs": [
    {
     "name": "stdout",
     "output_type": "stream",
     "text": [
      " * sqlite:///dbs/orderdb.sqlite\n",
      "Done.\n"
     ]
    },
    {
     "data": {
      "text/html": [
       "<table>\n",
       "    <thead>\n",
       "        <tr>\n",
       "            <th>&#x27;Hello&#x27;</th>\n",
       "        </tr>\n",
       "    </thead>\n",
       "    <tbody>\n",
       "        <tr>\n",
       "            <td>Hello</td>\n",
       "        </tr>\n",
       "    </tbody>\n",
       "</table>"
      ],
      "text/plain": [
       "[('Hello',)]"
      ]
     },
     "execution_count": 9,
     "metadata": {},
     "output_type": "execute_result"
    }
   ],
   "source": [
    "%%sql\n",
    "\n",
    "SELECT 'Hello';"
   ]
  },
  {
   "cell_type": "markdown",
   "id": "eadaf2f3-ec86-4b50-98bc-59eb4129676d",
   "metadata": {},
   "source": [
    "Your answer:"
   ]
  },
  {
   "cell_type": "code",
   "execution_count": 10,
   "id": "9e63ecb4-a019-4426-8687-258cdf84f0be",
   "metadata": {},
   "outputs": [
    {
     "name": "stdout",
     "output_type": "stream",
     "text": [
      " * sqlite:///dbs/orderdb.sqlite\n",
      "Done.\n"
     ]
    },
    {
     "data": {
      "text/html": [
       "<table>\n",
       "    <thead>\n",
       "        <tr>\n",
       "            <th>1</th>\n",
       "        </tr>\n",
       "    </thead>\n",
       "    <tbody>\n",
       "        <tr>\n",
       "            <td>1</td>\n",
       "        </tr>\n",
       "    </tbody>\n",
       "</table>"
      ],
      "text/plain": [
       "[(1,)]"
      ]
     },
     "execution_count": 10,
     "metadata": {},
     "output_type": "execute_result"
    }
   ],
   "source": [
    "%%sql\n",
    "\n",
    "Select 1;"
   ]
  },
  {
   "cell_type": "markdown",
   "id": "6064dab3",
   "metadata": {},
   "source": [
    "##### Ex: A_004\n",
    "\n",
    "Add 2 and 3 as Sum:  The intension is to name the column Sum."
   ]
  },
  {
   "cell_type": "code",
   "execution_count": 11,
   "id": "cc51a58f",
   "metadata": {},
   "outputs": [
    {
     "name": "stdout",
     "output_type": "stream",
     "text": [
      " * sqlite:///dbs/orderdb.sqlite\n",
      "Done.\n"
     ]
    },
    {
     "data": {
      "text/html": [
       "<table>\n",
       "    <thead>\n",
       "        <tr>\n",
       "            <th>Sum</th>\n",
       "        </tr>\n",
       "    </thead>\n",
       "    <tbody>\n",
       "        <tr>\n",
       "            <td>5</td>\n",
       "        </tr>\n",
       "    </tbody>\n",
       "</table>"
      ],
      "text/plain": [
       "[(5,)]"
      ]
     },
     "execution_count": 11,
     "metadata": {},
     "output_type": "execute_result"
    }
   ],
   "source": [
    "%%sql\n",
    "\n",
    "SELECT 2 + 3 AS Sum;"
   ]
  },
  {
   "cell_type": "markdown",
   "id": "797ae8fe",
   "metadata": {},
   "source": [
    "Your answer:"
   ]
  },
  {
   "cell_type": "code",
   "execution_count": 12,
   "id": "2ed0da67",
   "metadata": {},
   "outputs": [
    {
     "name": "stdout",
     "output_type": "stream",
     "text": [
      " * sqlite:///dbs/orderdb.sqlite\n",
      "Done.\n"
     ]
    },
    {
     "data": {
      "text/html": [
       "<table>\n",
       "    <thead>\n",
       "        <tr>\n",
       "            <th>1</th>\n",
       "        </tr>\n",
       "    </thead>\n",
       "    <tbody>\n",
       "        <tr>\n",
       "            <td>1</td>\n",
       "        </tr>\n",
       "    </tbody>\n",
       "</table>"
      ],
      "text/plain": [
       "[(1,)]"
      ]
     },
     "execution_count": 12,
     "metadata": {},
     "output_type": "execute_result"
    }
   ],
   "source": [
    "%%sql\n",
    "\n",
    "Select 1;"
   ]
  },
  {
   "cell_type": "markdown",
   "id": "b1de15f3-1702-4e1c-a36a-8f8f47509dbc",
   "metadata": {},
   "source": [
    "#### Medium"
   ]
  },
  {
   "cell_type": "markdown",
   "id": "acb5374b",
   "metadata": {},
   "source": [
    "##### Ex: A_020\n",
    "\n",
    "Have two columns, A and B. The value in column A is 10, in column B is 20."
   ]
  },
  {
   "cell_type": "code",
   "execution_count": 13,
   "id": "7c07cec8",
   "metadata": {},
   "outputs": [
    {
     "name": "stdout",
     "output_type": "stream",
     "text": [
      " * sqlite:///dbs/orderdb.sqlite\n",
      "Done.\n"
     ]
    },
    {
     "data": {
      "text/html": [
       "<table>\n",
       "    <thead>\n",
       "        <tr>\n",
       "            <th>A</th>\n",
       "            <th>B</th>\n",
       "        </tr>\n",
       "    </thead>\n",
       "    <tbody>\n",
       "        <tr>\n",
       "            <td>10</td>\n",
       "            <td>20</td>\n",
       "        </tr>\n",
       "    </tbody>\n",
       "</table>"
      ],
      "text/plain": [
       "[(10, 20)]"
      ]
     },
     "execution_count": 13,
     "metadata": {},
     "output_type": "execute_result"
    }
   ],
   "source": [
    "%%sql\n",
    "\n",
    "SELECT 10 AS A, 20 AS B;"
   ]
  },
  {
   "cell_type": "markdown",
   "id": "8c4dad2c",
   "metadata": {},
   "source": [
    "Your answer:"
   ]
  },
  {
   "cell_type": "code",
   "execution_count": 14,
   "id": "6053e1f2",
   "metadata": {},
   "outputs": [
    {
     "name": "stdout",
     "output_type": "stream",
     "text": [
      " * sqlite:///dbs/orderdb.sqlite\n",
      "Done.\n"
     ]
    },
    {
     "data": {
      "text/html": [
       "<table>\n",
       "    <thead>\n",
       "        <tr>\n",
       "            <th>1</th>\n",
       "        </tr>\n",
       "    </thead>\n",
       "    <tbody>\n",
       "        <tr>\n",
       "            <td>1</td>\n",
       "        </tr>\n",
       "    </tbody>\n",
       "</table>"
      ],
      "text/plain": [
       "[(1,)]"
      ]
     },
     "execution_count": 14,
     "metadata": {},
     "output_type": "execute_result"
    }
   ],
   "source": [
    "%%sql\n",
    "\n",
    "Select 1;"
   ]
  },
  {
   "cell_type": "markdown",
   "id": "cf7f5569",
   "metadata": {},
   "source": [
    "##### Ex: A_021\n",
    "\n",
    "Show the result of 10 / 3  --  with decimal points"
   ]
  },
  {
   "cell_type": "code",
   "execution_count": 15,
   "id": "ca9a301c",
   "metadata": {},
   "outputs": [
    {
     "name": "stdout",
     "output_type": "stream",
     "text": [
      " * sqlite:///dbs/orderdb.sqlite\n",
      "Done.\n"
     ]
    },
    {
     "data": {
      "text/html": [
       "<table>\n",
       "    <thead>\n",
       "        <tr>\n",
       "            <th>10.0 / 3</th>\n",
       "        </tr>\n",
       "    </thead>\n",
       "    <tbody>\n",
       "        <tr>\n",
       "            <td>3.3333333333333335</td>\n",
       "        </tr>\n",
       "    </tbody>\n",
       "</table>"
      ],
      "text/plain": [
       "[(3.3333333333333335,)]"
      ]
     },
     "execution_count": 15,
     "metadata": {},
     "output_type": "execute_result"
    }
   ],
   "source": [
    "%%sql\n",
    "\n",
    "SELECT 10.0 / 3;"
   ]
  },
  {
   "cell_type": "markdown",
   "id": "17376b39",
   "metadata": {},
   "source": [
    "Your answer:"
   ]
  },
  {
   "cell_type": "code",
   "execution_count": 16,
   "id": "e3d62e5b",
   "metadata": {},
   "outputs": [
    {
     "name": "stdout",
     "output_type": "stream",
     "text": [
      " * sqlite:///dbs/orderdb.sqlite\n",
      "Done.\n"
     ]
    },
    {
     "data": {
      "text/html": [
       "<table>\n",
       "    <thead>\n",
       "        <tr>\n",
       "            <th>1</th>\n",
       "        </tr>\n",
       "    </thead>\n",
       "    <tbody>\n",
       "        <tr>\n",
       "            <td>1</td>\n",
       "        </tr>\n",
       "    </tbody>\n",
       "</table>"
      ],
      "text/plain": [
       "[(1,)]"
      ]
     },
     "execution_count": 16,
     "metadata": {},
     "output_type": "execute_result"
    }
   ],
   "source": [
    "%%sql\n",
    "\n",
    "Select 1;"
   ]
  },
  {
   "cell_type": "markdown",
   "id": "dc2123d7",
   "metadata": {},
   "source": [
    "##### Ex: A_022\n",
    "\n",
    "Show the square root of 49"
   ]
  },
  {
   "cell_type": "code",
   "execution_count": 17,
   "id": "5663ef49",
   "metadata": {},
   "outputs": [
    {
     "name": "stdout",
     "output_type": "stream",
     "text": [
      " * sqlite:///dbs/orderdb.sqlite\n",
      "Done.\n"
     ]
    },
    {
     "data": {
      "text/html": [
       "<table>\n",
       "    <thead>\n",
       "        <tr>\n",
       "            <th>sqrt( 49 )</th>\n",
       "        </tr>\n",
       "    </thead>\n",
       "    <tbody>\n",
       "        <tr>\n",
       "            <td>7.0</td>\n",
       "        </tr>\n",
       "    </tbody>\n",
       "</table>"
      ],
      "text/plain": [
       "[(7.0,)]"
      ]
     },
     "execution_count": 17,
     "metadata": {},
     "output_type": "execute_result"
    }
   ],
   "source": [
    "%%sql\n",
    "\n",
    "SELECT sqrt( 49 );"
   ]
  },
  {
   "cell_type": "markdown",
   "id": "ae96e7c8",
   "metadata": {},
   "source": [
    "Your answer:"
   ]
  },
  {
   "cell_type": "code",
   "execution_count": 18,
   "id": "37e2455f",
   "metadata": {},
   "outputs": [
    {
     "name": "stdout",
     "output_type": "stream",
     "text": [
      " * sqlite:///dbs/orderdb.sqlite\n",
      "Done.\n"
     ]
    },
    {
     "data": {
      "text/html": [
       "<table>\n",
       "    <thead>\n",
       "        <tr>\n",
       "            <th>1</th>\n",
       "        </tr>\n",
       "    </thead>\n",
       "    <tbody>\n",
       "        <tr>\n",
       "            <td>1</td>\n",
       "        </tr>\n",
       "    </tbody>\n",
       "</table>"
      ],
      "text/plain": [
       "[(1,)]"
      ]
     },
     "execution_count": 18,
     "metadata": {},
     "output_type": "execute_result"
    }
   ],
   "source": [
    "%%sql\n",
    "\n",
    "Select 1;"
   ]
  },
  {
   "cell_type": "markdown",
   "id": "6989ce3a",
   "metadata": {},
   "source": [
    "##### Ex: A_023\n",
    "\n",
    "Show the current date"
   ]
  },
  {
   "cell_type": "code",
   "execution_count": 19,
   "id": "dde1b352",
   "metadata": {},
   "outputs": [
    {
     "name": "stdout",
     "output_type": "stream",
     "text": [
      " * sqlite:///dbs/orderdb.sqlite\n",
      "Done.\n"
     ]
    },
    {
     "data": {
      "text/html": [
       "<table>\n",
       "    <thead>\n",
       "        <tr>\n",
       "            <th>date(&#x27;now&#x27;)</th>\n",
       "        </tr>\n",
       "    </thead>\n",
       "    <tbody>\n",
       "        <tr>\n",
       "            <td>2025-04-13</td>\n",
       "        </tr>\n",
       "    </tbody>\n",
       "</table>"
      ],
      "text/plain": [
       "[('2025-04-13',)]"
      ]
     },
     "execution_count": 19,
     "metadata": {},
     "output_type": "execute_result"
    }
   ],
   "source": [
    "%%sql\n",
    "\n",
    "SELECT date('now');"
   ]
  },
  {
   "cell_type": "markdown",
   "id": "028f6ad5",
   "metadata": {},
   "source": [
    "Your answer:"
   ]
  },
  {
   "cell_type": "code",
   "execution_count": 20,
   "id": "afab166a",
   "metadata": {},
   "outputs": [
    {
     "name": "stdout",
     "output_type": "stream",
     "text": [
      " * sqlite:///dbs/orderdb.sqlite\n",
      "Done.\n"
     ]
    },
    {
     "data": {
      "text/html": [
       "<table>\n",
       "    <thead>\n",
       "        <tr>\n",
       "            <th>1</th>\n",
       "        </tr>\n",
       "    </thead>\n",
       "    <tbody>\n",
       "        <tr>\n",
       "            <td>1</td>\n",
       "        </tr>\n",
       "    </tbody>\n",
       "</table>"
      ],
      "text/plain": [
       "[(1,)]"
      ]
     },
     "execution_count": 20,
     "metadata": {},
     "output_type": "execute_result"
    }
   ],
   "source": [
    "%%sql\n",
    "\n",
    "Select 1;"
   ]
  },
  {
   "cell_type": "markdown",
   "id": "4297fc82",
   "metadata": {},
   "source": [
    "##### Ex: A_024\n",
    "\n",
    "Concatenate the strings \"Hello \"  and  \"World!\""
   ]
  },
  {
   "cell_type": "code",
   "execution_count": 21,
   "id": "158ae942",
   "metadata": {},
   "outputs": [
    {
     "name": "stdout",
     "output_type": "stream",
     "text": [
      " * sqlite:///dbs/orderdb.sqlite\n",
      "Done.\n"
     ]
    },
    {
     "data": {
      "text/html": [
       "<table>\n",
       "    <thead>\n",
       "        <tr>\n",
       "            <th>Concatenated strings</th>\n",
       "        </tr>\n",
       "    </thead>\n",
       "    <tbody>\n",
       "        <tr>\n",
       "            <td>Hello World!</td>\n",
       "        </tr>\n",
       "    </tbody>\n",
       "</table>"
      ],
      "text/plain": [
       "[('Hello World!',)]"
      ]
     },
     "execution_count": 21,
     "metadata": {},
     "output_type": "execute_result"
    }
   ],
   "source": [
    "%%sql\n",
    "\n",
    "SELECT 'Hello ' || 'World!' as 'Concatenated strings'"
   ]
  },
  {
   "cell_type": "markdown",
   "id": "4fa63aca",
   "metadata": {},
   "source": [
    "Your answer:"
   ]
  },
  {
   "cell_type": "code",
   "execution_count": 22,
   "id": "487dcb19",
   "metadata": {},
   "outputs": [
    {
     "name": "stdout",
     "output_type": "stream",
     "text": [
      " * sqlite:///dbs/orderdb.sqlite\n",
      "Done.\n"
     ]
    },
    {
     "data": {
      "text/html": [
       "<table>\n",
       "    <thead>\n",
       "        <tr>\n",
       "            <th>1</th>\n",
       "        </tr>\n",
       "    </thead>\n",
       "    <tbody>\n",
       "        <tr>\n",
       "            <td>1</td>\n",
       "        </tr>\n",
       "    </tbody>\n",
       "</table>"
      ],
      "text/plain": [
       "[(1,)]"
      ]
     },
     "execution_count": 22,
     "metadata": {},
     "output_type": "execute_result"
    }
   ],
   "source": [
    "%%sql\n",
    "\n",
    "Select 1;"
   ]
  },
  {
   "cell_type": "markdown",
   "id": "967d3020-7696-4618-863c-681c220c3bfc",
   "metadata": {},
   "source": [
    "#### Hard"
   ]
  },
  {
   "cell_type": "markdown",
   "id": "91e59194",
   "metadata": {},
   "source": [
    "##### Ex: A_040\n",
    "\n",
    "Round 10 divided by 3 to 2 decimals"
   ]
  },
  {
   "cell_type": "code",
   "execution_count": 23,
   "id": "7dee6acb",
   "metadata": {},
   "outputs": [
    {
     "name": "stdout",
     "output_type": "stream",
     "text": [
      " * sqlite:///dbs/orderdb.sqlite\n",
      "Done.\n"
     ]
    },
    {
     "data": {
      "text/html": [
       "<table>\n",
       "    <thead>\n",
       "        <tr>\n",
       "            <th>Rounded to 2 decimals</th>\n",
       "        </tr>\n",
       "    </thead>\n",
       "    <tbody>\n",
       "        <tr>\n",
       "            <td>3.33</td>\n",
       "        </tr>\n",
       "    </tbody>\n",
       "</table>"
      ],
      "text/plain": [
       "[(3.33,)]"
      ]
     },
     "execution_count": 23,
     "metadata": {},
     "output_type": "execute_result"
    }
   ],
   "source": [
    "%%sql\n",
    "\n",
    "SELECT round(10.0 / 3, 2) as 'Rounded to 2 decimals';"
   ]
  },
  {
   "cell_type": "markdown",
   "id": "d95083bf",
   "metadata": {},
   "source": [
    "Your answer:"
   ]
  },
  {
   "cell_type": "code",
   "execution_count": 24,
   "id": "eac81a16",
   "metadata": {},
   "outputs": [
    {
     "name": "stdout",
     "output_type": "stream",
     "text": [
      " * sqlite:///dbs/orderdb.sqlite\n",
      "Done.\n"
     ]
    },
    {
     "data": {
      "text/html": [
       "<table>\n",
       "    <thead>\n",
       "        <tr>\n",
       "            <th>1</th>\n",
       "        </tr>\n",
       "    </thead>\n",
       "    <tbody>\n",
       "        <tr>\n",
       "            <td>1</td>\n",
       "        </tr>\n",
       "    </tbody>\n",
       "</table>"
      ],
      "text/plain": [
       "[(1,)]"
      ]
     },
     "execution_count": 24,
     "metadata": {},
     "output_type": "execute_result"
    }
   ],
   "source": [
    "%%sql\n",
    "\n",
    "Select 1;"
   ]
  },
  {
   "cell_type": "markdown",
   "id": "91fa4068",
   "metadata": {},
   "source": [
    "##### Ex: A_041\n",
    "\n",
    "Uppercase the word 'hello'  --  This is important, as it often is used in comparisons when one is not sure of the upper / lower case spelling of the words compared."
   ]
  },
  {
   "cell_type": "code",
   "execution_count": 25,
   "id": "73c04407",
   "metadata": {},
   "outputs": [
    {
     "name": "stdout",
     "output_type": "stream",
     "text": [
      " * sqlite:///dbs/orderdb.sqlite\n",
      "Done.\n"
     ]
    },
    {
     "data": {
      "text/html": [
       "<table>\n",
       "    <thead>\n",
       "        <tr>\n",
       "            <th>All Big Caps</th>\n",
       "        </tr>\n",
       "    </thead>\n",
       "    <tbody>\n",
       "        <tr>\n",
       "            <td>HELLO</td>\n",
       "        </tr>\n",
       "    </tbody>\n",
       "</table>"
      ],
      "text/plain": [
       "[('HELLO',)]"
      ]
     },
     "execution_count": 25,
     "metadata": {},
     "output_type": "execute_result"
    }
   ],
   "source": [
    "%%sql\n",
    "\n",
    "SELECT upper('hello') as 'All Big Caps';"
   ]
  },
  {
   "cell_type": "markdown",
   "id": "cdbbe10b",
   "metadata": {},
   "source": [
    "Your answer:"
   ]
  },
  {
   "cell_type": "code",
   "execution_count": 26,
   "id": "71685d1d",
   "metadata": {},
   "outputs": [
    {
     "name": "stdout",
     "output_type": "stream",
     "text": [
      " * sqlite:///dbs/orderdb.sqlite\n",
      "Done.\n"
     ]
    },
    {
     "data": {
      "text/html": [
       "<table>\n",
       "    <thead>\n",
       "        <tr>\n",
       "            <th>1</th>\n",
       "        </tr>\n",
       "    </thead>\n",
       "    <tbody>\n",
       "        <tr>\n",
       "            <td>1</td>\n",
       "        </tr>\n",
       "    </tbody>\n",
       "</table>"
      ],
      "text/plain": [
       "[(1,)]"
      ]
     },
     "execution_count": 26,
     "metadata": {},
     "output_type": "execute_result"
    }
   ],
   "source": [
    "%%sql\n",
    "\n",
    "Select 1;"
   ]
  },
  {
   "cell_type": "markdown",
   "id": "384d0b00",
   "metadata": {},
   "source": [
    "##### Ex: A_042\n",
    "\n",
    "Get the length of 'This is a very interesting bootcamp!'"
   ]
  },
  {
   "cell_type": "code",
   "execution_count": 27,
   "id": "49d36891",
   "metadata": {},
   "outputs": [
    {
     "name": "stdout",
     "output_type": "stream",
     "text": [
      " * sqlite:///dbs/orderdb.sqlite\n",
      "Done.\n"
     ]
    },
    {
     "data": {
      "text/html": [
       "<table>\n",
       "    <thead>\n",
       "        <tr>\n",
       "            <th>String length</th>\n",
       "        </tr>\n",
       "    </thead>\n",
       "    <tbody>\n",
       "        <tr>\n",
       "            <td>36</td>\n",
       "        </tr>\n",
       "    </tbody>\n",
       "</table>"
      ],
      "text/plain": [
       "[(36,)]"
      ]
     },
     "execution_count": 27,
     "metadata": {},
     "output_type": "execute_result"
    }
   ],
   "source": [
    "%%sql\n",
    "\n",
    "SELECT length( 'This is a very interesting bootcamp!' ) as 'String length';"
   ]
  },
  {
   "cell_type": "markdown",
   "id": "94ab73d9",
   "metadata": {},
   "source": [
    "Your answer:"
   ]
  },
  {
   "cell_type": "code",
   "execution_count": 28,
   "id": "81ba46e5",
   "metadata": {},
   "outputs": [
    {
     "name": "stdout",
     "output_type": "stream",
     "text": [
      " * sqlite:///dbs/orderdb.sqlite\n",
      "Done.\n"
     ]
    },
    {
     "data": {
      "text/html": [
       "<table>\n",
       "    <thead>\n",
       "        <tr>\n",
       "            <th>1</th>\n",
       "        </tr>\n",
       "    </thead>\n",
       "    <tbody>\n",
       "        <tr>\n",
       "            <td>1</td>\n",
       "        </tr>\n",
       "    </tbody>\n",
       "</table>"
      ],
      "text/plain": [
       "[(1,)]"
      ]
     },
     "execution_count": 28,
     "metadata": {},
     "output_type": "execute_result"
    }
   ],
   "source": [
    "%%sql\n",
    "\n",
    "Select 1;"
   ]
  },
  {
   "cell_type": "markdown",
   "id": "8cd2cbd3",
   "metadata": {},
   "source": [
    "##### Ex: A_043\n",
    "\n",
    "Get today's weekday  -  I run it on a Wednesday (Monday == 1)."
   ]
  },
  {
   "cell_type": "code",
   "execution_count": 29,
   "id": "e31d6439",
   "metadata": {},
   "outputs": [
    {
     "name": "stdout",
     "output_type": "stream",
     "text": [
      " * sqlite:///dbs/orderdb.sqlite\n",
      "Done.\n"
     ]
    },
    {
     "data": {
      "text/html": [
       "<table>\n",
       "    <thead>\n",
       "        <tr>\n",
       "            <th>Weekday</th>\n",
       "        </tr>\n",
       "    </thead>\n",
       "    <tbody>\n",
       "        <tr>\n",
       "            <td>0</td>\n",
       "        </tr>\n",
       "    </tbody>\n",
       "</table>"
      ],
      "text/plain": [
       "[('0',)]"
      ]
     },
     "execution_count": 29,
     "metadata": {},
     "output_type": "execute_result"
    }
   ],
   "source": [
    "%%sql\n",
    "\n",
    "SELECT strftime('%w', 'now') 'Weekday';"
   ]
  },
  {
   "cell_type": "markdown",
   "id": "df32cb7e",
   "metadata": {},
   "source": [
    "Your answer:"
   ]
  },
  {
   "cell_type": "code",
   "execution_count": 30,
   "id": "dcb32865",
   "metadata": {},
   "outputs": [
    {
     "name": "stdout",
     "output_type": "stream",
     "text": [
      " * sqlite:///dbs/orderdb.sqlite\n",
      "Done.\n"
     ]
    },
    {
     "data": {
      "text/html": [
       "<table>\n",
       "    <thead>\n",
       "        <tr>\n",
       "            <th>1</th>\n",
       "        </tr>\n",
       "    </thead>\n",
       "    <tbody>\n",
       "        <tr>\n",
       "            <td>1</td>\n",
       "        </tr>\n",
       "    </tbody>\n",
       "</table>"
      ],
      "text/plain": [
       "[(1,)]"
      ]
     },
     "execution_count": 30,
     "metadata": {},
     "output_type": "execute_result"
    }
   ],
   "source": [
    "%%sql\n",
    "\n",
    "Select 1;"
   ]
  },
  {
   "cell_type": "markdown",
   "id": "2fe84140",
   "metadata": {},
   "source": [
    "##### Ex: A_044\n",
    "\n",
    "Create an expression: 2 * (5 + 3)"
   ]
  },
  {
   "cell_type": "code",
   "execution_count": 31,
   "id": "251692f3",
   "metadata": {},
   "outputs": [
    {
     "name": "stdout",
     "output_type": "stream",
     "text": [
      " * sqlite:///dbs/orderdb.sqlite\n",
      "Done.\n"
     ]
    },
    {
     "data": {
      "text/html": [
       "<table>\n",
       "    <thead>\n",
       "        <tr>\n",
       "            <th>(Nested) Expression</th>\n",
       "        </tr>\n",
       "    </thead>\n",
       "    <tbody>\n",
       "        <tr>\n",
       "            <td>16</td>\n",
       "        </tr>\n",
       "    </tbody>\n",
       "</table>"
      ],
      "text/plain": [
       "[(16,)]"
      ]
     },
     "execution_count": 31,
     "metadata": {},
     "output_type": "execute_result"
    }
   ],
   "source": [
    "%%sql\n",
    "\n",
    "SELECT 2 * (5 + 3) AS '(Nested) Expression';"
   ]
  },
  {
   "cell_type": "markdown",
   "id": "31fe19c5",
   "metadata": {},
   "source": [
    "Your answer:"
   ]
  },
  {
   "cell_type": "code",
   "execution_count": 32,
   "id": "40d2e6db",
   "metadata": {},
   "outputs": [
    {
     "name": "stdout",
     "output_type": "stream",
     "text": [
      " * sqlite:///dbs/orderdb.sqlite\n",
      "Done.\n"
     ]
    },
    {
     "data": {
      "text/html": [
       "<table>\n",
       "    <thead>\n",
       "        <tr>\n",
       "            <th>1</th>\n",
       "        </tr>\n",
       "    </thead>\n",
       "    <tbody>\n",
       "        <tr>\n",
       "            <td>1</td>\n",
       "        </tr>\n",
       "    </tbody>\n",
       "</table>"
      ],
      "text/plain": [
       "[(1,)]"
      ]
     },
     "execution_count": 32,
     "metadata": {},
     "output_type": "execute_result"
    }
   ],
   "source": [
    "%%sql\n",
    "\n",
    "Select 1;"
   ]
  },
  {
   "cell_type": "markdown",
   "id": "84ce7a69-be88-4b7a-807b-abe010a403d1",
   "metadata": {},
   "source": [
    "### From part (with use of LIMIT)"
   ]
  },
  {
   "cell_type": "markdown",
   "id": "6863a52b-ec78-4d6b-bee7-f23bdd261aaa",
   "metadata": {},
   "source": [
    "Starting here, the exercises are based on the database described above. \n",
    "\n",
    "FROM allows specifying the tables (and data sources) used in a Query. Based on this, the SELECT part defines the columns and calculations thereof, which are contained in the resultset. For the moment, the exercises deal with one table in the FROM part only. Here is a simple statement:\n",
    "\n",
    "> Select City \n",
    "From   Suppliers;\n",
    "\n",
    "Here we get all the values from the Suppliers table for the attribute City. \n",
    "\n",
    "Multiple columns (attributes) are separated by comma:\n",
    "\n",
    "> Select CompanyName, City \n",
    "From   Suppliers;\n",
    "\n",
    "If one wants all the columns (attributes) then the asterisk is used:\n",
    "\n",
    ">  Select * \n",
    "From   Suppliers;\n",
    "\n",
    "Depending on the content of the table the resultset can get very large very soon. In order to keep it large enough to see a result, but short enough to not overload this Notebook, all the SELECT statements here need to make use of the LIMIT clause, too.\n",
    "\n",
    "The LIMIT clause - as the name implies - shows only a smaller set of records of the full resultset. Here is the same SELECT from above, only showing the first 10 entries:\n",
    "\n",
    "> Select City \n",
    "From   Suppliers\n",
    "Limit 10;\n",
    "\n",
    "Pagination of the records in the resultset can be reached by specifying an offset:\n",
    "\n",
    "> Select City \n",
    "From   Suppliers\n",
    "Limit 10  Offset 20;\n",
    "\n",
    "The SELECT shows the records 21 to 30 out of the resultset (if that many records exist).\n"
   ]
  },
  {
   "cell_type": "markdown",
   "id": "ddcd339e-511e-4050-ac33-b06424a56fbf",
   "metadata": {},
   "source": [
    "#### Easy"
   ]
  },
  {
   "cell_type": "markdown",
   "id": "8c57aa75",
   "metadata": {},
   "source": [
    "##### Ex: B_001\n",
    "\n",
    "Show the first 10 records of table Customers with all the attributes of the table."
   ]
  },
  {
   "cell_type": "code",
   "execution_count": 33,
   "id": "aff001e1",
   "metadata": {},
   "outputs": [
    {
     "name": "stdout",
     "output_type": "stream",
     "text": [
      " * sqlite:///dbs/orderdb.sqlite\n",
      "Done.\n"
     ]
    },
    {
     "data": {
      "text/html": [
       "<table>\n",
       "    <thead>\n",
       "        <tr>\n",
       "            <th>Id</th>\n",
       "            <th>FirstName</th>\n",
       "            <th>LastName</th>\n",
       "            <th>City</th>\n",
       "            <th>Country</th>\n",
       "            <th>Phone</th>\n",
       "        </tr>\n",
       "    </thead>\n",
       "    <tbody>\n",
       "        <tr>\n",
       "            <td>1</td>\n",
       "            <td>Maria</td>\n",
       "            <td>Anders</td>\n",
       "            <td>Berlin</td>\n",
       "            <td>Germany</td>\n",
       "            <td>030-0074321</td>\n",
       "        </tr>\n",
       "        <tr>\n",
       "            <td>2</td>\n",
       "            <td>Ana</td>\n",
       "            <td>Trujillo</td>\n",
       "            <td>México D.F.</td>\n",
       "            <td>Mexico</td>\n",
       "            <td>(5) 555-4729</td>\n",
       "        </tr>\n",
       "        <tr>\n",
       "            <td>3</td>\n",
       "            <td>Antonio</td>\n",
       "            <td>Moreno</td>\n",
       "            <td>México D.F.</td>\n",
       "            <td>Mexico</td>\n",
       "            <td>(5) 555-3932</td>\n",
       "        </tr>\n",
       "        <tr>\n",
       "            <td>4</td>\n",
       "            <td>Thomas</td>\n",
       "            <td>Hardy</td>\n",
       "            <td>London</td>\n",
       "            <td>UK</td>\n",
       "            <td>(171) 555-7788</td>\n",
       "        </tr>\n",
       "        <tr>\n",
       "            <td>5</td>\n",
       "            <td>Christina</td>\n",
       "            <td>Berglund</td>\n",
       "            <td>Luleå</td>\n",
       "            <td>Sweden</td>\n",
       "            <td>0921-12 34 65</td>\n",
       "        </tr>\n",
       "        <tr>\n",
       "            <td>6</td>\n",
       "            <td>Hanna</td>\n",
       "            <td>Moos</td>\n",
       "            <td>Mannheim</td>\n",
       "            <td>Germany</td>\n",
       "            <td>0621-08460</td>\n",
       "        </tr>\n",
       "        <tr>\n",
       "            <td>7</td>\n",
       "            <td>Frédérique</td>\n",
       "            <td>Citeaux</td>\n",
       "            <td>Strasbourg</td>\n",
       "            <td>France</td>\n",
       "            <td>88.60.15.31</td>\n",
       "        </tr>\n",
       "        <tr>\n",
       "            <td>8</td>\n",
       "            <td>Martín</td>\n",
       "            <td>Sommer</td>\n",
       "            <td>Madrid</td>\n",
       "            <td>Spain</td>\n",
       "            <td>(91) 555 22 82</td>\n",
       "        </tr>\n",
       "        <tr>\n",
       "            <td>9</td>\n",
       "            <td>Laurence</td>\n",
       "            <td>Lebihan</td>\n",
       "            <td>Marseille</td>\n",
       "            <td>France</td>\n",
       "            <td>91.24.45.40</td>\n",
       "        </tr>\n",
       "        <tr>\n",
       "            <td>10</td>\n",
       "            <td>Elizabeth</td>\n",
       "            <td>Lincoln</td>\n",
       "            <td>Tsawassen</td>\n",
       "            <td>Canada</td>\n",
       "            <td>(604) 555-4729</td>\n",
       "        </tr>\n",
       "    </tbody>\n",
       "</table>"
      ],
      "text/plain": [
       "[(1, 'Maria', 'Anders', 'Berlin', 'Germany', '030-0074321'),\n",
       " (2, 'Ana', 'Trujillo', 'México D.F.', 'Mexico', '(5) 555-4729'),\n",
       " (3, 'Antonio', 'Moreno', 'México D.F.', 'Mexico', '(5) 555-3932'),\n",
       " (4, 'Thomas', 'Hardy', 'London', 'UK', '(171) 555-7788'),\n",
       " (5, 'Christina', 'Berglund', 'Luleå', 'Sweden', '0921-12 34 65'),\n",
       " (6, 'Hanna', 'Moos', 'Mannheim', 'Germany', '0621-08460'),\n",
       " (7, 'Frédérique', 'Citeaux', 'Strasbourg', 'France', '88.60.15.31'),\n",
       " (8, 'Martín', 'Sommer', 'Madrid', 'Spain', '(91) 555 22 82'),\n",
       " (9, 'Laurence', 'Lebihan', 'Marseille', 'France', '91.24.45.40'),\n",
       " (10, 'Elizabeth', 'Lincoln', 'Tsawassen', 'Canada', '(604) 555-4729')]"
      ]
     },
     "execution_count": 33,
     "metadata": {},
     "output_type": "execute_result"
    }
   ],
   "source": [
    "%%sql\n",
    "\n",
    "SELECT * FROM Customers Limit 10;"
   ]
  },
  {
   "cell_type": "markdown",
   "id": "cfa6feca",
   "metadata": {},
   "source": [
    "Your answer:"
   ]
  },
  {
   "cell_type": "code",
   "execution_count": 34,
   "id": "77f2c185",
   "metadata": {},
   "outputs": [
    {
     "name": "stdout",
     "output_type": "stream",
     "text": [
      " * sqlite:///dbs/orderdb.sqlite\n",
      "Done.\n"
     ]
    },
    {
     "data": {
      "text/html": [
       "<table>\n",
       "    <thead>\n",
       "        <tr>\n",
       "            <th>1</th>\n",
       "        </tr>\n",
       "    </thead>\n",
       "    <tbody>\n",
       "        <tr>\n",
       "            <td>1</td>\n",
       "        </tr>\n",
       "    </tbody>\n",
       "</table>"
      ],
      "text/plain": [
       "[(1,)]"
      ]
     },
     "execution_count": 34,
     "metadata": {},
     "output_type": "execute_result"
    }
   ],
   "source": [
    "%%sql\n",
    "\n",
    "Select 1;"
   ]
  },
  {
   "cell_type": "markdown",
   "id": "e03ff460",
   "metadata": {},
   "source": [
    "##### Ex: B_002\n",
    "\n",
    "Show the 42nd to 53rd records of table Customers with all the attributes of the table."
   ]
  },
  {
   "cell_type": "code",
   "execution_count": 35,
   "id": "82863918",
   "metadata": {},
   "outputs": [
    {
     "name": "stdout",
     "output_type": "stream",
     "text": [
      " * sqlite:///dbs/orderdb.sqlite\n",
      "Done.\n"
     ]
    },
    {
     "data": {
      "text/html": [
       "<table>\n",
       "    <thead>\n",
       "        <tr>\n",
       "            <th>Id</th>\n",
       "            <th>FirstName</th>\n",
       "            <th>LastName</th>\n",
       "            <th>City</th>\n",
       "            <th>Country</th>\n",
       "            <th>Phone</th>\n",
       "        </tr>\n",
       "    </thead>\n",
       "    <tbody>\n",
       "        <tr>\n",
       "            <td>42</td>\n",
       "            <td>Yoshi</td>\n",
       "            <td>Tannamuri</td>\n",
       "            <td>Vancouver</td>\n",
       "            <td>Canada</td>\n",
       "            <td>(604) 555-3392</td>\n",
       "        </tr>\n",
       "        <tr>\n",
       "            <td>43</td>\n",
       "            <td>John</td>\n",
       "            <td>Steel</td>\n",
       "            <td>Walla Walla</td>\n",
       "            <td>USA</td>\n",
       "            <td>(509) 555-7969</td>\n",
       "        </tr>\n",
       "        <tr>\n",
       "            <td>44</td>\n",
       "            <td>Renate</td>\n",
       "            <td>Messner</td>\n",
       "            <td>Frankfurt a.M.</td>\n",
       "            <td>Germany</td>\n",
       "            <td>069-0245984</td>\n",
       "        </tr>\n",
       "        <tr>\n",
       "            <td>45</td>\n",
       "            <td>Jaime</td>\n",
       "            <td>Yorres</td>\n",
       "            <td>San Francisco</td>\n",
       "            <td>USA</td>\n",
       "            <td>(415) 555-5938</td>\n",
       "        </tr>\n",
       "        <tr>\n",
       "            <td>46</td>\n",
       "            <td>Carlos</td>\n",
       "            <td>González</td>\n",
       "            <td>Barquisimeto</td>\n",
       "            <td>Venezuela</td>\n",
       "            <td>(9) 331-6954</td>\n",
       "        </tr>\n",
       "        <tr>\n",
       "            <td>47</td>\n",
       "            <td>Felipe</td>\n",
       "            <td>Izquierdo</td>\n",
       "            <td>I. de Margarita</td>\n",
       "            <td>Venezuela</td>\n",
       "            <td>(8) 34-56-12</td>\n",
       "        </tr>\n",
       "        <tr>\n",
       "            <td>48</td>\n",
       "            <td>Fran</td>\n",
       "            <td>Wilson</td>\n",
       "            <td>Portland</td>\n",
       "            <td>USA</td>\n",
       "            <td>(503) 555-9573</td>\n",
       "        </tr>\n",
       "        <tr>\n",
       "            <td>49</td>\n",
       "            <td>Giovanni</td>\n",
       "            <td>Rovelli</td>\n",
       "            <td>Bergamo</td>\n",
       "            <td>Italy</td>\n",
       "            <td>035-640230</td>\n",
       "        </tr>\n",
       "        <tr>\n",
       "            <td>50</td>\n",
       "            <td>Catherine</td>\n",
       "            <td>Dewey</td>\n",
       "            <td>Bruxelles</td>\n",
       "            <td>Belgium</td>\n",
       "            <td>(02) 201 24 67</td>\n",
       "        </tr>\n",
       "        <tr>\n",
       "            <td>51</td>\n",
       "            <td>Jean</td>\n",
       "            <td>Fresnière</td>\n",
       "            <td>Montréal</td>\n",
       "            <td>Canada</td>\n",
       "            <td>(514) 555-8054</td>\n",
       "        </tr>\n",
       "        <tr>\n",
       "            <td>52</td>\n",
       "            <td>Alexander</td>\n",
       "            <td>Feuer</td>\n",
       "            <td>Leipzig</td>\n",
       "            <td>Germany</td>\n",
       "            <td>0342-023176</td>\n",
       "        </tr>\n",
       "        <tr>\n",
       "            <td>53</td>\n",
       "            <td>Simon</td>\n",
       "            <td>Crowther</td>\n",
       "            <td>London</td>\n",
       "            <td>UK</td>\n",
       "            <td>(171) 555-7733</td>\n",
       "        </tr>\n",
       "    </tbody>\n",
       "</table>"
      ],
      "text/plain": [
       "[(42, 'Yoshi', 'Tannamuri', 'Vancouver', 'Canada', '(604) 555-3392'),\n",
       " (43, 'John', 'Steel', 'Walla Walla', 'USA', '(509) 555-7969'),\n",
       " (44, 'Renate', 'Messner', 'Frankfurt a.M.', 'Germany', '069-0245984'),\n",
       " (45, 'Jaime', 'Yorres', 'San Francisco', 'USA', '(415) 555-5938'),\n",
       " (46, 'Carlos', 'González', 'Barquisimeto', 'Venezuela', '(9) 331-6954'),\n",
       " (47, 'Felipe', 'Izquierdo', 'I. de Margarita', 'Venezuela', '(8) 34-56-12'),\n",
       " (48, 'Fran', 'Wilson', 'Portland', 'USA', '(503) 555-9573'),\n",
       " (49, 'Giovanni', 'Rovelli', 'Bergamo', 'Italy', '035-640230'),\n",
       " (50, 'Catherine', 'Dewey', 'Bruxelles', 'Belgium', '(02) 201 24 67'),\n",
       " (51, 'Jean', 'Fresnière', 'Montréal', 'Canada', '(514) 555-8054'),\n",
       " (52, 'Alexander', 'Feuer', 'Leipzig', 'Germany', '0342-023176'),\n",
       " (53, 'Simon', 'Crowther', 'London', 'UK', '(171) 555-7733')]"
      ]
     },
     "execution_count": 35,
     "metadata": {},
     "output_type": "execute_result"
    }
   ],
   "source": [
    "%%sql\n",
    "\n",
    "SELECT * FROM Customers Limit 12 Offset 41;"
   ]
  },
  {
   "cell_type": "markdown",
   "id": "9bf8e90c",
   "metadata": {},
   "source": [
    "Your answer:"
   ]
  },
  {
   "cell_type": "code",
   "execution_count": 36,
   "id": "9140f9f6",
   "metadata": {},
   "outputs": [
    {
     "name": "stdout",
     "output_type": "stream",
     "text": [
      " * sqlite:///dbs/orderdb.sqlite\n",
      "Done.\n"
     ]
    },
    {
     "data": {
      "text/html": [
       "<table>\n",
       "    <thead>\n",
       "        <tr>\n",
       "            <th>1</th>\n",
       "        </tr>\n",
       "    </thead>\n",
       "    <tbody>\n",
       "        <tr>\n",
       "            <td>1</td>\n",
       "        </tr>\n",
       "    </tbody>\n",
       "</table>"
      ],
      "text/plain": [
       "[(1,)]"
      ]
     },
     "execution_count": 36,
     "metadata": {},
     "output_type": "execute_result"
    }
   ],
   "source": [
    "%%sql\n",
    "\n",
    "Select 1;"
   ]
  },
  {
   "cell_type": "markdown",
   "id": "7723074f",
   "metadata": {},
   "source": [
    "##### Ex: B_003\n",
    "\n",
    "Show the city and country from Suppliers for the first 10 records."
   ]
  },
  {
   "cell_type": "code",
   "execution_count": 37,
   "id": "854095b9",
   "metadata": {},
   "outputs": [
    {
     "name": "stdout",
     "output_type": "stream",
     "text": [
      " * sqlite:///dbs/orderdb.sqlite\n",
      "Done.\n"
     ]
    },
    {
     "data": {
      "text/html": [
       "<table>\n",
       "    <thead>\n",
       "        <tr>\n",
       "            <th>City</th>\n",
       "            <th>Country</th>\n",
       "        </tr>\n",
       "    </thead>\n",
       "    <tbody>\n",
       "        <tr>\n",
       "            <td>London</td>\n",
       "            <td>UK</td>\n",
       "        </tr>\n",
       "        <tr>\n",
       "            <td>New Orleans</td>\n",
       "            <td>USA</td>\n",
       "        </tr>\n",
       "        <tr>\n",
       "            <td>Ann Arbor</td>\n",
       "            <td>USA</td>\n",
       "        </tr>\n",
       "        <tr>\n",
       "            <td>Tokyo</td>\n",
       "            <td>Japan</td>\n",
       "        </tr>\n",
       "        <tr>\n",
       "            <td>Oviedo</td>\n",
       "            <td>Spain</td>\n",
       "        </tr>\n",
       "        <tr>\n",
       "            <td>Osaka</td>\n",
       "            <td>Japan</td>\n",
       "        </tr>\n",
       "        <tr>\n",
       "            <td>Melbourne</td>\n",
       "            <td>Australia</td>\n",
       "        </tr>\n",
       "        <tr>\n",
       "            <td>Manchester</td>\n",
       "            <td>UK</td>\n",
       "        </tr>\n",
       "        <tr>\n",
       "            <td>Göteborg</td>\n",
       "            <td>Sweden</td>\n",
       "        </tr>\n",
       "        <tr>\n",
       "            <td>Sao Paulo</td>\n",
       "            <td>Brazil</td>\n",
       "        </tr>\n",
       "    </tbody>\n",
       "</table>"
      ],
      "text/plain": [
       "[('London', 'UK'),\n",
       " ('New Orleans', 'USA'),\n",
       " ('Ann Arbor', 'USA'),\n",
       " ('Tokyo', 'Japan'),\n",
       " ('Oviedo', 'Spain'),\n",
       " ('Osaka', 'Japan'),\n",
       " ('Melbourne', 'Australia'),\n",
       " ('Manchester', 'UK'),\n",
       " ('Göteborg', 'Sweden'),\n",
       " ('Sao Paulo', 'Brazil')]"
      ]
     },
     "execution_count": 37,
     "metadata": {},
     "output_type": "execute_result"
    }
   ],
   "source": [
    "%%sql\n",
    "\n",
    "SELECT City, Country FROM Suppliers Limit 10;"
   ]
  },
  {
   "cell_type": "markdown",
   "id": "3e3c8538",
   "metadata": {},
   "source": [
    "Your answer:"
   ]
  },
  {
   "cell_type": "code",
   "execution_count": 38,
   "id": "547cd33e",
   "metadata": {},
   "outputs": [
    {
     "name": "stdout",
     "output_type": "stream",
     "text": [
      " * sqlite:///dbs/orderdb.sqlite\n",
      "Done.\n"
     ]
    },
    {
     "data": {
      "text/html": [
       "<table>\n",
       "    <thead>\n",
       "        <tr>\n",
       "            <th>1</th>\n",
       "        </tr>\n",
       "    </thead>\n",
       "    <tbody>\n",
       "        <tr>\n",
       "            <td>1</td>\n",
       "        </tr>\n",
       "    </tbody>\n",
       "</table>"
      ],
      "text/plain": [
       "[(1,)]"
      ]
     },
     "execution_count": 38,
     "metadata": {},
     "output_type": "execute_result"
    }
   ],
   "source": [
    "%%sql\n",
    "\n",
    "Select 1;"
   ]
  },
  {
   "cell_type": "markdown",
   "id": "65cef7fa-7412-4ee1-9a3f-fa001f1fc6b5",
   "metadata": {},
   "source": [
    "#### Medium"
   ]
  },
  {
   "cell_type": "markdown",
   "id": "51cfcc88",
   "metadata": {},
   "source": [
    "##### Ex: B_020\n",
    "\n",
    "Select first and last name as a full name from Customers for the first 10 records."
   ]
  },
  {
   "cell_type": "code",
   "execution_count": 39,
   "id": "eb6e69dc",
   "metadata": {},
   "outputs": [
    {
     "name": "stdout",
     "output_type": "stream",
     "text": [
      " * sqlite:///dbs/orderdb.sqlite\n",
      "Done.\n"
     ]
    },
    {
     "data": {
      "text/html": [
       "<table>\n",
       "    <thead>\n",
       "        <tr>\n",
       "            <th>Full name</th>\n",
       "        </tr>\n",
       "    </thead>\n",
       "    <tbody>\n",
       "        <tr>\n",
       "            <td>Maria Anders</td>\n",
       "        </tr>\n",
       "        <tr>\n",
       "            <td>Ana Trujillo</td>\n",
       "        </tr>\n",
       "        <tr>\n",
       "            <td>Antonio Moreno</td>\n",
       "        </tr>\n",
       "        <tr>\n",
       "            <td>Thomas Hardy</td>\n",
       "        </tr>\n",
       "        <tr>\n",
       "            <td>Christina Berglund</td>\n",
       "        </tr>\n",
       "        <tr>\n",
       "            <td>Hanna Moos</td>\n",
       "        </tr>\n",
       "        <tr>\n",
       "            <td>Frédérique Citeaux</td>\n",
       "        </tr>\n",
       "        <tr>\n",
       "            <td>Martín Sommer</td>\n",
       "        </tr>\n",
       "        <tr>\n",
       "            <td>Laurence Lebihan</td>\n",
       "        </tr>\n",
       "        <tr>\n",
       "            <td>Elizabeth Lincoln</td>\n",
       "        </tr>\n",
       "    </tbody>\n",
       "</table>"
      ],
      "text/plain": [
       "[('Maria Anders',),\n",
       " ('Ana Trujillo',),\n",
       " ('Antonio Moreno',),\n",
       " ('Thomas Hardy',),\n",
       " ('Christina Berglund',),\n",
       " ('Hanna Moos',),\n",
       " ('Frédérique Citeaux',),\n",
       " ('Martín Sommer',),\n",
       " ('Laurence Lebihan',),\n",
       " ('Elizabeth Lincoln',)]"
      ]
     },
     "execution_count": 39,
     "metadata": {},
     "output_type": "execute_result"
    }
   ],
   "source": [
    "%%sql\n",
    "\n",
    "SELECT FirstName || ' ' || Lastname as 'Full name' From Customers Limit 10;"
   ]
  },
  {
   "cell_type": "markdown",
   "id": "44b5b20c",
   "metadata": {},
   "source": [
    "Your answer:"
   ]
  },
  {
   "cell_type": "code",
   "execution_count": 40,
   "id": "cf0f30aa",
   "metadata": {},
   "outputs": [
    {
     "name": "stdout",
     "output_type": "stream",
     "text": [
      " * sqlite:///dbs/orderdb.sqlite\n",
      "Done.\n"
     ]
    },
    {
     "data": {
      "text/html": [
       "<table>\n",
       "    <thead>\n",
       "        <tr>\n",
       "            <th>1</th>\n",
       "        </tr>\n",
       "    </thead>\n",
       "    <tbody>\n",
       "        <tr>\n",
       "            <td>1</td>\n",
       "        </tr>\n",
       "    </tbody>\n",
       "</table>"
      ],
      "text/plain": [
       "[(1,)]"
      ]
     },
     "execution_count": 40,
     "metadata": {},
     "output_type": "execute_result"
    }
   ],
   "source": [
    "%%sql\n",
    "\n",
    "Select 1;"
   ]
  },
  {
   "cell_type": "markdown",
   "id": "1749d655-30b5-4f75-b1a9-d4b960f6e05f",
   "metadata": {},
   "source": [
    "#### Hard"
   ]
  },
  {
   "cell_type": "markdown",
   "id": "ca12b516",
   "metadata": {},
   "source": [
    "##### Ex: B_040\n",
    "\n",
    "Show name and unit price plus 19% (MWSt) from Products for the first 10 products."
   ]
  },
  {
   "cell_type": "code",
   "execution_count": 41,
   "id": "8570500c",
   "metadata": {},
   "outputs": [
    {
     "name": "stdout",
     "output_type": "stream",
     "text": [
      " * sqlite:///dbs/orderdb.sqlite\n",
      "Done.\n"
     ]
    },
    {
     "data": {
      "text/html": [
       "<table>\n",
       "    <thead>\n",
       "        <tr>\n",
       "            <th>ProductName</th>\n",
       "            <th>PriceWithTax</th>\n",
       "        </tr>\n",
       "    </thead>\n",
       "    <tbody>\n",
       "        <tr>\n",
       "            <td>Chai</td>\n",
       "            <td>21.419999999999998</td>\n",
       "        </tr>\n",
       "        <tr>\n",
       "            <td>Chang</td>\n",
       "            <td>22.61</td>\n",
       "        </tr>\n",
       "        <tr>\n",
       "            <td>Aniseed Syrup</td>\n",
       "            <td>11.899999999999999</td>\n",
       "        </tr>\n",
       "        <tr>\n",
       "            <td>Chef Anton&#x27;s Cajun Seasoning</td>\n",
       "            <td>26.18</td>\n",
       "        </tr>\n",
       "        <tr>\n",
       "            <td>Chef Anton&#x27;s Gumbo Mix</td>\n",
       "            <td>25.4065</td>\n",
       "        </tr>\n",
       "        <tr>\n",
       "            <td>Grandma&#x27;s Boysenberry Spread</td>\n",
       "            <td>29.75</td>\n",
       "        </tr>\n",
       "        <tr>\n",
       "            <td>Uncle Bob&#x27;s Organic Dried Pears</td>\n",
       "            <td>35.699999999999996</td>\n",
       "        </tr>\n",
       "        <tr>\n",
       "            <td>Northwoods Cranberry Sauce</td>\n",
       "            <td>47.599999999999994</td>\n",
       "        </tr>\n",
       "        <tr>\n",
       "            <td>Mishi Kobe Niku</td>\n",
       "            <td>115.42999999999999</td>\n",
       "        </tr>\n",
       "        <tr>\n",
       "            <td>Ikura</td>\n",
       "            <td>36.89</td>\n",
       "        </tr>\n",
       "    </tbody>\n",
       "</table>"
      ],
      "text/plain": [
       "[('Chai', 21.419999999999998),\n",
       " ('Chang', 22.61),\n",
       " ('Aniseed Syrup', 11.899999999999999),\n",
       " (\"Chef Anton's Cajun Seasoning\", 26.18),\n",
       " (\"Chef Anton's Gumbo Mix\", 25.4065),\n",
       " (\"Grandma's Boysenberry Spread\", 29.75),\n",
       " (\"Uncle Bob's Organic Dried Pears\", 35.699999999999996),\n",
       " ('Northwoods Cranberry Sauce', 47.599999999999994),\n",
       " ('Mishi Kobe Niku', 115.42999999999999),\n",
       " ('Ikura', 36.89)]"
      ]
     },
     "execution_count": 41,
     "metadata": {},
     "output_type": "execute_result"
    }
   ],
   "source": [
    "%%sql\n",
    "\n",
    "SELECT ProductName, UnitPrice * 1.19 AS PriceWithTax FROM Products Limit 10;"
   ]
  },
  {
   "cell_type": "markdown",
   "id": "431cf1d0",
   "metadata": {},
   "source": [
    "Your answer:"
   ]
  },
  {
   "cell_type": "code",
   "execution_count": 42,
   "id": "31617b77",
   "metadata": {},
   "outputs": [
    {
     "name": "stdout",
     "output_type": "stream",
     "text": [
      " * sqlite:///dbs/orderdb.sqlite\n",
      "Done.\n"
     ]
    },
    {
     "data": {
      "text/html": [
       "<table>\n",
       "    <thead>\n",
       "        <tr>\n",
       "            <th>1</th>\n",
       "        </tr>\n",
       "    </thead>\n",
       "    <tbody>\n",
       "        <tr>\n",
       "            <td>1</td>\n",
       "        </tr>\n",
       "    </tbody>\n",
       "</table>"
      ],
      "text/plain": [
       "[(1,)]"
      ]
     },
     "execution_count": 42,
     "metadata": {},
     "output_type": "execute_result"
    }
   ],
   "source": [
    "%%sql\n",
    "\n",
    "Select 1;"
   ]
  },
  {
   "cell_type": "markdown",
   "id": "0e09c0b3",
   "metadata": {},
   "source": [
    "### WHERE clause\n",
    "\n",
    "The WHERE clause provides the mechanism to pass the parameters into the SQL statement, which are applied to filter the data in the tables. Multiple criteria can be combined with the AND / OR operator. Parentheses \"()\" allow for grouping of criteria.\n",
    "\n",
    "Here is a very simple example:\n",
    "\n",
    "> Select Lastname \n",
    "From Customers \n",
    "Where City = \"San Francisco\";\n",
    "\n",
    "and here with two criteria:\n",
    "\n",
    "> Select Lastname \n",
    "From Customers \n",
    "Where City = \"London\"\n",
    "And Firstname = \"Ann\";\n",
    "\n",
    "Numerical comparison is similar to the comparisons found in programming languages. For string comparison, there is next to the equal sign the LIKE operator. LIKE allows the use of wildcards. The \"_\" (underscore) represent one and exactly one character, while \"%\" (percent sigh) for zero or more characters. \n",
    "\n",
    "> Select Lastname \n",
    "From Customers \n",
    "Where City Like \"L_nd_n\"\n",
    "And Firstname Like \"%nn\";\n",
    "\n",
    "\n"
   ]
  },
  {
   "cell_type": "markdown",
   "id": "6bc33755-d166-4668-bfc2-3caea9393718",
   "metadata": {},
   "source": [
    "#### Easy\n",
    "\n",
    "#### Ex.: C_001\n",
    "\n",
    "Show all customers from Germany"
   ]
  },
  {
   "cell_type": "code",
   "execution_count": 43,
   "id": "d63be3db-717f-4da3-9b53-3d124ab1e394",
   "metadata": {},
   "outputs": [
    {
     "name": "stdout",
     "output_type": "stream",
     "text": [
      " * sqlite:///dbs/orderdb.sqlite\n",
      "Done.\n"
     ]
    },
    {
     "data": {
      "text/html": [
       "<table>\n",
       "    <thead>\n",
       "        <tr>\n",
       "            <th>Id</th>\n",
       "            <th>FirstName</th>\n",
       "            <th>LastName</th>\n",
       "            <th>City</th>\n",
       "            <th>Country</th>\n",
       "            <th>Phone</th>\n",
       "        </tr>\n",
       "    </thead>\n",
       "    <tbody>\n",
       "        <tr>\n",
       "            <td>1</td>\n",
       "            <td>Maria</td>\n",
       "            <td>Anders</td>\n",
       "            <td>Berlin</td>\n",
       "            <td>Germany</td>\n",
       "            <td>030-0074321</td>\n",
       "        </tr>\n",
       "        <tr>\n",
       "            <td>6</td>\n",
       "            <td>Hanna</td>\n",
       "            <td>Moos</td>\n",
       "            <td>Mannheim</td>\n",
       "            <td>Germany</td>\n",
       "            <td>0621-08460</td>\n",
       "        </tr>\n",
       "        <tr>\n",
       "            <td>17</td>\n",
       "            <td>Sven</td>\n",
       "            <td>Ottlieb</td>\n",
       "            <td>Aachen</td>\n",
       "            <td>Germany</td>\n",
       "            <td>0241-039123</td>\n",
       "        </tr>\n",
       "        <tr>\n",
       "            <td>25</td>\n",
       "            <td>Peter</td>\n",
       "            <td>Franken</td>\n",
       "            <td>München</td>\n",
       "            <td>Germany</td>\n",
       "            <td>089-0877310</td>\n",
       "        </tr>\n",
       "        <tr>\n",
       "            <td>39</td>\n",
       "            <td>Philip</td>\n",
       "            <td>Cramer</td>\n",
       "            <td>Brandenburg</td>\n",
       "            <td>Germany</td>\n",
       "            <td>0555-09876</td>\n",
       "        </tr>\n",
       "        <tr>\n",
       "            <td>44</td>\n",
       "            <td>Renate</td>\n",
       "            <td>Messner</td>\n",
       "            <td>Frankfurt a.M.</td>\n",
       "            <td>Germany</td>\n",
       "            <td>069-0245984</td>\n",
       "        </tr>\n",
       "        <tr>\n",
       "            <td>52</td>\n",
       "            <td>Alexander</td>\n",
       "            <td>Feuer</td>\n",
       "            <td>Leipzig</td>\n",
       "            <td>Germany</td>\n",
       "            <td>0342-023176</td>\n",
       "        </tr>\n",
       "        <tr>\n",
       "            <td>56</td>\n",
       "            <td>Henriette</td>\n",
       "            <td>Pfalzheim</td>\n",
       "            <td>Köln</td>\n",
       "            <td>Germany</td>\n",
       "            <td>0221-0644327</td>\n",
       "        </tr>\n",
       "        <tr>\n",
       "            <td>63</td>\n",
       "            <td>Horst</td>\n",
       "            <td>Kloss</td>\n",
       "            <td>Cunewalde</td>\n",
       "            <td>Germany</td>\n",
       "            <td>0372-035188</td>\n",
       "        </tr>\n",
       "        <tr>\n",
       "            <td>79</td>\n",
       "            <td>Karin</td>\n",
       "            <td>Josephs</td>\n",
       "            <td>Münster</td>\n",
       "            <td>Germany</td>\n",
       "            <td>0251-031259</td>\n",
       "        </tr>\n",
       "        <tr>\n",
       "            <td>86</td>\n",
       "            <td>Rita</td>\n",
       "            <td>Müller</td>\n",
       "            <td>Stuttgart</td>\n",
       "            <td>Germany</td>\n",
       "            <td>0711-020361</td>\n",
       "        </tr>\n",
       "    </tbody>\n",
       "</table>"
      ],
      "text/plain": [
       "[(1, 'Maria', 'Anders', 'Berlin', 'Germany', '030-0074321'),\n",
       " (6, 'Hanna', 'Moos', 'Mannheim', 'Germany', '0621-08460'),\n",
       " (17, 'Sven', 'Ottlieb', 'Aachen', 'Germany', '0241-039123'),\n",
       " (25, 'Peter', 'Franken', 'München', 'Germany', '089-0877310'),\n",
       " (39, 'Philip', 'Cramer', 'Brandenburg', 'Germany', '0555-09876'),\n",
       " (44, 'Renate', 'Messner', 'Frankfurt a.M.', 'Germany', '069-0245984'),\n",
       " (52, 'Alexander', 'Feuer', 'Leipzig', 'Germany', '0342-023176'),\n",
       " (56, 'Henriette', 'Pfalzheim', 'Köln', 'Germany', '0221-0644327'),\n",
       " (63, 'Horst', 'Kloss', 'Cunewalde', 'Germany', '0372-035188'),\n",
       " (79, 'Karin', 'Josephs', 'Münster', 'Germany', '0251-031259'),\n",
       " (86, 'Rita', 'Müller', 'Stuttgart', 'Germany', '0711-020361')]"
      ]
     },
     "execution_count": 43,
     "metadata": {},
     "output_type": "execute_result"
    }
   ],
   "source": [
    "%%sql\n",
    "\n",
    "SELECT * FROM Customers WHERE Country = 'Germany';"
   ]
  },
  {
   "cell_type": "markdown",
   "id": "9d1220d4",
   "metadata": {},
   "source": [
    "Your answer:"
   ]
  },
  {
   "cell_type": "code",
   "execution_count": 44,
   "id": "b4343cf3",
   "metadata": {},
   "outputs": [
    {
     "name": "stdout",
     "output_type": "stream",
     "text": [
      " * sqlite:///dbs/orderdb.sqlite\n",
      "Done.\n"
     ]
    },
    {
     "data": {
      "text/html": [
       "<table>\n",
       "    <thead>\n",
       "        <tr>\n",
       "            <th>1</th>\n",
       "        </tr>\n",
       "    </thead>\n",
       "    <tbody>\n",
       "        <tr>\n",
       "            <td>1</td>\n",
       "        </tr>\n",
       "    </tbody>\n",
       "</table>"
      ],
      "text/plain": [
       "[(1,)]"
      ]
     },
     "execution_count": 44,
     "metadata": {},
     "output_type": "execute_result"
    }
   ],
   "source": [
    "%%sql\n",
    "\n",
    "Select 1;"
   ]
  },
  {
   "cell_type": "markdown",
   "id": "c7769ec8-3d2e-4070-a919-29c20cf9db6c",
   "metadata": {},
   "source": [
    "#### Ex.: C_002\n",
    "\n",
    "Show all products with a price less than 20 Dollars"
   ]
  },
  {
   "cell_type": "code",
   "execution_count": 45,
   "id": "4a514340-583b-43fa-aae4-f9914c3a792e",
   "metadata": {},
   "outputs": [
    {
     "name": "stdout",
     "output_type": "stream",
     "text": [
      " * sqlite:///dbs/orderdb.sqlite\n",
      "Done.\n"
     ]
    },
    {
     "data": {
      "text/html": [
       "<table>\n",
       "    <thead>\n",
       "        <tr>\n",
       "            <th>Id</th>\n",
       "            <th>ProductName</th>\n",
       "            <th>SupplierId</th>\n",
       "            <th>UnitPrice</th>\n",
       "            <th>Package</th>\n",
       "            <th>IsDiscontinued</th>\n",
       "        </tr>\n",
       "    </thead>\n",
       "    <tbody>\n",
       "        <tr>\n",
       "            <td>13</td>\n",
       "            <td>Konbu</td>\n",
       "            <td>6</td>\n",
       "            <td>6.0</td>\n",
       "            <td>2 kg box</td>\n",
       "            <td>0</td>\n",
       "        </tr>\n",
       "        <tr>\n",
       "            <td>19</td>\n",
       "            <td>Teatime Chocolate Biscuits</td>\n",
       "            <td>8</td>\n",
       "            <td>9.2</td>\n",
       "            <td>10 boxes x 12 pieces</td>\n",
       "            <td>0</td>\n",
       "        </tr>\n",
       "        <tr>\n",
       "            <td>23</td>\n",
       "            <td>Tunnbröd</td>\n",
       "            <td>9</td>\n",
       "            <td>9.0</td>\n",
       "            <td>12 - 250 g pkgs.</td>\n",
       "            <td>0</td>\n",
       "        </tr>\n",
       "        <tr>\n",
       "            <td>24</td>\n",
       "            <td>Guaraná Fantástica</td>\n",
       "            <td>10</td>\n",
       "            <td>4.5</td>\n",
       "            <td>12 - 355 ml cans</td>\n",
       "            <td>1</td>\n",
       "        </tr>\n",
       "        <tr>\n",
       "            <td>33</td>\n",
       "            <td>Geitost</td>\n",
       "            <td>15</td>\n",
       "            <td>2.5</td>\n",
       "            <td>500 g</td>\n",
       "            <td>0</td>\n",
       "        </tr>\n",
       "        <tr>\n",
       "            <td>41</td>\n",
       "            <td>Jack&#x27;s New England Clam Chowder</td>\n",
       "            <td>19</td>\n",
       "            <td>9.65</td>\n",
       "            <td>12 - 12 oz cans</td>\n",
       "            <td>0</td>\n",
       "        </tr>\n",
       "        <tr>\n",
       "            <td>45</td>\n",
       "            <td>Rogede sild</td>\n",
       "            <td>21</td>\n",
       "            <td>9.5</td>\n",
       "            <td>1k pkg.</td>\n",
       "            <td>0</td>\n",
       "        </tr>\n",
       "        <tr>\n",
       "            <td>47</td>\n",
       "            <td>Zaanse koeken</td>\n",
       "            <td>22</td>\n",
       "            <td>9.5</td>\n",
       "            <td>10 - 4 oz boxes</td>\n",
       "            <td>0</td>\n",
       "        </tr>\n",
       "        <tr>\n",
       "            <td>52</td>\n",
       "            <td>Filo Mix</td>\n",
       "            <td>24</td>\n",
       "            <td>7.0</td>\n",
       "            <td>16 - 2 kg boxes</td>\n",
       "            <td>0</td>\n",
       "        </tr>\n",
       "        <tr>\n",
       "            <td>54</td>\n",
       "            <td>Tourtière</td>\n",
       "            <td>25</td>\n",
       "            <td>7.45</td>\n",
       "            <td>16 pies</td>\n",
       "            <td>0</td>\n",
       "        </tr>\n",
       "        <tr>\n",
       "            <td>75</td>\n",
       "            <td>Rhönbräu Klosterbier</td>\n",
       "            <td>12</td>\n",
       "            <td>7.75</td>\n",
       "            <td>24 - 0.5 l bottles</td>\n",
       "            <td>0</td>\n",
       "        </tr>\n",
       "        <tr>\n",
       "            <td>78</td>\n",
       "            <td>Stroopwafels</td>\n",
       "            <td>22</td>\n",
       "            <td>9.75</td>\n",
       "            <td>24 pieces</td>\n",
       "            <td>0</td>\n",
       "        </tr>\n",
       "    </tbody>\n",
       "</table>"
      ],
      "text/plain": [
       "[(13, 'Konbu', 6, 6.0, '2 kg box', 0),\n",
       " (19, 'Teatime Chocolate Biscuits', 8, 9.2, '10 boxes x 12 pieces', 0),\n",
       " (23, 'Tunnbröd', 9, 9.0, '12 - 250 g pkgs.', 0),\n",
       " (24, 'Guaraná Fantástica', 10, 4.5, '12 - 355 ml cans', 1),\n",
       " (33, 'Geitost', 15, 2.5, '500 g', 0),\n",
       " (41, \"Jack's New England Clam Chowder\", 19, 9.65, '12 - 12 oz cans', 0),\n",
       " (45, 'Rogede sild', 21, 9.5, '1k pkg.', 0),\n",
       " (47, 'Zaanse koeken', 22, 9.5, '10 - 4 oz boxes', 0),\n",
       " (52, 'Filo Mix', 24, 7.0, '16 - 2 kg boxes', 0),\n",
       " (54, 'Tourtière', 25, 7.45, '16 pies', 0),\n",
       " (75, 'Rhönbräu Klosterbier', 12, 7.75, '24 - 0.5 l bottles', 0),\n",
       " (78, 'Stroopwafels', 22, 9.75, '24 pieces', 0)]"
      ]
     },
     "execution_count": 45,
     "metadata": {},
     "output_type": "execute_result"
    }
   ],
   "source": [
    "%%sql\n",
    "\n",
    "SELECT * FROM Products WHERE UnitPrice < 10;"
   ]
  },
  {
   "cell_type": "markdown",
   "id": "d5293226",
   "metadata": {},
   "source": [
    "Your answer:"
   ]
  },
  {
   "cell_type": "code",
   "execution_count": 46,
   "id": "0db3a883",
   "metadata": {},
   "outputs": [
    {
     "name": "stdout",
     "output_type": "stream",
     "text": [
      " * sqlite:///dbs/orderdb.sqlite\n",
      "Done.\n"
     ]
    },
    {
     "data": {
      "text/html": [
       "<table>\n",
       "    <thead>\n",
       "        <tr>\n",
       "            <th>1</th>\n",
       "        </tr>\n",
       "    </thead>\n",
       "    <tbody>\n",
       "        <tr>\n",
       "            <td>1</td>\n",
       "        </tr>\n",
       "    </tbody>\n",
       "</table>"
      ],
      "text/plain": [
       "[(1,)]"
      ]
     },
     "execution_count": 46,
     "metadata": {},
     "output_type": "execute_result"
    }
   ],
   "source": [
    "%%sql\n",
    "\n",
    "Select 1;"
   ]
  },
  {
   "cell_type": "markdown",
   "id": "5436cd84",
   "metadata": {},
   "source": [
    "#### Medium\n",
    "\n",
    "#### Ex.: C_020\n",
    "\n",
    "Show all customers from Austria and Spain"
   ]
  },
  {
   "cell_type": "code",
   "execution_count": 47,
   "id": "80ee4f4c",
   "metadata": {},
   "outputs": [
    {
     "name": "stdout",
     "output_type": "stream",
     "text": [
      " * sqlite:///dbs/orderdb.sqlite\n",
      "Done.\n"
     ]
    },
    {
     "data": {
      "text/html": [
       "<table>\n",
       "    <thead>\n",
       "        <tr>\n",
       "            <th>Id</th>\n",
       "            <th>FirstName</th>\n",
       "            <th>LastName</th>\n",
       "            <th>City</th>\n",
       "            <th>Country</th>\n",
       "            <th>Phone</th>\n",
       "        </tr>\n",
       "    </thead>\n",
       "    <tbody>\n",
       "        <tr>\n",
       "            <td>8</td>\n",
       "            <td>Martín</td>\n",
       "            <td>Sommer</td>\n",
       "            <td>Madrid</td>\n",
       "            <td>Spain</td>\n",
       "            <td>(91) 555 22 82</td>\n",
       "        </tr>\n",
       "        <tr>\n",
       "            <td>20</td>\n",
       "            <td>Roland</td>\n",
       "            <td>Mendel</td>\n",
       "            <td>Graz</td>\n",
       "            <td>Austria</td>\n",
       "            <td>7675-3425</td>\n",
       "        </tr>\n",
       "        <tr>\n",
       "            <td>22</td>\n",
       "            <td>Diego</td>\n",
       "            <td>Roel</td>\n",
       "            <td>Madrid</td>\n",
       "            <td>Spain</td>\n",
       "            <td>(91) 555 94 44</td>\n",
       "        </tr>\n",
       "        <tr>\n",
       "            <td>29</td>\n",
       "            <td>Eduardo</td>\n",
       "            <td>Saavedra</td>\n",
       "            <td>Barcelona</td>\n",
       "            <td>Spain</td>\n",
       "            <td>(93) 203 4560</td>\n",
       "        </tr>\n",
       "        <tr>\n",
       "            <td>30</td>\n",
       "            <td>José</td>\n",
       "            <td>Pedro Freyre</td>\n",
       "            <td>Sevilla</td>\n",
       "            <td>Spain</td>\n",
       "            <td>(95) 555 82 82</td>\n",
       "        </tr>\n",
       "        <tr>\n",
       "            <td>59</td>\n",
       "            <td>Georg</td>\n",
       "            <td>Pipps</td>\n",
       "            <td>Salzburg</td>\n",
       "            <td>Austria</td>\n",
       "            <td>6562-9722</td>\n",
       "        </tr>\n",
       "        <tr>\n",
       "            <td>69</td>\n",
       "            <td>Alejandra</td>\n",
       "            <td>Camino</td>\n",
       "            <td>Madrid</td>\n",
       "            <td>Spain</td>\n",
       "            <td>(91) 745 6200</td>\n",
       "        </tr>\n",
       "    </tbody>\n",
       "</table>"
      ],
      "text/plain": [
       "[(8, 'Martín', 'Sommer', 'Madrid', 'Spain', '(91) 555 22 82'),\n",
       " (20, 'Roland', 'Mendel', 'Graz', 'Austria', '7675-3425'),\n",
       " (22, 'Diego', 'Roel', 'Madrid', 'Spain', '(91) 555 94 44'),\n",
       " (29, 'Eduardo', 'Saavedra', 'Barcelona', 'Spain', '(93) 203 4560'),\n",
       " (30, 'José', 'Pedro Freyre', 'Sevilla', 'Spain', '(95) 555 82 82'),\n",
       " (59, 'Georg', 'Pipps', 'Salzburg', 'Austria', '6562-9722'),\n",
       " (69, 'Alejandra', 'Camino', 'Madrid', 'Spain', '(91) 745 6200')]"
      ]
     },
     "execution_count": 47,
     "metadata": {},
     "output_type": "execute_result"
    }
   ],
   "source": [
    "%%sql\n",
    "\n",
    "SELECT * FROM Customers WHERE Country in ('Austria', 'Spain');"
   ]
  },
  {
   "cell_type": "markdown",
   "id": "9fb2c382",
   "metadata": {},
   "source": [
    "Your answer:"
   ]
  },
  {
   "cell_type": "code",
   "execution_count": 48,
   "id": "5f7f5636",
   "metadata": {},
   "outputs": [
    {
     "name": "stdout",
     "output_type": "stream",
     "text": [
      " * sqlite:///dbs/orderdb.sqlite\n",
      "Done.\n"
     ]
    },
    {
     "data": {
      "text/html": [
       "<table>\n",
       "    <thead>\n",
       "        <tr>\n",
       "            <th>1</th>\n",
       "        </tr>\n",
       "    </thead>\n",
       "    <tbody>\n",
       "        <tr>\n",
       "            <td>1</td>\n",
       "        </tr>\n",
       "    </tbody>\n",
       "</table>"
      ],
      "text/plain": [
       "[(1,)]"
      ]
     },
     "execution_count": 48,
     "metadata": {},
     "output_type": "execute_result"
    }
   ],
   "source": [
    "%%sql\n",
    "\n",
    "Select 1;"
   ]
  },
  {
   "cell_type": "markdown",
   "id": "7b10281f",
   "metadata": {},
   "source": [
    "#### Ex.: C_021\n",
    "\n",
    "Show all Suppliers out of a city starting with the letter P"
   ]
  },
  {
   "cell_type": "code",
   "execution_count": 49,
   "id": "acb0364f",
   "metadata": {},
   "outputs": [
    {
     "name": "stdout",
     "output_type": "stream",
     "text": [
      " * sqlite:///dbs/orderdb.sqlite\n",
      "Done.\n"
     ]
    },
    {
     "data": {
      "text/html": [
       "<table>\n",
       "    <thead>\n",
       "        <tr>\n",
       "            <th>Id</th>\n",
       "            <th>CompanyName</th>\n",
       "            <th>ContactName</th>\n",
       "            <th>ContactTitle</th>\n",
       "            <th>City</th>\n",
       "            <th>Country</th>\n",
       "            <th>Phone</th>\n",
       "            <th>Fax</th>\n",
       "        </tr>\n",
       "    </thead>\n",
       "    <tbody>\n",
       "        <tr>\n",
       "            <td>18</td>\n",
       "            <td>Aux joyeux ecclésiastiques</td>\n",
       "            <td>Guylène Nodier</td>\n",
       "            <td>None</td>\n",
       "            <td>Paris</td>\n",
       "            <td>France</td>\n",
       "            <td>(1) 03.83.00.68</td>\n",
       "            <td>(1) 03.83.00.62</td>\n",
       "        </tr>\n",
       "    </tbody>\n",
       "</table>"
      ],
      "text/plain": [
       "[(18, 'Aux joyeux ecclésiastiques', 'Guylène Nodier', None, 'Paris', 'France', '(1) 03.83.00.68', '(1) 03.83.00.62')]"
      ]
     },
     "execution_count": 49,
     "metadata": {},
     "output_type": "execute_result"
    }
   ],
   "source": [
    "%%sql\n",
    "\n",
    "SELECT * from Suppliers where city like 'P%'"
   ]
  },
  {
   "cell_type": "markdown",
   "id": "f9dd43aa",
   "metadata": {},
   "source": [
    "Your answer:"
   ]
  },
  {
   "cell_type": "code",
   "execution_count": 50,
   "id": "2707639b",
   "metadata": {},
   "outputs": [
    {
     "name": "stdout",
     "output_type": "stream",
     "text": [
      " * sqlite:///dbs/orderdb.sqlite\n",
      "Done.\n"
     ]
    },
    {
     "data": {
      "text/html": [
       "<table>\n",
       "    <thead>\n",
       "        <tr>\n",
       "            <th>1</th>\n",
       "        </tr>\n",
       "    </thead>\n",
       "    <tbody>\n",
       "        <tr>\n",
       "            <td>1</td>\n",
       "        </tr>\n",
       "    </tbody>\n",
       "</table>"
      ],
      "text/plain": [
       "[(1,)]"
      ]
     },
     "execution_count": 50,
     "metadata": {},
     "output_type": "execute_result"
    }
   ],
   "source": [
    "%%sql\n",
    "\n",
    "Select 1;"
   ]
  },
  {
   "cell_type": "markdown",
   "id": "6c5db822-0adb-45fc-9449-ca37fea7d28d",
   "metadata": {},
   "source": [
    "#### Ex.: C_022\n",
    "\n",
    "Show all products having a price between 31 and 40 Dollars"
   ]
  },
  {
   "cell_type": "code",
   "execution_count": 51,
   "id": "e5f2694b",
   "metadata": {},
   "outputs": [
    {
     "name": "stdout",
     "output_type": "stream",
     "text": [
      " * sqlite:///dbs/orderdb.sqlite\n",
      "Done.\n"
     ]
    },
    {
     "data": {
      "text/html": [
       "<table>\n",
       "    <thead>\n",
       "        <tr>\n",
       "            <th>ProductName</th>\n",
       "            <th>UnitPrice</th>\n",
       "        </tr>\n",
       "    </thead>\n",
       "    <tbody>\n",
       "        <tr>\n",
       "            <td>Northwoods Cranberry Sauce</td>\n",
       "            <td>40.0</td>\n",
       "        </tr>\n",
       "        <tr>\n",
       "            <td>Ikura</td>\n",
       "            <td>31.0</td>\n",
       "        </tr>\n",
       "        <tr>\n",
       "            <td>Queso Manchego La Pastora</td>\n",
       "            <td>38.0</td>\n",
       "        </tr>\n",
       "        <tr>\n",
       "            <td>Alice Mutton</td>\n",
       "            <td>39.0</td>\n",
       "        </tr>\n",
       "        <tr>\n",
       "            <td>Gumbär Gummibärchen</td>\n",
       "            <td>31.23</td>\n",
       "        </tr>\n",
       "        <tr>\n",
       "            <td>Mascarpone Fabioli</td>\n",
       "            <td>32.0</td>\n",
       "        </tr>\n",
       "        <tr>\n",
       "            <td>Perth Pasties</td>\n",
       "            <td>32.8</td>\n",
       "        </tr>\n",
       "        <tr>\n",
       "            <td>Gnocchi di nonna Alice</td>\n",
       "            <td>38.0</td>\n",
       "        </tr>\n",
       "        <tr>\n",
       "            <td>Camembert Pierrot</td>\n",
       "            <td>34.0</td>\n",
       "        </tr>\n",
       "        <tr>\n",
       "            <td>Wimmers gute Semmelknödel</td>\n",
       "            <td>33.25</td>\n",
       "        </tr>\n",
       "        <tr>\n",
       "            <td>Gudbrandsdalsost</td>\n",
       "            <td>36.0</td>\n",
       "        </tr>\n",
       "        <tr>\n",
       "            <td>Mozzarella di Giovanni</td>\n",
       "            <td>34.8</td>\n",
       "        </tr>\n",
       "    </tbody>\n",
       "</table>"
      ],
      "text/plain": [
       "[('Northwoods Cranberry Sauce', 40.0),\n",
       " ('Ikura', 31.0),\n",
       " ('Queso Manchego La Pastora', 38.0),\n",
       " ('Alice Mutton', 39.0),\n",
       " ('Gumbär Gummibärchen', 31.23),\n",
       " ('Mascarpone Fabioli', 32.0),\n",
       " ('Perth Pasties', 32.8),\n",
       " ('Gnocchi di nonna Alice', 38.0),\n",
       " ('Camembert Pierrot', 34.0),\n",
       " ('Wimmers gute Semmelknödel', 33.25),\n",
       " ('Gudbrandsdalsost', 36.0),\n",
       " ('Mozzarella di Giovanni', 34.8)]"
      ]
     },
     "execution_count": 51,
     "metadata": {},
     "output_type": "execute_result"
    }
   ],
   "source": [
    "%%sql\n",
    "\n",
    "SELECT ProductName, UnitPrice FROM Products WHERE UnitPrice BETWEEN 31 AND 40;"
   ]
  },
  {
   "cell_type": "markdown",
   "id": "e11d5532",
   "metadata": {},
   "source": [
    "Your answer:"
   ]
  },
  {
   "cell_type": "code",
   "execution_count": 52,
   "id": "d0b7f4f5",
   "metadata": {},
   "outputs": [
    {
     "name": "stdout",
     "output_type": "stream",
     "text": [
      " * sqlite:///dbs/orderdb.sqlite\n",
      "Done.\n"
     ]
    },
    {
     "data": {
      "text/html": [
       "<table>\n",
       "    <thead>\n",
       "        <tr>\n",
       "            <th>1</th>\n",
       "        </tr>\n",
       "    </thead>\n",
       "    <tbody>\n",
       "        <tr>\n",
       "            <td>1</td>\n",
       "        </tr>\n",
       "    </tbody>\n",
       "</table>"
      ],
      "text/plain": [
       "[(1,)]"
      ]
     },
     "execution_count": 52,
     "metadata": {},
     "output_type": "execute_result"
    }
   ],
   "source": [
    "%%sql\n",
    "\n",
    "Select 1;"
   ]
  },
  {
   "cell_type": "markdown",
   "id": "ea1f8f1f",
   "metadata": {},
   "source": [
    "#### Hard\n",
    "\n",
    "#### Ex.: C_040\n",
    "\n",
    "Show all Customers with a lastname ending in 'n'  and which are not located in Germany"
   ]
  },
  {
   "cell_type": "code",
   "execution_count": 53,
   "id": "21ebbad5",
   "metadata": {},
   "outputs": [
    {
     "name": "stdout",
     "output_type": "stream",
     "text": [
      " * sqlite:///dbs/orderdb.sqlite\n",
      "Done.\n"
     ]
    },
    {
     "data": {
      "text/html": [
       "<table>\n",
       "    <thead>\n",
       "        <tr>\n",
       "            <th>Id</th>\n",
       "            <th>FirstName</th>\n",
       "            <th>LastName</th>\n",
       "            <th>City</th>\n",
       "            <th>Country</th>\n",
       "            <th>Phone</th>\n",
       "        </tr>\n",
       "    </thead>\n",
       "    <tbody>\n",
       "        <tr>\n",
       "            <td>9</td>\n",
       "            <td>Laurence</td>\n",
       "            <td>Lebihan</td>\n",
       "            <td>Marseille</td>\n",
       "            <td>France</td>\n",
       "            <td>91.24.45.40</td>\n",
       "        </tr>\n",
       "        <tr>\n",
       "            <td>10</td>\n",
       "            <td>Elizabeth</td>\n",
       "            <td>Lincoln</td>\n",
       "            <td>Tsawassen</td>\n",
       "            <td>Canada</td>\n",
       "            <td>(604) 555-4729</td>\n",
       "        </tr>\n",
       "        <tr>\n",
       "            <td>12</td>\n",
       "            <td>Patricio</td>\n",
       "            <td>Simpson</td>\n",
       "            <td>Buenos Aires</td>\n",
       "            <td>Argentina</td>\n",
       "            <td>(1) 135-5555</td>\n",
       "        </tr>\n",
       "        <tr>\n",
       "            <td>16</td>\n",
       "            <td>Elizabeth</td>\n",
       "            <td>Brown</td>\n",
       "            <td>London</td>\n",
       "            <td>UK</td>\n",
       "            <td>(171) 555-2282</td>\n",
       "        </tr>\n",
       "        <tr>\n",
       "            <td>19</td>\n",
       "            <td>Ann</td>\n",
       "            <td>Devon</td>\n",
       "            <td>London</td>\n",
       "            <td>UK</td>\n",
       "            <td>(171) 555-0297</td>\n",
       "        </tr>\n",
       "        <tr>\n",
       "            <td>24</td>\n",
       "            <td>Maria</td>\n",
       "            <td>Larsson</td>\n",
       "            <td>Bräcke</td>\n",
       "            <td>Sweden</td>\n",
       "            <td>0695-34 67 21</td>\n",
       "        </tr>\n",
       "        <tr>\n",
       "            <td>48</td>\n",
       "            <td>Fran</td>\n",
       "            <td>Wilson</td>\n",
       "            <td>Portland</td>\n",
       "            <td>USA</td>\n",
       "            <td>(503) 555-9573</td>\n",
       "        </tr>\n",
       "        <tr>\n",
       "            <td>65</td>\n",
       "            <td>Paula</td>\n",
       "            <td>Wilson</td>\n",
       "            <td>Albuquerque</td>\n",
       "            <td>USA</td>\n",
       "            <td>(505) 555-5939</td>\n",
       "        </tr>\n",
       "        <tr>\n",
       "            <td>70</td>\n",
       "            <td>Jonas</td>\n",
       "            <td>Bergulfsen</td>\n",
       "            <td>Stavern</td>\n",
       "            <td>Norway</td>\n",
       "            <td>07-98 92 35</td>\n",
       "        </tr>\n",
       "        <tr>\n",
       "            <td>73</td>\n",
       "            <td>Jytte</td>\n",
       "            <td>Petersen</td>\n",
       "            <td>Kobenhavn</td>\n",
       "            <td>Denmark</td>\n",
       "            <td>31 12 34 56</td>\n",
       "        </tr>\n",
       "        <tr>\n",
       "            <td>76</td>\n",
       "            <td>Pascale</td>\n",
       "            <td>Cartrain</td>\n",
       "            <td>Charleroi</td>\n",
       "            <td>Belgium</td>\n",
       "            <td>(071) 23 67 22 20</td>\n",
       "        </tr>\n",
       "        <tr>\n",
       "            <td>77</td>\n",
       "            <td>Liz</td>\n",
       "            <td>Nixon</td>\n",
       "            <td>Portland</td>\n",
       "            <td>USA</td>\n",
       "            <td>(503) 555-3612</td>\n",
       "        </tr>\n",
       "        <tr>\n",
       "            <td>83</td>\n",
       "            <td>Palle</td>\n",
       "            <td>Ibsen</td>\n",
       "            <td>Århus</td>\n",
       "            <td>Denmark</td>\n",
       "            <td>86 21 32 43</td>\n",
       "        </tr>\n",
       "        <tr>\n",
       "            <td>90</td>\n",
       "            <td>Matti</td>\n",
       "            <td>Karttunen</td>\n",
       "            <td>Helsinki</td>\n",
       "            <td>Finland</td>\n",
       "            <td>90-224 8858</td>\n",
       "        </tr>\n",
       "    </tbody>\n",
       "</table>"
      ],
      "text/plain": [
       "[(9, 'Laurence', 'Lebihan', 'Marseille', 'France', '91.24.45.40'),\n",
       " (10, 'Elizabeth', 'Lincoln', 'Tsawassen', 'Canada', '(604) 555-4729'),\n",
       " (12, 'Patricio', 'Simpson', 'Buenos Aires', 'Argentina', '(1) 135-5555'),\n",
       " (16, 'Elizabeth', 'Brown', 'London', 'UK', '(171) 555-2282'),\n",
       " (19, 'Ann', 'Devon', 'London', 'UK', '(171) 555-0297'),\n",
       " (24, 'Maria', 'Larsson', 'Bräcke', 'Sweden', '0695-34 67 21'),\n",
       " (48, 'Fran', 'Wilson', 'Portland', 'USA', '(503) 555-9573'),\n",
       " (65, 'Paula', 'Wilson', 'Albuquerque', 'USA', '(505) 555-5939'),\n",
       " (70, 'Jonas', 'Bergulfsen', 'Stavern', 'Norway', '07-98 92 35'),\n",
       " (73, 'Jytte', 'Petersen', 'Kobenhavn', 'Denmark', '31 12 34 56'),\n",
       " (76, 'Pascale', 'Cartrain', 'Charleroi', 'Belgium', '(071) 23 67 22 20'),\n",
       " (77, 'Liz', 'Nixon', 'Portland', 'USA', '(503) 555-3612'),\n",
       " (83, 'Palle', 'Ibsen', 'Århus', 'Denmark', '86 21 32 43'),\n",
       " (90, 'Matti', 'Karttunen', 'Helsinki', 'Finland', '90-224 8858')]"
      ]
     },
     "execution_count": 53,
     "metadata": {},
     "output_type": "execute_result"
    }
   ],
   "source": [
    "%%sql\n",
    "\n",
    "SELECT * FROM Customers WHERE Country <> 'Germany' And Lastname Like '%n';"
   ]
  },
  {
   "cell_type": "markdown",
   "id": "0ae0d74b",
   "metadata": {},
   "source": [
    "Your answer:"
   ]
  },
  {
   "cell_type": "code",
   "execution_count": 54,
   "id": "2697951d",
   "metadata": {},
   "outputs": [
    {
     "name": "stdout",
     "output_type": "stream",
     "text": [
      " * sqlite:///dbs/orderdb.sqlite\n",
      "Done.\n"
     ]
    },
    {
     "data": {
      "text/html": [
       "<table>\n",
       "    <thead>\n",
       "        <tr>\n",
       "            <th>1</th>\n",
       "        </tr>\n",
       "    </thead>\n",
       "    <tbody>\n",
       "        <tr>\n",
       "            <td>1</td>\n",
       "        </tr>\n",
       "    </tbody>\n",
       "</table>"
      ],
      "text/plain": [
       "[(1,)]"
      ]
     },
     "execution_count": 54,
     "metadata": {},
     "output_type": "execute_result"
    }
   ],
   "source": [
    "%%sql\n",
    "\n",
    "Select 1;"
   ]
  },
  {
   "cell_type": "markdown",
   "id": "ca64a735",
   "metadata": {},
   "source": [
    "### Group by clause (including Having)\n",
    "\n",
    "The Group by clause groups the records in a result set according to one or more attributes. These groups can be processed by aggregate functions: Min, Max, Avg, Sum.\n",
    "\n",
    "The following Select statement shows the number of customers per country:\n",
    "\n",
    "> SELECT Country, COUNT(*) FROM Customers GROUP BY Country;\n",
    "\n",
    "The Having clause is used in combination with a Group by clause and provides filter criteria for an aggregate function.\n",
    "\n",
    "\n",
    "#### Easy\n",
    "\n",
    "#### Ex.: D_001\n",
    "\n",
    "Show the number of products, which are discontinued as well as the number of products, which are not discontinued. (0 -> False,  1 -> True)"
   ]
  },
  {
   "cell_type": "code",
   "execution_count": 55,
   "id": "7cf74265",
   "metadata": {},
   "outputs": [
    {
     "name": "stdout",
     "output_type": "stream",
     "text": [
      " * sqlite:///dbs/orderdb.sqlite\n",
      "Done.\n"
     ]
    },
    {
     "data": {
      "text/html": [
       "<table>\n",
       "    <thead>\n",
       "        <tr>\n",
       "            <th>IsDiscontinued</th>\n",
       "            <th>count(*)</th>\n",
       "        </tr>\n",
       "    </thead>\n",
       "    <tbody>\n",
       "        <tr>\n",
       "            <td>0</td>\n",
       "            <td>70</td>\n",
       "        </tr>\n",
       "        <tr>\n",
       "            <td>1</td>\n",
       "            <td>8</td>\n",
       "        </tr>\n",
       "    </tbody>\n",
       "</table>"
      ],
      "text/plain": [
       "[(0, 70), (1, 8)]"
      ]
     },
     "execution_count": 55,
     "metadata": {},
     "output_type": "execute_result"
    }
   ],
   "source": [
    "%%sql\n",
    "\n",
    "SELECT IsDiscontinued, count(*)  FROM Products GROUP BY IsDiscontinued;   "
   ]
  },
  {
   "cell_type": "markdown",
   "id": "c64169b2",
   "metadata": {},
   "source": [
    "Your answer:"
   ]
  },
  {
   "cell_type": "code",
   "execution_count": 56,
   "id": "a0af16f9",
   "metadata": {},
   "outputs": [
    {
     "name": "stdout",
     "output_type": "stream",
     "text": [
      " * sqlite:///dbs/orderdb.sqlite\n",
      "Done.\n"
     ]
    },
    {
     "data": {
      "text/html": [
       "<table>\n",
       "    <thead>\n",
       "        <tr>\n",
       "            <th>1</th>\n",
       "        </tr>\n",
       "    </thead>\n",
       "    <tbody>\n",
       "        <tr>\n",
       "            <td>1</td>\n",
       "        </tr>\n",
       "    </tbody>\n",
       "</table>"
      ],
      "text/plain": [
       "[(1,)]"
      ]
     },
     "execution_count": 56,
     "metadata": {},
     "output_type": "execute_result"
    }
   ],
   "source": [
    "%%sql\n",
    "\n",
    "Select 1;"
   ]
  },
  {
   "cell_type": "markdown",
   "id": "eca27f38",
   "metadata": {},
   "source": [
    "#### Ex.: D_002\n",
    "\n",
    "Show the number of suppliers per city for the first 10 cities."
   ]
  },
  {
   "cell_type": "code",
   "execution_count": 57,
   "id": "71189b2a",
   "metadata": {},
   "outputs": [
    {
     "name": "stdout",
     "output_type": "stream",
     "text": [
      " * sqlite:///dbs/orderdb.sqlite\n",
      "Done.\n"
     ]
    },
    {
     "data": {
      "text/html": [
       "<table>\n",
       "    <thead>\n",
       "        <tr>\n",
       "            <th>City</th>\n",
       "            <th>count(*)</th>\n",
       "        </tr>\n",
       "    </thead>\n",
       "    <tbody>\n",
       "        <tr>\n",
       "            <td>Ann Arbor</td>\n",
       "            <td>1</td>\n",
       "        </tr>\n",
       "        <tr>\n",
       "            <td>Annecy</td>\n",
       "            <td>1</td>\n",
       "        </tr>\n",
       "        <tr>\n",
       "            <td>Bend</td>\n",
       "            <td>1</td>\n",
       "        </tr>\n",
       "        <tr>\n",
       "            <td>Berlin</td>\n",
       "            <td>1</td>\n",
       "        </tr>\n",
       "        <tr>\n",
       "            <td>Boston</td>\n",
       "            <td>1</td>\n",
       "        </tr>\n",
       "        <tr>\n",
       "            <td>Cuxhaven</td>\n",
       "            <td>1</td>\n",
       "        </tr>\n",
       "        <tr>\n",
       "            <td>Dallas</td>\n",
       "            <td>1</td>\n",
       "        </tr>\n",
       "        <tr>\n",
       "            <td>Frankfurt</td>\n",
       "            <td>1</td>\n",
       "        </tr>\n",
       "        <tr>\n",
       "            <td>Göteborg</td>\n",
       "            <td>1</td>\n",
       "        </tr>\n",
       "        <tr>\n",
       "            <td>Lappeenranta</td>\n",
       "            <td>1</td>\n",
       "        </tr>\n",
       "    </tbody>\n",
       "</table>"
      ],
      "text/plain": [
       "[('Ann Arbor', 1),\n",
       " ('Annecy', 1),\n",
       " ('Bend', 1),\n",
       " ('Berlin', 1),\n",
       " ('Boston', 1),\n",
       " ('Cuxhaven', 1),\n",
       " ('Dallas', 1),\n",
       " ('Frankfurt', 1),\n",
       " ('Göteborg', 1),\n",
       " ('Lappeenranta', 1)]"
      ]
     },
     "execution_count": 57,
     "metadata": {},
     "output_type": "execute_result"
    }
   ],
   "source": [
    "%%sql\n",
    "\n",
    "SELECT City, count(*) FROM Suppliers GROUP BY City Limit 10;"
   ]
  },
  {
   "cell_type": "markdown",
   "id": "a2da57bd",
   "metadata": {},
   "source": [
    "Your answer:"
   ]
  },
  {
   "cell_type": "code",
   "execution_count": 58,
   "id": "e7e0d9ed",
   "metadata": {},
   "outputs": [
    {
     "name": "stdout",
     "output_type": "stream",
     "text": [
      " * sqlite:///dbs/orderdb.sqlite\n",
      "Done.\n"
     ]
    },
    {
     "data": {
      "text/html": [
       "<table>\n",
       "    <thead>\n",
       "        <tr>\n",
       "            <th>1</th>\n",
       "        </tr>\n",
       "    </thead>\n",
       "    <tbody>\n",
       "        <tr>\n",
       "            <td>1</td>\n",
       "        </tr>\n",
       "    </tbody>\n",
       "</table>"
      ],
      "text/plain": [
       "[(1,)]"
      ]
     },
     "execution_count": 58,
     "metadata": {},
     "output_type": "execute_result"
    }
   ],
   "source": [
    "%%sql\n",
    "\n",
    "Select 1;"
   ]
  },
  {
   "cell_type": "markdown",
   "id": "4f9d40de",
   "metadata": {},
   "source": [
    "#### Medium\n",
    "\n",
    "#### Ex.: D_020\n",
    "\n",
    "Provide the average price per supplier (over all their products) for the first 10 records"
   ]
  },
  {
   "cell_type": "code",
   "execution_count": 59,
   "id": "74409bcb",
   "metadata": {},
   "outputs": [
    {
     "name": "stdout",
     "output_type": "stream",
     "text": [
      " * sqlite:///dbs/orderdb.sqlite\n",
      "Done.\n"
     ]
    },
    {
     "data": {
      "text/html": [
       "<table>\n",
       "    <thead>\n",
       "        <tr>\n",
       "            <th>SupplierId</th>\n",
       "            <th>AVG(UnitPrice)</th>\n",
       "        </tr>\n",
       "    </thead>\n",
       "    <tbody>\n",
       "        <tr>\n",
       "            <td>1</td>\n",
       "            <td>15.666666666666666</td>\n",
       "        </tr>\n",
       "        <tr>\n",
       "            <td>2</td>\n",
       "            <td>20.35</td>\n",
       "        </tr>\n",
       "        <tr>\n",
       "            <td>3</td>\n",
       "            <td>31.666666666666668</td>\n",
       "        </tr>\n",
       "        <tr>\n",
       "            <td>4</td>\n",
       "            <td>46.0</td>\n",
       "        </tr>\n",
       "        <tr>\n",
       "            <td>5</td>\n",
       "            <td>29.5</td>\n",
       "        </tr>\n",
       "        <tr>\n",
       "            <td>6</td>\n",
       "            <td>14.916666666666666</td>\n",
       "        </tr>\n",
       "        <tr>\n",
       "            <td>7</td>\n",
       "            <td>35.57</td>\n",
       "        </tr>\n",
       "        <tr>\n",
       "            <td>8</td>\n",
       "            <td>28.175</td>\n",
       "        </tr>\n",
       "        <tr>\n",
       "            <td>9</td>\n",
       "            <td>15.0</td>\n",
       "        </tr>\n",
       "        <tr>\n",
       "            <td>10</td>\n",
       "            <td>4.5</td>\n",
       "        </tr>\n",
       "    </tbody>\n",
       "</table>"
      ],
      "text/plain": [
       "[(1, 15.666666666666666),\n",
       " (2, 20.35),\n",
       " (3, 31.666666666666668),\n",
       " (4, 46.0),\n",
       " (5, 29.5),\n",
       " (6, 14.916666666666666),\n",
       " (7, 35.57),\n",
       " (8, 28.175),\n",
       " (9, 15.0),\n",
       " (10, 4.5)]"
      ]
     },
     "execution_count": 59,
     "metadata": {},
     "output_type": "execute_result"
    }
   ],
   "source": [
    "%%sql\n",
    "\n",
    "SELECT SupplierId, AVG(UnitPrice) FROM Products GROUP BY SupplierId Limit 10;"
   ]
  },
  {
   "cell_type": "markdown",
   "id": "cd4ea208",
   "metadata": {},
   "source": [
    "Your answer:"
   ]
  },
  {
   "cell_type": "code",
   "execution_count": 60,
   "id": "ad17a782",
   "metadata": {},
   "outputs": [
    {
     "name": "stdout",
     "output_type": "stream",
     "text": [
      " * sqlite:///dbs/orderdb.sqlite\n",
      "Done.\n"
     ]
    },
    {
     "data": {
      "text/html": [
       "<table>\n",
       "    <thead>\n",
       "        <tr>\n",
       "            <th>1</th>\n",
       "        </tr>\n",
       "    </thead>\n",
       "    <tbody>\n",
       "        <tr>\n",
       "            <td>1</td>\n",
       "        </tr>\n",
       "    </tbody>\n",
       "</table>"
      ],
      "text/plain": [
       "[(1,)]"
      ]
     },
     "execution_count": 60,
     "metadata": {},
     "output_type": "execute_result"
    }
   ],
   "source": [
    "%%sql\n",
    "\n",
    "Select 1;"
   ]
  },
  {
   "cell_type": "markdown",
   "id": "e171220e",
   "metadata": {},
   "source": [
    "#### Ex.: D_021\n",
    "\n",
    "Provide the total number of items per Orderid for the first 10 entries"
   ]
  },
  {
   "cell_type": "code",
   "execution_count": 61,
   "id": "aa9b6a63",
   "metadata": {},
   "outputs": [
    {
     "name": "stdout",
     "output_type": "stream",
     "text": [
      " * sqlite:///dbs/orderdb.sqlite\n",
      "Done.\n"
     ]
    },
    {
     "data": {
      "text/html": [
       "<table>\n",
       "    <thead>\n",
       "        <tr>\n",
       "            <th>OrderId</th>\n",
       "            <th>SUM(Quantity)</th>\n",
       "        </tr>\n",
       "    </thead>\n",
       "    <tbody>\n",
       "        <tr>\n",
       "            <td>1</td>\n",
       "            <td>27</td>\n",
       "        </tr>\n",
       "        <tr>\n",
       "            <td>2</td>\n",
       "            <td>49</td>\n",
       "        </tr>\n",
       "        <tr>\n",
       "            <td>3</td>\n",
       "            <td>60</td>\n",
       "        </tr>\n",
       "        <tr>\n",
       "            <td>4</td>\n",
       "            <td>41</td>\n",
       "        </tr>\n",
       "        <tr>\n",
       "            <td>5</td>\n",
       "            <td>105</td>\n",
       "        </tr>\n",
       "        <tr>\n",
       "            <td>6</td>\n",
       "            <td>102</td>\n",
       "        </tr>\n",
       "        <tr>\n",
       "            <td>7</td>\n",
       "            <td>57</td>\n",
       "        </tr>\n",
       "        <tr>\n",
       "            <td>8</td>\n",
       "            <td>110</td>\n",
       "        </tr>\n",
       "        <tr>\n",
       "            <td>9</td>\n",
       "            <td>27</td>\n",
       "        </tr>\n",
       "        <tr>\n",
       "            <td>10</td>\n",
       "            <td>46</td>\n",
       "        </tr>\n",
       "    </tbody>\n",
       "</table>"
      ],
      "text/plain": [
       "[(1, 27),\n",
       " (2, 49),\n",
       " (3, 60),\n",
       " (4, 41),\n",
       " (5, 105),\n",
       " (6, 102),\n",
       " (7, 57),\n",
       " (8, 110),\n",
       " (9, 27),\n",
       " (10, 46)]"
      ]
     },
     "execution_count": 61,
     "metadata": {},
     "output_type": "execute_result"
    }
   ],
   "source": [
    "%%sql\n",
    "\n",
    "SELECT OrderId, SUM(Quantity) FROM OrderItems GROUP BY OrderId Limit 10;"
   ]
  },
  {
   "cell_type": "markdown",
   "id": "0b3bf792",
   "metadata": {},
   "source": [
    "Your answer:"
   ]
  },
  {
   "cell_type": "code",
   "execution_count": 62,
   "id": "7c6d8554",
   "metadata": {},
   "outputs": [
    {
     "name": "stdout",
     "output_type": "stream",
     "text": [
      " * sqlite:///dbs/orderdb.sqlite\n",
      "Done.\n"
     ]
    },
    {
     "data": {
      "text/html": [
       "<table>\n",
       "    <thead>\n",
       "        <tr>\n",
       "            <th>1</th>\n",
       "        </tr>\n",
       "    </thead>\n",
       "    <tbody>\n",
       "        <tr>\n",
       "            <td>1</td>\n",
       "        </tr>\n",
       "    </tbody>\n",
       "</table>"
      ],
      "text/plain": [
       "[(1,)]"
      ]
     },
     "execution_count": 62,
     "metadata": {},
     "output_type": "execute_result"
    }
   ],
   "source": [
    "%%sql\n",
    "\n",
    "Select 1;"
   ]
  },
  {
   "cell_type": "markdown",
   "id": "dc90fe21",
   "metadata": {},
   "source": [
    "#### Hard\n",
    "\n",
    "#### Ex.: D_040\n",
    "\n",
    "List all customers with the number of their orders as long as they have more than 2 orders (again, the first 10 records)"
   ]
  },
  {
   "cell_type": "code",
   "execution_count": 63,
   "id": "12326f32",
   "metadata": {},
   "outputs": [
    {
     "name": "stdout",
     "output_type": "stream",
     "text": [
      " * sqlite:///dbs/orderdb.sqlite\n",
      "Done.\n"
     ]
    },
    {
     "data": {
      "text/html": [
       "<table>\n",
       "    <thead>\n",
       "        <tr>\n",
       "            <th>CustomerId</th>\n",
       "            <th>OrderCount</th>\n",
       "        </tr>\n",
       "    </thead>\n",
       "    <tbody>\n",
       "        <tr>\n",
       "            <td>1</td>\n",
       "            <td>6</td>\n",
       "        </tr>\n",
       "        <tr>\n",
       "            <td>2</td>\n",
       "            <td>4</td>\n",
       "        </tr>\n",
       "        <tr>\n",
       "            <td>3</td>\n",
       "            <td>7</td>\n",
       "        </tr>\n",
       "        <tr>\n",
       "            <td>4</td>\n",
       "            <td>13</td>\n",
       "        </tr>\n",
       "        <tr>\n",
       "            <td>5</td>\n",
       "            <td>18</td>\n",
       "        </tr>\n",
       "        <tr>\n",
       "            <td>6</td>\n",
       "            <td>7</td>\n",
       "        </tr>\n",
       "        <tr>\n",
       "            <td>7</td>\n",
       "            <td>11</td>\n",
       "        </tr>\n",
       "        <tr>\n",
       "            <td>8</td>\n",
       "            <td>3</td>\n",
       "        </tr>\n",
       "        <tr>\n",
       "            <td>9</td>\n",
       "            <td>17</td>\n",
       "        </tr>\n",
       "        <tr>\n",
       "            <td>10</td>\n",
       "            <td>14</td>\n",
       "        </tr>\n",
       "    </tbody>\n",
       "</table>"
      ],
      "text/plain": [
       "[(1, 6),\n",
       " (2, 4),\n",
       " (3, 7),\n",
       " (4, 13),\n",
       " (5, 18),\n",
       " (6, 7),\n",
       " (7, 11),\n",
       " (8, 3),\n",
       " (9, 17),\n",
       " (10, 14)]"
      ]
     },
     "execution_count": 63,
     "metadata": {},
     "output_type": "execute_result"
    }
   ],
   "source": [
    "%%sql\n",
    "\n",
    "SELECT CustomerId, COUNT(*) AS OrderCount FROM Orders GROUP BY CustomerId HAVING COUNT(*) > 2 Limit 10;"
   ]
  },
  {
   "cell_type": "markdown",
   "id": "a46a3fc2",
   "metadata": {},
   "source": [
    "Your answer:"
   ]
  },
  {
   "cell_type": "code",
   "execution_count": 64,
   "id": "77ed87fd",
   "metadata": {},
   "outputs": [
    {
     "name": "stdout",
     "output_type": "stream",
     "text": [
      " * sqlite:///dbs/orderdb.sqlite\n",
      "Done.\n"
     ]
    },
    {
     "data": {
      "text/html": [
       "<table>\n",
       "    <thead>\n",
       "        <tr>\n",
       "            <th>1</th>\n",
       "        </tr>\n",
       "    </thead>\n",
       "    <tbody>\n",
       "        <tr>\n",
       "            <td>1</td>\n",
       "        </tr>\n",
       "    </tbody>\n",
       "</table>"
      ],
      "text/plain": [
       "[(1,)]"
      ]
     },
     "execution_count": 64,
     "metadata": {},
     "output_type": "execute_result"
    }
   ],
   "source": [
    "%%sql\n",
    "\n",
    "Select 1;"
   ]
  },
  {
   "cell_type": "markdown",
   "id": "ff8725ce",
   "metadata": {},
   "source": [
    "#### Ex.: D_041\n",
    "\n",
    "Show all Suppliers (ID), the kind of package they use and the number of different products they use the package for as long as the same package is used for multiple products of that supplier."
   ]
  },
  {
   "cell_type": "code",
   "execution_count": 65,
   "id": "1088aa7b",
   "metadata": {},
   "outputs": [
    {
     "name": "stdout",
     "output_type": "stream",
     "text": [
      " * sqlite:///dbs/orderdb.sqlite\n",
      "Done.\n"
     ]
    },
    {
     "data": {
      "text/html": [
       "<table>\n",
       "    <thead>\n",
       "        <tr>\n",
       "            <th>SupplierId</th>\n",
       "            <th>Package</th>\n",
       "            <th>COUNT(*)</th>\n",
       "        </tr>\n",
       "    </thead>\n",
       "    <tbody>\n",
       "        <tr>\n",
       "            <td>14</td>\n",
       "            <td>24 - 200 g pkgs.</td>\n",
       "            <td>2</td>\n",
       "        </tr>\n",
       "        <tr>\n",
       "            <td>16</td>\n",
       "            <td>24 - 12 oz bottles</td>\n",
       "            <td>3</td>\n",
       "        </tr>\n",
       "        <tr>\n",
       "            <td>26</td>\n",
       "            <td>24 - 250 g pkgs.</td>\n",
       "            <td>2</td>\n",
       "        </tr>\n",
       "    </tbody>\n",
       "</table>"
      ],
      "text/plain": [
       "[(14, '24 - 200 g pkgs.', 2),\n",
       " (16, '24 - 12 oz bottles', 3),\n",
       " (26, '24 - 250 g pkgs.', 2)]"
      ]
     },
     "execution_count": 65,
     "metadata": {},
     "output_type": "execute_result"
    }
   ],
   "source": [
    "%%sql\n",
    "\n",
    "SELECT SupplierId, Package, COUNT(*) FROM Products GROUP BY Supplierid, Package having Count(*) > 1;"
   ]
  },
  {
   "cell_type": "markdown",
   "id": "cdf69723",
   "metadata": {},
   "source": [
    "Your answer:"
   ]
  },
  {
   "cell_type": "code",
   "execution_count": 66,
   "id": "8dac08e3",
   "metadata": {},
   "outputs": [
    {
     "name": "stdout",
     "output_type": "stream",
     "text": [
      " * sqlite:///dbs/orderdb.sqlite\n",
      "Done.\n"
     ]
    },
    {
     "data": {
      "text/html": [
       "<table>\n",
       "    <thead>\n",
       "        <tr>\n",
       "            <th>1</th>\n",
       "        </tr>\n",
       "    </thead>\n",
       "    <tbody>\n",
       "        <tr>\n",
       "            <td>1</td>\n",
       "        </tr>\n",
       "    </tbody>\n",
       "</table>"
      ],
      "text/plain": [
       "[(1,)]"
      ]
     },
     "execution_count": 66,
     "metadata": {},
     "output_type": "execute_result"
    }
   ],
   "source": [
    "%%sql\n",
    "\n",
    "Select 1;"
   ]
  },
  {
   "cell_type": "markdown",
   "id": "523b91a7",
   "metadata": {},
   "source": [
    "### Order by clause\n",
    "\n",
    "The order by clause allows for sorting of the resultset. Its usage is straight forward: Order by <attribute1> <Asc / Desc> [<attribute> <Asc / Desc>] ...\n",
    "\n",
    "The  attribute is the column used for sorting and Asc / Desc determines if the result set is ordered for that attribute in ASCending or DESCending order.\n",
    "\n",
    "> Select ID, TotalAmount from Orders \n",
    "where ID < 10\n",
    "Order by TotalAmount DESC;"
   ]
  },
  {
   "cell_type": "markdown",
   "id": "42014ba7",
   "metadata": {},
   "source": [
    "#### Ex.: E_010\n",
    "\n",
    "Show all products ordered, descending by price as long as the price is between 80 and 300 Dollars."
   ]
  },
  {
   "cell_type": "code",
   "execution_count": 67,
   "id": "5d181659",
   "metadata": {},
   "outputs": [
    {
     "name": "stdout",
     "output_type": "stream",
     "text": [
      " * sqlite:///dbs/orderdb.sqlite\n",
      "Done.\n"
     ]
    },
    {
     "data": {
      "text/html": [
       "<table>\n",
       "    <thead>\n",
       "        <tr>\n",
       "            <th>ProductName</th>\n",
       "            <th>UnitPrice</th>\n",
       "        </tr>\n",
       "    </thead>\n",
       "    <tbody>\n",
       "        <tr>\n",
       "            <td>Côte de Blaye</td>\n",
       "            <td>263.5</td>\n",
       "        </tr>\n",
       "        <tr>\n",
       "            <td>Thüringer Rostbratwurst</td>\n",
       "            <td>123.79</td>\n",
       "        </tr>\n",
       "        <tr>\n",
       "            <td>Mishi Kobe Niku</td>\n",
       "            <td>97.0</td>\n",
       "        </tr>\n",
       "        <tr>\n",
       "            <td>Sir Rodney&#x27;s Marmalade</td>\n",
       "            <td>81.0</td>\n",
       "        </tr>\n",
       "    </tbody>\n",
       "</table>"
      ],
      "text/plain": [
       "[('Côte de Blaye', 263.5),\n",
       " ('Thüringer Rostbratwurst', 123.79),\n",
       " ('Mishi Kobe Niku', 97.0),\n",
       " (\"Sir Rodney's Marmalade\", 81.0)]"
      ]
     },
     "execution_count": 67,
     "metadata": {},
     "output_type": "execute_result"
    }
   ],
   "source": [
    "%%sql\n",
    "\n",
    "SELECT ProductName, UnitPrice FROM Products where unitprice between 80 and 300 ORDER BY UnitPrice DESC;"
   ]
  },
  {
   "cell_type": "markdown",
   "id": "d737dd47",
   "metadata": {},
   "source": [
    "Your answer:"
   ]
  },
  {
   "cell_type": "code",
   "execution_count": 68,
   "id": "a3e37a8e",
   "metadata": {},
   "outputs": [
    {
     "name": "stdout",
     "output_type": "stream",
     "text": [
      " * sqlite:///dbs/orderdb.sqlite\n",
      "Done.\n"
     ]
    },
    {
     "data": {
      "text/html": [
       "<table>\n",
       "    <thead>\n",
       "        <tr>\n",
       "            <th>1</th>\n",
       "        </tr>\n",
       "    </thead>\n",
       "    <tbody>\n",
       "        <tr>\n",
       "            <td>1</td>\n",
       "        </tr>\n",
       "    </tbody>\n",
       "</table>"
      ],
      "text/plain": [
       "[(1,)]"
      ]
     },
     "execution_count": 68,
     "metadata": {},
     "output_type": "execute_result"
    }
   ],
   "source": [
    "%%sql\n",
    "\n",
    "Select 1;"
   ]
  },
  {
   "cell_type": "markdown",
   "id": "a663ef97",
   "metadata": {},
   "source": [
    "#### Ex.: E_011\n",
    "\n",
    "Show all products ordered ascending by price as long as the price is between 80 and 300 Dollars."
   ]
  },
  {
   "cell_type": "code",
   "execution_count": 69,
   "id": "84ad0d55",
   "metadata": {},
   "outputs": [
    {
     "name": "stdout",
     "output_type": "stream",
     "text": [
      " * sqlite:///dbs/orderdb.sqlite\n",
      "Done.\n"
     ]
    },
    {
     "data": {
      "text/html": [
       "<table>\n",
       "    <thead>\n",
       "        <tr>\n",
       "            <th>ProductName</th>\n",
       "            <th>UnitPrice</th>\n",
       "        </tr>\n",
       "    </thead>\n",
       "    <tbody>\n",
       "        <tr>\n",
       "            <td>Sir Rodney&#x27;s Marmalade</td>\n",
       "            <td>81.0</td>\n",
       "        </tr>\n",
       "        <tr>\n",
       "            <td>Mishi Kobe Niku</td>\n",
       "            <td>97.0</td>\n",
       "        </tr>\n",
       "        <tr>\n",
       "            <td>Thüringer Rostbratwurst</td>\n",
       "            <td>123.79</td>\n",
       "        </tr>\n",
       "        <tr>\n",
       "            <td>Côte de Blaye</td>\n",
       "            <td>263.5</td>\n",
       "        </tr>\n",
       "    </tbody>\n",
       "</table>"
      ],
      "text/plain": [
       "[(\"Sir Rodney's Marmalade\", 81.0),\n",
       " ('Mishi Kobe Niku', 97.0),\n",
       " ('Thüringer Rostbratwurst', 123.79),\n",
       " ('Côte de Blaye', 263.5)]"
      ]
     },
     "execution_count": 69,
     "metadata": {},
     "output_type": "execute_result"
    }
   ],
   "source": [
    "%%sql\n",
    "\n",
    "SELECT ProductName, UnitPrice FROM Products where unitprice between 80 and 300 ORDER BY UnitPrice Asc;"
   ]
  },
  {
   "cell_type": "markdown",
   "id": "46ce6978",
   "metadata": {},
   "source": [
    "Your answer:"
   ]
  },
  {
   "cell_type": "code",
   "execution_count": 70,
   "id": "d74f2c83",
   "metadata": {},
   "outputs": [
    {
     "name": "stdout",
     "output_type": "stream",
     "text": [
      " * sqlite:///dbs/orderdb.sqlite\n",
      "Done.\n"
     ]
    },
    {
     "data": {
      "text/html": [
       "<table>\n",
       "    <thead>\n",
       "        <tr>\n",
       "            <th>1</th>\n",
       "        </tr>\n",
       "    </thead>\n",
       "    <tbody>\n",
       "        <tr>\n",
       "            <td>1</td>\n",
       "        </tr>\n",
       "    </tbody>\n",
       "</table>"
      ],
      "text/plain": [
       "[(1,)]"
      ]
     },
     "execution_count": 70,
     "metadata": {},
     "output_type": "execute_result"
    }
   ],
   "source": [
    "%%sql\n",
    "\n",
    "Select 1;"
   ]
  },
  {
   "cell_type": "markdown",
   "id": "967660a1",
   "metadata": {},
   "source": [
    "### Joins\n",
    "\n",
    "Joining is needed when there are 2 or more tables used in a Select statement. There are 4 types of Joins:\n",
    "\n",
    "1. (Inner) Join\n",
    "2. Left (Outer) Join\n",
    "3. Right (Outer) Join\n",
    "4. Full (Outer) Join\n",
    "\n",
    "Here are these Joins visualized:\n",
    "\n",
    "<img src=\"pics/joins.png\">\n",
    "\n",
    "So far, all exercises only worked with a single table. That lead to the situation, that we only were able to provide IDs instead of say a Supplier anme, as Customer name and so on. \n",
    "\n",
    "Joins allow combining the information contained in multiple tables and with that provide all the information needed.\n",
    "\n",
    "This example not only get the product name from the Products table, but also the Supplier name for that product from the Supplier table:\n",
    "\n",
    ">  SELECT Suppliers.CompanyName AS SupplierName, ProductName, Suppliers.id, Products.supplierid\n",
    "FROM Products JOIN Suppliers ON Products.SupplierId = Suppliers.Id \n",
    "Limit 10;\n",
    "\n",
    "How does this inner join conceptually work?\n",
    "\n",
    "1. Create the Cartesian Product of the two tables (Each record of table Products is combined with every record of table Suppliers).  Say we have 12 Products records and 7 Suppliers records then the Cartesian Product contains a set of 7 * 12 combined records ( = 84).\n",
    "\n",
    "2. Eliminate all the records, that do not satisfy the criteria : Products.SupplierId = Suppliers.Id \n",
    "\n",
    "3. If the Select contained a Where clause or Group by and Having then these would be processed, too.\n",
    "\n",
    "4. If there is a Order by clause, then the records are ordered accordingly.\n",
    "\n",
    "5. Lastly, if existent, the Limit clause is processed.\n",
    "\n",
    "\n",
    "More generally expressed, this is the order in which the different parts of a Select Statement are processed :\n",
    "\n",
    "1. From part (including the JOINs)\n",
    "\n",
    "2. Where clause\n",
    "\n",
    "3. Group by\n",
    "\n",
    "4. Having\n",
    "\n",
    "5. Order by\n",
    "\n",
    "6. Limit\n",
    "\n",
    "7. Select\n",
    "\n",
    "Please consider these questions:\n",
    "\n",
    "- Is this order the only one? Could certain steps be swapped?\n",
    "\n",
    "-  What is the advice you would give to someone working with Select statement? What should they consider / take care of? When?\n",
    "\n",
    "\n"
   ]
  },
  {
   "cell_type": "markdown",
   "id": "0938d8c6",
   "metadata": {},
   "source": [
    "#### Easy\n",
    "\n",
    "#### Ex.: F_001\n",
    "\n",
    "Show the Customers (by name) and their order numbers. Sort by last name and limit the list to the first 7 records."
   ]
  },
  {
   "cell_type": "code",
   "execution_count": 71,
   "id": "4f190186",
   "metadata": {},
   "outputs": [
    {
     "name": "stdout",
     "output_type": "stream",
     "text": [
      " * sqlite:///dbs/orderdb.sqlite\n",
      "Done.\n"
     ]
    },
    {
     "data": {
      "text/html": [
       "<table>\n",
       "    <thead>\n",
       "        <tr>\n",
       "            <th>FirstName</th>\n",
       "            <th>LastName</th>\n",
       "            <th>OrderNumber</th>\n",
       "        </tr>\n",
       "    </thead>\n",
       "    <tbody>\n",
       "        <tr>\n",
       "            <td>Paolo</td>\n",
       "            <td>Accorti</td>\n",
       "            <td>542552</td>\n",
       "        </tr>\n",
       "        <tr>\n",
       "            <td>Paolo</td>\n",
       "            <td>Accorti</td>\n",
       "            <td>542840</td>\n",
       "        </tr>\n",
       "        <tr>\n",
       "            <td>Paolo</td>\n",
       "            <td>Accorti</td>\n",
       "            <td>542883</td>\n",
       "        </tr>\n",
       "        <tr>\n",
       "            <td>Paolo</td>\n",
       "            <td>Accorti</td>\n",
       "            <td>542937</td>\n",
       "        </tr>\n",
       "        <tr>\n",
       "            <td>Paolo</td>\n",
       "            <td>Accorti</td>\n",
       "            <td>543156</td>\n",
       "        </tr>\n",
       "        <tr>\n",
       "            <td>Paolo</td>\n",
       "            <td>Accorti</td>\n",
       "            <td>543190</td>\n",
       "        </tr>\n",
       "        <tr>\n",
       "            <td>Pedro</td>\n",
       "            <td>Afonso</td>\n",
       "            <td>542420</td>\n",
       "        </tr>\n",
       "    </tbody>\n",
       "</table>"
      ],
      "text/plain": [
       "[('Paolo', 'Accorti', '542552'),\n",
       " ('Paolo', 'Accorti', '542840'),\n",
       " ('Paolo', 'Accorti', '542883'),\n",
       " ('Paolo', 'Accorti', '542937'),\n",
       " ('Paolo', 'Accorti', '543156'),\n",
       " ('Paolo', 'Accorti', '543190'),\n",
       " ('Pedro', 'Afonso', '542420')]"
      ]
     },
     "execution_count": 71,
     "metadata": {},
     "output_type": "execute_result"
    }
   ],
   "source": [
    "%%sql\n",
    "\n",
    "SELECT Customers.FirstName, Customers.LastName, Orders.OrderNumber\n",
    "From Customers INNER JOIN Orders ON Customers.Id = Orders.CustomerId\n",
    "Order by Customers.LastName\n",
    "Limit 7;\t"
   ]
  },
  {
   "cell_type": "markdown",
   "id": "06be68fe",
   "metadata": {},
   "source": [
    "Your answer:"
   ]
  },
  {
   "cell_type": "code",
   "execution_count": 72,
   "id": "1bd1cab1",
   "metadata": {},
   "outputs": [
    {
     "name": "stdout",
     "output_type": "stream",
     "text": [
      " * sqlite:///dbs/orderdb.sqlite\n",
      "Done.\n"
     ]
    },
    {
     "data": {
      "text/html": [
       "<table>\n",
       "    <thead>\n",
       "        <tr>\n",
       "            <th>1</th>\n",
       "        </tr>\n",
       "    </thead>\n",
       "    <tbody>\n",
       "        <tr>\n",
       "            <td>1</td>\n",
       "        </tr>\n",
       "    </tbody>\n",
       "</table>"
      ],
      "text/plain": [
       "[(1,)]"
      ]
     },
     "execution_count": 72,
     "metadata": {},
     "output_type": "execute_result"
    }
   ],
   "source": [
    "%%sql\n",
    "\n",
    "Select 1;"
   ]
  },
  {
   "cell_type": "markdown",
   "id": "7654402f",
   "metadata": {},
   "source": [
    "#### Ex.: F_002\n",
    "\n",
    "List the Products (by name) and their suppliers (by name). Order the list by product name and limit it to the first 10 entries."
   ]
  },
  {
   "cell_type": "code",
   "execution_count": 73,
   "id": "62d6e024",
   "metadata": {},
   "outputs": [
    {
     "name": "stdout",
     "output_type": "stream",
     "text": [
      " * sqlite:///dbs/orderdb.sqlite\n",
      "Done.\n"
     ]
    },
    {
     "data": {
      "text/html": [
       "<table>\n",
       "    <thead>\n",
       "        <tr>\n",
       "            <th>ProductName</th>\n",
       "            <th>CompanyName</th>\n",
       "        </tr>\n",
       "    </thead>\n",
       "    <tbody>\n",
       "        <tr>\n",
       "            <td>Alice Mutton</td>\n",
       "            <td>Pavlova, Ltd.</td>\n",
       "        </tr>\n",
       "        <tr>\n",
       "            <td>Aniseed Syrup</td>\n",
       "            <td>Exotic Liquids</td>\n",
       "        </tr>\n",
       "        <tr>\n",
       "            <td>Boston Crab Meat</td>\n",
       "            <td>New England Seafood Cannery</td>\n",
       "        </tr>\n",
       "        <tr>\n",
       "            <td>Camembert Pierrot</td>\n",
       "            <td>Gai pâturage</td>\n",
       "        </tr>\n",
       "        <tr>\n",
       "            <td>Carnarvon Tigers</td>\n",
       "            <td>Pavlova, Ltd.</td>\n",
       "        </tr>\n",
       "        <tr>\n",
       "            <td>Chai</td>\n",
       "            <td>Exotic Liquids</td>\n",
       "        </tr>\n",
       "        <tr>\n",
       "            <td>Chang</td>\n",
       "            <td>Exotic Liquids</td>\n",
       "        </tr>\n",
       "        <tr>\n",
       "            <td>Chartreuse verte</td>\n",
       "            <td>Aux joyeux ecclésiastiques</td>\n",
       "        </tr>\n",
       "        <tr>\n",
       "            <td>Chef Anton&#x27;s Cajun Seasoning</td>\n",
       "            <td>New Orleans Cajun Delights</td>\n",
       "        </tr>\n",
       "        <tr>\n",
       "            <td>Chef Anton&#x27;s Gumbo Mix</td>\n",
       "            <td>New Orleans Cajun Delights</td>\n",
       "        </tr>\n",
       "    </tbody>\n",
       "</table>"
      ],
      "text/plain": [
       "[('Alice Mutton', 'Pavlova, Ltd.'),\n",
       " ('Aniseed Syrup', 'Exotic Liquids'),\n",
       " ('Boston Crab Meat', 'New England Seafood Cannery'),\n",
       " ('Camembert Pierrot', 'Gai pâturage'),\n",
       " ('Carnarvon Tigers', 'Pavlova, Ltd.'),\n",
       " ('Chai', 'Exotic Liquids'),\n",
       " ('Chang', 'Exotic Liquids'),\n",
       " ('Chartreuse verte', 'Aux joyeux ecclésiastiques'),\n",
       " (\"Chef Anton's Cajun Seasoning\", 'New Orleans Cajun Delights'),\n",
       " (\"Chef Anton's Gumbo Mix\", 'New Orleans Cajun Delights')]"
      ]
     },
     "execution_count": 73,
     "metadata": {},
     "output_type": "execute_result"
    }
   ],
   "source": [
    "%%sql\n",
    "\n",
    "SELECT ProductName, CompanyName\n",
    "FROM Products\n",
    "INNER JOIN Suppliers ON Products.SupplierId = Suppliers.Id\n",
    "order by ProductName\n",
    "Limit 10;"
   ]
  },
  {
   "cell_type": "markdown",
   "id": "fdd2cc70",
   "metadata": {},
   "source": [
    "Your answer:"
   ]
  },
  {
   "cell_type": "code",
   "execution_count": 74,
   "id": "390abe1e",
   "metadata": {},
   "outputs": [
    {
     "name": "stdout",
     "output_type": "stream",
     "text": [
      " * sqlite:///dbs/orderdb.sqlite\n",
      "Done.\n"
     ]
    },
    {
     "data": {
      "text/html": [
       "<table>\n",
       "    <thead>\n",
       "        <tr>\n",
       "            <th>1</th>\n",
       "        </tr>\n",
       "    </thead>\n",
       "    <tbody>\n",
       "        <tr>\n",
       "            <td>1</td>\n",
       "        </tr>\n",
       "    </tbody>\n",
       "</table>"
      ],
      "text/plain": [
       "[(1,)]"
      ]
     },
     "execution_count": 74,
     "metadata": {},
     "output_type": "execute_result"
    }
   ],
   "source": [
    "%%sql\n",
    "\n",
    "Select 1;"
   ]
  },
  {
   "cell_type": "markdown",
   "id": "6189613b",
   "metadata": {},
   "source": [
    "#### Ex.: F_003\n",
    "\n",
    "Show the Customers (by name) and the number of orders they have placed, as long as they have more than 15 orders with us. Order the list by the last name of the customer."
   ]
  },
  {
   "cell_type": "code",
   "execution_count": 75,
   "id": "6904ecac",
   "metadata": {},
   "outputs": [
    {
     "name": "stdout",
     "output_type": "stream",
     "text": [
      " * sqlite:///dbs/orderdb.sqlite\n",
      "Done.\n"
     ]
    },
    {
     "data": {
      "text/html": [
       "<table>\n",
       "    <thead>\n",
       "        <tr>\n",
       "            <th>FirstName</th>\n",
       "            <th>LastName</th>\n",
       "            <th>count(*)</th>\n",
       "        </tr>\n",
       "    </thead>\n",
       "    <tbody>\n",
       "        <tr>\n",
       "            <td>Christina</td>\n",
       "            <td>Berglund</td>\n",
       "            <td>18</td>\n",
       "        </tr>\n",
       "        <tr>\n",
       "            <td>Carlos</td>\n",
       "            <td>Hernández</td>\n",
       "            <td>18</td>\n",
       "        </tr>\n",
       "        <tr>\n",
       "            <td>Horst</td>\n",
       "            <td>Kloss</td>\n",
       "            <td>28</td>\n",
       "        </tr>\n",
       "        <tr>\n",
       "            <td>Maria</td>\n",
       "            <td>Larsson</td>\n",
       "            <td>19</td>\n",
       "        </tr>\n",
       "        <tr>\n",
       "            <td>Laurence</td>\n",
       "            <td>Lebihan</td>\n",
       "            <td>17</td>\n",
       "        </tr>\n",
       "        <tr>\n",
       "            <td>Patricia</td>\n",
       "            <td>McKenna</td>\n",
       "            <td>19</td>\n",
       "        </tr>\n",
       "        <tr>\n",
       "            <td>Roland</td>\n",
       "            <td>Mendel</td>\n",
       "            <td>30</td>\n",
       "        </tr>\n",
       "        <tr>\n",
       "            <td>Jose</td>\n",
       "            <td>Pavarotti</td>\n",
       "            <td>31</td>\n",
       "        </tr>\n",
       "        <tr>\n",
       "            <td>Paula</td>\n",
       "            <td>Wilson</td>\n",
       "            <td>18</td>\n",
       "        </tr>\n",
       "    </tbody>\n",
       "</table>"
      ],
      "text/plain": [
       "[('Christina', 'Berglund', 18),\n",
       " ('Carlos', 'Hernández', 18),\n",
       " ('Horst', 'Kloss', 28),\n",
       " ('Maria', 'Larsson', 19),\n",
       " ('Laurence', 'Lebihan', 17),\n",
       " ('Patricia', 'McKenna', 19),\n",
       " ('Roland', 'Mendel', 30),\n",
       " ('Jose', 'Pavarotti', 31),\n",
       " ('Paula', 'Wilson', 18)]"
      ]
     },
     "execution_count": 75,
     "metadata": {},
     "output_type": "execute_result"
    }
   ],
   "source": [
    "%%sql\n",
    "\n",
    "SELECT Customers.FirstName, Customers.LastName, count(*)\n",
    "From Customers INNER JOIN Orders ON Customers.Id = Orders.CustomerId\n",
    "Group by Customers.FirstName, Customers.LastName\n",
    "Having count(*) > 15\n",
    "Order by Customers.LastName;\t"
   ]
  },
  {
   "cell_type": "markdown",
   "id": "4031427b",
   "metadata": {},
   "source": [
    "Your answer:"
   ]
  },
  {
   "cell_type": "code",
   "execution_count": 76,
   "id": "f13fe0c1",
   "metadata": {},
   "outputs": [
    {
     "name": "stdout",
     "output_type": "stream",
     "text": [
      " * sqlite:///dbs/orderdb.sqlite\n",
      "Done.\n"
     ]
    },
    {
     "data": {
      "text/html": [
       "<table>\n",
       "    <thead>\n",
       "        <tr>\n",
       "            <th>1</th>\n",
       "        </tr>\n",
       "    </thead>\n",
       "    <tbody>\n",
       "        <tr>\n",
       "            <td>1</td>\n",
       "        </tr>\n",
       "    </tbody>\n",
       "</table>"
      ],
      "text/plain": [
       "[(1,)]"
      ]
     },
     "execution_count": 76,
     "metadata": {},
     "output_type": "execute_result"
    }
   ],
   "source": [
    "%%sql\n",
    "\n",
    "Select 1;"
   ]
  },
  {
   "cell_type": "markdown",
   "id": "7a2e9076",
   "metadata": {},
   "source": [
    "#### Medium\n",
    "\n",
    "#### Ex.: F_020\n",
    "\n",
    "List the product names and the number of orders they appear in. Limit the list to the first 10 entries. Order the list by product name."
   ]
  },
  {
   "cell_type": "code",
   "execution_count": 77,
   "id": "2955d19b",
   "metadata": {},
   "outputs": [
    {
     "name": "stdout",
     "output_type": "stream",
     "text": [
      " * sqlite:///dbs/orderdb.sqlite\n",
      "Done.\n"
     ]
    },
    {
     "data": {
      "text/html": [
       "<table>\n",
       "    <thead>\n",
       "        <tr>\n",
       "            <th>ProductName</th>\n",
       "            <th>count(*)</th>\n",
       "        </tr>\n",
       "    </thead>\n",
       "    <tbody>\n",
       "        <tr>\n",
       "            <td>Alice Mutton</td>\n",
       "            <td>37</td>\n",
       "        </tr>\n",
       "        <tr>\n",
       "            <td>Aniseed Syrup</td>\n",
       "            <td>12</td>\n",
       "        </tr>\n",
       "        <tr>\n",
       "            <td>Boston Crab Meat</td>\n",
       "            <td>41</td>\n",
       "        </tr>\n",
       "        <tr>\n",
       "            <td>Camembert Pierrot</td>\n",
       "            <td>51</td>\n",
       "        </tr>\n",
       "        <tr>\n",
       "            <td>Carnarvon Tigers</td>\n",
       "            <td>27</td>\n",
       "        </tr>\n",
       "        <tr>\n",
       "            <td>Chai</td>\n",
       "            <td>38</td>\n",
       "        </tr>\n",
       "        <tr>\n",
       "            <td>Chang</td>\n",
       "            <td>44</td>\n",
       "        </tr>\n",
       "        <tr>\n",
       "            <td>Chartreuse verte</td>\n",
       "            <td>30</td>\n",
       "        </tr>\n",
       "        <tr>\n",
       "            <td>Chef Anton&#x27;s Cajun Seasoning</td>\n",
       "            <td>20</td>\n",
       "        </tr>\n",
       "        <tr>\n",
       "            <td>Chef Anton&#x27;s Gumbo Mix</td>\n",
       "            <td>10</td>\n",
       "        </tr>\n",
       "    </tbody>\n",
       "</table>"
      ],
      "text/plain": [
       "[('Alice Mutton', 37),\n",
       " ('Aniseed Syrup', 12),\n",
       " ('Boston Crab Meat', 41),\n",
       " ('Camembert Pierrot', 51),\n",
       " ('Carnarvon Tigers', 27),\n",
       " ('Chai', 38),\n",
       " ('Chang', 44),\n",
       " ('Chartreuse verte', 30),\n",
       " (\"Chef Anton's Cajun Seasoning\", 20),\n",
       " (\"Chef Anton's Gumbo Mix\", 10)]"
      ]
     },
     "execution_count": 77,
     "metadata": {},
     "output_type": "execute_result"
    }
   ],
   "source": [
    "%%sql\n",
    "\n",
    "SELECT Products.ProductName, count(*)\t\t\n",
    "FROM OrderItems\t\t\t\n",
    "INNER JOIN Products ON OrderItems.ProductId = Products.Id\t\t\t\n",
    "INNER JOIN Orders ON OrderItems.OrderId = Orders.Id\n",
    "Group by Products.ProductName\n",
    "order by ProductName\n",
    "Limit 10;"
   ]
  },
  {
   "cell_type": "markdown",
   "id": "e6f585f6",
   "metadata": {},
   "source": [
    "Your answer:"
   ]
  },
  {
   "cell_type": "code",
   "execution_count": 78,
   "id": "b1269ad7",
   "metadata": {},
   "outputs": [
    {
     "name": "stdout",
     "output_type": "stream",
     "text": [
      " * sqlite:///dbs/orderdb.sqlite\n",
      "Done.\n"
     ]
    },
    {
     "data": {
      "text/html": [
       "<table>\n",
       "    <thead>\n",
       "        <tr>\n",
       "            <th>1</th>\n",
       "        </tr>\n",
       "    </thead>\n",
       "    <tbody>\n",
       "        <tr>\n",
       "            <td>1</td>\n",
       "        </tr>\n",
       "    </tbody>\n",
       "</table>"
      ],
      "text/plain": [
       "[(1,)]"
      ]
     },
     "execution_count": 78,
     "metadata": {},
     "output_type": "execute_result"
    }
   ],
   "source": [
    "%%sql\n",
    "\n",
    "Select 1;"
   ]
  },
  {
   "cell_type": "markdown",
   "id": "d9d52c33",
   "metadata": {},
   "source": [
    "#### Ex.: F_021\n",
    "\n",
    "List the Order number, their total amount and the last name of the customer. Order the list by total amount (From high to low) and limit to the first 8 entries;"
   ]
  },
  {
   "cell_type": "code",
   "execution_count": 79,
   "id": "147b3779",
   "metadata": {},
   "outputs": [
    {
     "name": "stdout",
     "output_type": "stream",
     "text": [
      " * sqlite:///dbs/orderdb.sqlite\n",
      "Done.\n"
     ]
    },
    {
     "data": {
      "text/html": [
       "<table>\n",
       "    <thead>\n",
       "        <tr>\n",
       "            <th>OrderNumber</th>\n",
       "            <th>TotalAmount</th>\n",
       "            <th>LastName</th>\n",
       "        </tr>\n",
       "    </thead>\n",
       "    <tbody>\n",
       "        <tr>\n",
       "            <td>542995</td>\n",
       "            <td>17250.0</td>\n",
       "            <td>Kloss</td>\n",
       "        </tr>\n",
       "        <tr>\n",
       "            <td>543160</td>\n",
       "            <td>16321.9</td>\n",
       "            <td>Pavarotti</td>\n",
       "        </tr>\n",
       "        <tr>\n",
       "            <td>543111</td>\n",
       "            <td>15810.0</td>\n",
       "            <td>Pontes</td>\n",
       "        </tr>\n",
       "        <tr>\n",
       "            <td>542502</td>\n",
       "            <td>12281.2</td>\n",
       "            <td>Carvalho</td>\n",
       "        </tr>\n",
       "        <tr>\n",
       "            <td>542554</td>\n",
       "            <td>11493.2</td>\n",
       "            <td>Fresnière</td>\n",
       "        </tr>\n",
       "        <tr>\n",
       "            <td>542947</td>\n",
       "            <td>11490.7</td>\n",
       "            <td>Cramer</td>\n",
       "        </tr>\n",
       "        <tr>\n",
       "            <td>543019</td>\n",
       "            <td>11380.0</td>\n",
       "            <td>Wilson</td>\n",
       "        </tr>\n",
       "        <tr>\n",
       "            <td>542547</td>\n",
       "            <td>11283.2</td>\n",
       "            <td>Petersen</td>\n",
       "        </tr>\n",
       "    </tbody>\n",
       "</table>"
      ],
      "text/plain": [
       "[('542995', 17250.0, 'Kloss'),\n",
       " ('543160', 16321.9, 'Pavarotti'),\n",
       " ('543111', 15810.0, 'Pontes'),\n",
       " ('542502', 12281.2, 'Carvalho'),\n",
       " ('542554', 11493.2, 'Fresnière'),\n",
       " ('542947', 11490.7, 'Cramer'),\n",
       " ('543019', 11380.0, 'Wilson'),\n",
       " ('542547', 11283.2, 'Petersen')]"
      ]
     },
     "execution_count": 79,
     "metadata": {},
     "output_type": "execute_result"
    }
   ],
   "source": [
    "%%sql\n",
    "\n",
    "SELECT Orders.OrderNumber, Orders.TotalAmount, Customers.LastName\t\t\t\n",
    "FROM Orders\t\t\t\n",
    "JOIN Customers ON Orders.CustomerId = Customers.Id\n",
    "order by Orders.TotalAmount Desc\n",
    "Limit 8;"
   ]
  },
  {
   "cell_type": "markdown",
   "id": "ecec666d",
   "metadata": {},
   "source": [
    "Your answer:"
   ]
  },
  {
   "cell_type": "code",
   "execution_count": 80,
   "id": "3eeff1fb",
   "metadata": {},
   "outputs": [
    {
     "name": "stdout",
     "output_type": "stream",
     "text": [
      " * sqlite:///dbs/orderdb.sqlite\n",
      "Done.\n"
     ]
    },
    {
     "data": {
      "text/html": [
       "<table>\n",
       "    <thead>\n",
       "        <tr>\n",
       "            <th>1</th>\n",
       "        </tr>\n",
       "    </thead>\n",
       "    <tbody>\n",
       "        <tr>\n",
       "            <td>1</td>\n",
       "        </tr>\n",
       "    </tbody>\n",
       "</table>"
      ],
      "text/plain": [
       "[(1,)]"
      ]
     },
     "execution_count": 80,
     "metadata": {},
     "output_type": "execute_result"
    }
   ],
   "source": [
    "%%sql\n",
    "\n",
    "Select 1;"
   ]
  },
  {
   "cell_type": "markdown",
   "id": "e714457b",
   "metadata": {},
   "source": [
    "#### Ex.: F_022\n",
    "\n",
    "Show the customer's first name and the products they have ordered (one line per product). Order the list by product name."
   ]
  },
  {
   "cell_type": "code",
   "execution_count": 81,
   "id": "56104b6b",
   "metadata": {},
   "outputs": [
    {
     "name": "stdout",
     "output_type": "stream",
     "text": [
      " * sqlite:///dbs/orderdb.sqlite\n",
      "Done.\n"
     ]
    },
    {
     "data": {
      "text/html": [
       "<table>\n",
       "    <thead>\n",
       "        <tr>\n",
       "            <th>FirstName</th>\n",
       "            <th>ProductName</th>\n",
       "        </tr>\n",
       "    </thead>\n",
       "    <tbody>\n",
       "        <tr>\n",
       "            <td>Frédérique</td>\n",
       "            <td>Alice Mutton</td>\n",
       "        </tr>\n",
       "        <tr>\n",
       "            <td>Renate</td>\n",
       "            <td>Alice Mutton</td>\n",
       "        </tr>\n",
       "        <tr>\n",
       "            <td>Paula</td>\n",
       "            <td>Alice Mutton</td>\n",
       "        </tr>\n",
       "        <tr>\n",
       "            <td>Pascale</td>\n",
       "            <td>Alice Mutton</td>\n",
       "        </tr>\n",
       "        <tr>\n",
       "            <td>Miguel</td>\n",
       "            <td>Alice Mutton</td>\n",
       "        </tr>\n",
       "        <tr>\n",
       "            <td>Rene</td>\n",
       "            <td>Alice Mutton</td>\n",
       "        </tr>\n",
       "        <tr>\n",
       "            <td>Jean</td>\n",
       "            <td>Alice Mutton</td>\n",
       "        </tr>\n",
       "        <tr>\n",
       "            <td>Paula</td>\n",
       "            <td>Alice Mutton</td>\n",
       "        </tr>\n",
       "        <tr>\n",
       "            <td>Yoshi</td>\n",
       "            <td>Alice Mutton</td>\n",
       "        </tr>\n",
       "        <tr>\n",
       "            <td>Roland</td>\n",
       "            <td>Alice Mutton</td>\n",
       "        </tr>\n",
       "    </tbody>\n",
       "</table>"
      ],
      "text/plain": [
       "[('Frédérique', 'Alice Mutton'),\n",
       " ('Renate', 'Alice Mutton'),\n",
       " ('Paula', 'Alice Mutton'),\n",
       " ('Pascale', 'Alice Mutton'),\n",
       " ('Miguel', 'Alice Mutton'),\n",
       " ('Rene', 'Alice Mutton'),\n",
       " ('Jean', 'Alice Mutton'),\n",
       " ('Paula', 'Alice Mutton'),\n",
       " ('Yoshi', 'Alice Mutton'),\n",
       " ('Roland', 'Alice Mutton')]"
      ]
     },
     "execution_count": 81,
     "metadata": {},
     "output_type": "execute_result"
    }
   ],
   "source": [
    "%%sql\n",
    "\n",
    "SELECT Customers.FirstName, Products.ProductName\t\t\t\n",
    "FROM Customers\t\t\t\n",
    "INNER JOIN Orders ON Customers.Id = Orders.CustomerId\t\t\t\n",
    "INNER JOIN OrderItems ON Orders.Id = OrderItems.OrderId\t\t\t\n",
    "INNER JOIN Products ON OrderItems.ProductId = Products.Id\n",
    "Order by Productname\n",
    "Limit 10;"
   ]
  },
  {
   "cell_type": "markdown",
   "id": "518d9e0b",
   "metadata": {},
   "source": [
    "Your answer:"
   ]
  },
  {
   "cell_type": "code",
   "execution_count": 82,
   "id": "e6f50a36",
   "metadata": {},
   "outputs": [
    {
     "name": "stdout",
     "output_type": "stream",
     "text": [
      " * sqlite:///dbs/orderdb.sqlite\n",
      "Done.\n"
     ]
    },
    {
     "data": {
      "text/html": [
       "<table>\n",
       "    <thead>\n",
       "        <tr>\n",
       "            <th>1</th>\n",
       "        </tr>\n",
       "    </thead>\n",
       "    <tbody>\n",
       "        <tr>\n",
       "            <td>1</td>\n",
       "        </tr>\n",
       "    </tbody>\n",
       "</table>"
      ],
      "text/plain": [
       "[(1,)]"
      ]
     },
     "execution_count": 82,
     "metadata": {},
     "output_type": "execute_result"
    }
   ],
   "source": [
    "%%sql\n",
    "\n",
    "Select 1;"
   ]
  },
  {
   "cell_type": "markdown",
   "id": "bcec1aa1",
   "metadata": {},
   "source": [
    "#### Hard\n",
    "\n",
    "#### Ex.: F_040\n",
    "\n",
    "Provide a list with all products, their suppliers and the customers, who ordered them. Limit the list to 10 entries."
   ]
  },
  {
   "cell_type": "code",
   "execution_count": 83,
   "id": "33f519b5",
   "metadata": {},
   "outputs": [
    {
     "name": "stdout",
     "output_type": "stream",
     "text": [
      " * sqlite:///dbs/orderdb.sqlite\n",
      "Done.\n"
     ]
    },
    {
     "data": {
      "text/html": [
       "<table>\n",
       "    <thead>\n",
       "        <tr>\n",
       "            <th>ProductName</th>\n",
       "            <th>CompanyName</th>\n",
       "            <th>LastName</th>\n",
       "        </tr>\n",
       "    </thead>\n",
       "    <tbody>\n",
       "        <tr>\n",
       "            <td>Queso Cabrales</td>\n",
       "            <td>Cooperativa de Quesos &#x27;Las Cabras&#x27;</td>\n",
       "            <td>Henriot</td>\n",
       "        </tr>\n",
       "        <tr>\n",
       "            <td>Singaporean Hokkien Fried Mee</td>\n",
       "            <td>Leka Trading</td>\n",
       "            <td>Henriot</td>\n",
       "        </tr>\n",
       "        <tr>\n",
       "            <td>Mozzarella di Giovanni</td>\n",
       "            <td>Formaggi Fortini s.r.l.</td>\n",
       "            <td>Henriot</td>\n",
       "        </tr>\n",
       "        <tr>\n",
       "            <td>Tofu</td>\n",
       "            <td>Mayumi&#x27;s</td>\n",
       "            <td>Josephs</td>\n",
       "        </tr>\n",
       "        <tr>\n",
       "            <td>Manjimup Dried Apples</td>\n",
       "            <td>G&#x27;day, Mate</td>\n",
       "            <td>Josephs</td>\n",
       "        </tr>\n",
       "        <tr>\n",
       "            <td>Jack&#x27;s New England Clam Chowder</td>\n",
       "            <td>New England Seafood Cannery</td>\n",
       "            <td>Pontes</td>\n",
       "        </tr>\n",
       "        <tr>\n",
       "            <td>Manjimup Dried Apples</td>\n",
       "            <td>G&#x27;day, Mate</td>\n",
       "            <td>Pontes</td>\n",
       "        </tr>\n",
       "        <tr>\n",
       "            <td>Louisiana Fiery Hot Pepper Sauce</td>\n",
       "            <td>New Orleans Cajun Delights</td>\n",
       "            <td>Pontes</td>\n",
       "        </tr>\n",
       "        <tr>\n",
       "            <td>Gustaf&#x27;s Knäckebröd</td>\n",
       "            <td>PB Knäckebröd AB</td>\n",
       "            <td>Saveley</td>\n",
       "        </tr>\n",
       "        <tr>\n",
       "            <td>Ravioli Angelo</td>\n",
       "            <td>Pasta Buttini s.r.l.</td>\n",
       "            <td>Saveley</td>\n",
       "        </tr>\n",
       "    </tbody>\n",
       "</table>"
      ],
      "text/plain": [
       "[('Queso Cabrales', \"Cooperativa de Quesos 'Las Cabras'\", 'Henriot'),\n",
       " ('Singaporean Hokkien Fried Mee', 'Leka Trading', 'Henriot'),\n",
       " ('Mozzarella di Giovanni', 'Formaggi Fortini s.r.l.', 'Henriot'),\n",
       " ('Tofu', \"Mayumi's\", 'Josephs'),\n",
       " ('Manjimup Dried Apples', \"G'day, Mate\", 'Josephs'),\n",
       " (\"Jack's New England Clam Chowder\", 'New England Seafood Cannery', 'Pontes'),\n",
       " ('Manjimup Dried Apples', \"G'day, Mate\", 'Pontes'),\n",
       " ('Louisiana Fiery Hot Pepper Sauce', 'New Orleans Cajun Delights', 'Pontes'),\n",
       " (\"Gustaf's Knäckebröd\", 'PB Knäckebröd AB', 'Saveley'),\n",
       " ('Ravioli Angelo', 'Pasta Buttini s.r.l.', 'Saveley')]"
      ]
     },
     "execution_count": 83,
     "metadata": {},
     "output_type": "execute_result"
    }
   ],
   "source": [
    "%%sql\n",
    "\n",
    "SELECT Products.ProductName, Suppliers.CompanyName, Customers.LastName\t\t\t\n",
    "FROM OrderItems\t\t\t\n",
    "JOIN Products ON OrderItems.ProductId = Products.Id\t\t\t\n",
    "JOIN Suppliers ON Products.SupplierId = Suppliers.Id\t\t\t\n",
    "JOIN Orders ON OrderItems.OrderId = Orders.Id\t\t\t\n",
    "JOIN Customers ON Orders.CustomerId = Customers.Id\n",
    "Limit 10;"
   ]
  },
  {
   "cell_type": "markdown",
   "id": "30972ee1",
   "metadata": {},
   "source": [
    "Your answer:"
   ]
  },
  {
   "cell_type": "code",
   "execution_count": 84,
   "id": "1d8e03aa",
   "metadata": {},
   "outputs": [
    {
     "name": "stdout",
     "output_type": "stream",
     "text": [
      " * sqlite:///dbs/orderdb.sqlite\n",
      "Done.\n"
     ]
    },
    {
     "data": {
      "text/html": [
       "<table>\n",
       "    <thead>\n",
       "        <tr>\n",
       "            <th>1</th>\n",
       "        </tr>\n",
       "    </thead>\n",
       "    <tbody>\n",
       "        <tr>\n",
       "            <td>1</td>\n",
       "        </tr>\n",
       "    </tbody>\n",
       "</table>"
      ],
      "text/plain": [
       "[(1,)]"
      ]
     },
     "execution_count": 84,
     "metadata": {},
     "output_type": "execute_result"
    }
   ],
   "source": [
    "%%sql\n",
    "\n",
    "Select 1;"
   ]
  },
  {
   "cell_type": "markdown",
   "id": "50e00193",
   "metadata": {},
   "source": [
    "### Special topic:  Correlated subrequests / subqueries\n",
    "\n",
    "A correlated subrequest is a query inside of another query, which references an attribute of the outer query. In consequence, the correlated subselect is executed once for every record (row) of the outer query.\n",
    "\n",
    "The following Select statement with a subselect finds all customers, who have placed at least one order:\n",
    "\n",
    "> SELECT FirstName, LastName \n",
    "FROM Customers C\n",
    "WHERE EXISTS (\n",
    "    SELECT 1 \n",
    "    FROM Orders O \n",
    "    WHERE O.CustomerId = C.Id\n",
    ");\n",
    "\n",
    "Such subselects can be nested over multiple levels. But this Notebook does not go into this.\n",
    "\n",
    "Such subselects can usually be written differently without the subselects. Which version to use depends on a number of criteria, the most dominant being the performance of the query. \n",
    "\n",
    "This table contains 3 different ways to achieve the same result as the correlated subselect above:\n",
    "\n",
    "\n",
    "| Original:<br />Correlated Subselect | Alternative 1<br />Join + Distinct | Alternative 2<br />In operator | Alternative 3<br />Inner Join with Group by |\n",
    "| ----------------------------- | - | - | - |\n",
    "| SELECT FirstName, LastName<br />FROM Customers C<br />WHERE EXISTS (<br />    SELECT 1<br />    FROM Orders O<br />    WHERE O.CustomerId = C.Id<br />); | SELECT DISTINCT Customers.FirstName, Customers.LastName<br />FROM Customers<br />JOIN Orders ON Customers.Id = Orders.CustomerId; | SELECT FirstName, LastName <br />FROM Customers <br />WHERE Id IN (SELECT CustomerId FROM Orders); | SELECT Customers.FirstName, Customers.LastName<br />FROM Customers<br />JOIN Orders ON Customers.Id = Orders.CustomerId<br />GROUP BY Customers.Id |\n",
    "\n",
    "Each DBMS provides tools, which calculate the \"cost\" of a query, trying to express, how performant it is in terms of cpu and memory utilization. \n",
    "\n"
   ]
  },
  {
   "cell_type": "markdown",
   "id": "17a43675",
   "metadata": {},
   "source": [
    "### Special topic: Transactions\n",
    "\n",
    "A transaction is a group of one or more SQL statements that are executed as a single unit. The goal is to ensure that either all operations succeed together, or none of them take effect at all.\n",
    "\n",
    "Think of a transaction like a bank transfer:\n",
    "\n",
    "1. You want to withdraw money from Account A and deposit it into Account B.\n",
    "2. If only one of those steps succeeds, something's gone wrong — the system must roll back both steps.\n",
    "\n",
    "A transaction follows the ACID principles:\n",
    "\n",
    "| Property | Description | \n",
    "| -------- | ----------- | \n",
    "| Atomicity   | All operations succeed or none at all.                                 | \n",
    "| Consistency | The database moves from one valid state to another.                    | \n",
    "| Isolation\t  | Concurrent transactions don’t interfere with each other.               | \n",
    "| Durability  | Once committed, the transaction stays committed—even after power loss. | \n",
    "\n",
    "The table below shows the basic transaction commands:\n",
    "\n",
    "| Command | Explanation | \n",
    "| ------- | ------------ | \n",
    "| <Nothing> | Depending on the setting of Autocommit in the DB any statement after the end of a transaction starts a new transaction. | \n",
    "| Begin; <br /> Begin Transaction; | Start of a transaction | \n",
    "| Commit;                          | Saves changes permanently | \n",
    "| Rollback;                        | Undo all changes since the BEGIN | \n",
    "| --------------------------       | | \n",
    "| Savepoint #name;                 | Defines a point within a transaction to go back to when needed. | \n",
    "| Rollback to #name;               | Go back to Savepoint #name | \n",
    "| Release Savepoint #name          | Free resources while transaction is still running | \n",
    "\n",
    "*Example:*\n",
    "\n",
    "> BEGIN;<br /><br />\n",
    "UPDATE Products SET UnitPrice = UnitPrice * 0.9;<br /><br />\n",
    "SAVEPOINT before_delete;<br />\n",
    "DELETE FROM Products WHERE UnitPrice < 1;<br /><br />\n",
    "-- Oops! Too much<br />\n",
    "ROLLBACK TO before_delete;<br /><br />\n",
    "-- Changes before the Savepoint are kept<br /><br />\n",
    "COMMIT;"
   ]
  },
  {
   "cell_type": "markdown",
   "id": "c89fc5a7",
   "metadata": {},
   "source": [
    "### Special topic:  Null values\n",
    "\n",
    "In SQL, NULL means \"unknown\", \"missing\", or \"not applicable\" — it does not mean zero, empty string, or false. Almost any attributes can contain NUll as a value. \n",
    "\n",
    "There are attributes, which cannot be NULL. One of them is the primary key of a table (which values need to be unique also). All other attributes might have a constraint put on them while creating the database (NOT NULL). A foreign key, on the other hand, can be null, even multiple records can have a null value as foreign key. This simply means, that there is no entry in the table the foreign key points to, which is linked with the record in question.\n",
    "\n",
    "#### Testing for Null\n",
    "\n",
    "Comparing for Null is different from any other comparison. One cannot make use of the equal (=) sign. Instead, one uses the operator IS NULL or testing for not Null with IS NOT NULL.\n",
    "\n",
    "> SELECT * FROM Customers WHERE Phone IS NULL;\n",
    "\n",
    "One should notice, that greater than ( > NULL) or less than ( < NULL) also do not work.\n",
    "\n",
    "#### Using COALESCE() to replace Null\n",
    "\n",
    "Coalesce replaces Null values with a provided value. It returns any other value unaltered.\n",
    "\n",
    "> SELECT FirstName, COALESCE(Phone, 'No phone') AS Contact\n",
    "FROM Customers;\n",
    "\n",
    "#### Aggregation & NULL\n",
    "\n",
    "Aggregate functions ignore NULL values.\n",
    "\n",
    "> Select count(*) from Suppliers;\n",
    "\n",
    "This returns 31 records counted.\n",
    "\n",
    "> Select count(Fax) from Suppliers;\n",
    "\n",
    "This returns only 15 entries, as 16 are Null, as can be seen in this query:\n",
    "\n",
    "\n",
    "> Select count(*) from Suppliers where Fax is NULL;\n"
   ]
  }
 ],
 "metadata": {
  "kernelspec": {
   "display_name": "Python 3 (ipykernel)",
   "language": "python",
   "name": "python3"
  },
  "language_info": {
   "codemirror_mode": {
    "name": "ipython",
    "version": 3
   },
   "file_extension": ".py",
   "mimetype": "text/x-python",
   "name": "python",
   "nbconvert_exporter": "python",
   "pygments_lexer": "ipython3",
   "version": "3.13.2"
  }
 },
 "nbformat": 4,
 "nbformat_minor": 5
}
